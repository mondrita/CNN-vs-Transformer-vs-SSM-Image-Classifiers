{
 "cells": [
  {
   "cell_type": "code",
   "execution_count": 1,
   "id": "7fdad781",
   "metadata": {
    "_cell_guid": "b1076dfc-b9ad-4769-8c92-a6c4dae69d19",
    "_uuid": "8f2839f25d086af736a60e9eeb907d3b93b6e0e5",
    "execution": {
     "iopub.execute_input": "2024-12-23T14:52:17.274329Z",
     "iopub.status.busy": "2024-12-23T14:52:17.274044Z",
     "iopub.status.idle": "2024-12-23T14:52:24.483124Z",
     "shell.execute_reply": "2024-12-23T14:52:24.482261Z"
    },
    "papermill": {
     "duration": 7.215908,
     "end_time": "2024-12-23T14:52:24.484742",
     "exception": false,
     "start_time": "2024-12-23T14:52:17.268834",
     "status": "completed"
    },
    "tags": []
   },
   "outputs": [],
   "source": [
    "import os\n",
    "import pandas as pd\n",
    "import numpy as np\n",
    "import matplotlib.pyplot as plt\n",
    "import seaborn as sns\n",
    "\n",
    "import torch\n",
    "import torch.nn as nn\n",
    "import torch.optim as optim\n",
    "import torch.nn.functional as F\n",
    "from torch.utils.data import DataLoader,random_split\n",
    "from sklearn.model_selection import train_test_split\n",
    "from torch.utils.data import DataLoader, Subset, WeightedRandomSampler\n",
    "\n",
    "from torchvision import transforms, datasets\n",
    "\n",
    "from sklearn.metrics import (\n",
    "    roc_curve,\n",
    "    auc,\n",
    "    confusion_matrix,\n",
    "    precision_score,\n",
    "    recall_score,\n",
    "    f1_score\n",
    ")\n",
    "from sklearn.utils import class_weight\n",
    "\n",
    "from PIL import Image\n",
    "from torch.optim.lr_scheduler import StepLR\n",
    "import random\n"
   ]
  },
  {
   "cell_type": "code",
   "execution_count": 2,
   "id": "ddf7143f",
   "metadata": {
    "execution": {
     "iopub.execute_input": "2024-12-23T14:52:24.493728Z",
     "iopub.status.busy": "2024-12-23T14:52:24.493375Z",
     "iopub.status.idle": "2024-12-23T14:52:24.505000Z",
     "shell.execute_reply": "2024-12-23T14:52:24.504391Z"
    },
    "papermill": {
     "duration": 0.017143,
     "end_time": "2024-12-23T14:52:24.506265",
     "exception": false,
     "start_time": "2024-12-23T14:52:24.489122",
     "status": "completed"
    },
    "tags": []
   },
   "outputs": [],
   "source": [
    "seed = 42\n",
    "torch.manual_seed(seed)           \n",
    "random.seed(seed)                  \n",
    "np.random.seed(seed)               \n",
    "torch.cuda.manual_seed(seed)       \n",
    "torch.backends.cudnn.deterministic = True  \n",
    "torch.backends.cudnn.benchmark = False"
   ]
  },
  {
   "cell_type": "markdown",
   "id": "d9eeff0c",
   "metadata": {
    "papermill": {
     "duration": 0.003292,
     "end_time": "2024-12-23T14:52:24.513291",
     "exception": false,
     "start_time": "2024-12-23T14:52:24.509999",
     "status": "completed"
    },
    "tags": []
   },
   "source": [
    "# **Data Preprocessing**"
   ]
  },
  {
   "cell_type": "code",
   "execution_count": 3,
   "id": "eee379b8",
   "metadata": {
    "execution": {
     "iopub.execute_input": "2024-12-23T14:52:24.521015Z",
     "iopub.status.busy": "2024-12-23T14:52:24.520755Z",
     "iopub.status.idle": "2024-12-23T14:52:24.523674Z",
     "shell.execute_reply": "2024-12-23T14:52:24.523072Z"
    },
    "papermill": {
     "duration": 0.007977,
     "end_time": "2024-12-23T14:52:24.524740",
     "exception": false,
     "start_time": "2024-12-23T14:52:24.516763",
     "status": "completed"
    },
    "tags": []
   },
   "outputs": [],
   "source": [
    "train_data_path = '/kaggle/input/flame-ds/Training/Training'\n",
    "test_data_path = '/kaggle/input/flame-ds/Test/Test'"
   ]
  },
  {
   "cell_type": "code",
   "execution_count": 4,
   "id": "ea41fbed",
   "metadata": {
    "execution": {
     "iopub.execute_input": "2024-12-23T14:52:24.532338Z",
     "iopub.status.busy": "2024-12-23T14:52:24.532123Z",
     "iopub.status.idle": "2024-12-23T14:52:51.072287Z",
     "shell.execute_reply": "2024-12-23T14:52:51.071516Z"
    },
    "papermill": {
     "duration": 26.545461,
     "end_time": "2024-12-23T14:52:51.073595",
     "exception": false,
     "start_time": "2024-12-23T14:52:24.528134",
     "status": "completed"
    },
    "tags": []
   },
   "outputs": [
    {
     "name": "stdout",
     "output_type": "stream",
     "text": [
      "Class-to-Index Mapping: {'Fire': 0, 'No_Fire': 1}\n",
      "Label Counts:\n",
      "Fire: 25018 images\n",
      "No_Fire: 14357 images\n"
     ]
    }
   ],
   "source": [
    "from collections import Counter\n",
    "\n",
    "# Load dataset\n",
    "train_dataset = datasets.ImageFolder(root=train_data_path)\n",
    "\n",
    "# Print class-to-index mapping\n",
    "print(\"Class-to-Index Mapping:\", train_dataset.class_to_idx)\n",
    "\n",
    "# Get counts of each label\n",
    "label_counts = Counter([sample[1] for sample in train_dataset.samples])\n",
    "\n",
    "# Print counts for each label\n",
    "print(\"Label Counts:\")\n",
    "for label, count in label_counts.items():\n",
    "    class_name = list(train_dataset.class_to_idx.keys())[list(train_dataset.class_to_idx.values()).index(label)]\n",
    "    print(f\"{class_name}: {count} images\")\n"
   ]
  },
  {
   "cell_type": "code",
   "execution_count": 5,
   "id": "e24e6a76",
   "metadata": {
    "execution": {
     "iopub.execute_input": "2024-12-23T14:52:51.082046Z",
     "iopub.status.busy": "2024-12-23T14:52:51.081767Z",
     "iopub.status.idle": "2024-12-23T14:52:51.087114Z",
     "shell.execute_reply": "2024-12-23T14:52:51.086431Z"
    },
    "papermill": {
     "duration": 0.010597,
     "end_time": "2024-12-23T14:52:51.088196",
     "exception": false,
     "start_time": "2024-12-23T14:52:51.077599",
     "status": "completed"
    },
    "tags": []
   },
   "outputs": [],
   "source": [
    "train_transforms = transforms.Compose([\n",
    "    transforms.Resize((224, 224)),  # Resize\n",
    "    transforms.RandomHorizontalFlip(p=0.5),  # Horizontal flip\n",
    "    transforms.RandomVerticalFlip(p=0.5),  # Vertical flip\n",
    "    transforms.RandomRotation(degrees=10),  # Rotation\n",
    "    transforms.ColorJitter(brightness=0.2, contrast=0.2, saturation=0.2),  # Color jitter\n",
    "    transforms.GaussianBlur(kernel_size=(3, 3), sigma=(0.1, 0.5)),  # Gaussian noise\n",
    "    transforms.ToTensor(),  # Convert to Tensor\n",
    "    transforms.Normalize(mean=[0.485, 0.456, 0.406], std=[0.229, 0.224, 0.225])  # Normalize\n",
    "])\n",
    "\n",
    "test_transforms = transforms.Compose([\n",
    "    transforms.Resize((224, 224)),  # Resize\n",
    "    transforms.ToTensor(),  # Convert to Tensor\n",
    "    transforms.Normalize(mean=[0.485, 0.456, 0.406], std=[0.229, 0.224, 0.225])  # Normalize\n",
    "])"
   ]
  },
  {
   "cell_type": "code",
   "execution_count": 6,
   "id": "90071cf1",
   "metadata": {
    "execution": {
     "iopub.execute_input": "2024-12-23T14:52:51.095802Z",
     "iopub.status.busy": "2024-12-23T14:52:51.095595Z",
     "iopub.status.idle": "2024-12-23T14:53:09.774198Z",
     "shell.execute_reply": "2024-12-23T14:53:09.773324Z"
    },
    "papermill": {
     "duration": 18.683871,
     "end_time": "2024-12-23T14:53:09.775541",
     "exception": false,
     "start_time": "2024-12-23T14:52:51.091670",
     "status": "completed"
    },
    "tags": []
   },
   "outputs": [
    {
     "name": "stdout",
     "output_type": "stream",
     "text": [
      "Training Set Size: 36025 images\n",
      "Validation Set Size: 9007 images\n",
      "Testing Set Size: 8617 images\n"
     ]
    }
   ],
   "source": [
    "from imblearn.over_sampling import RandomOverSampler\n",
    "\n",
    "# Load datasets (without transformations initially)\n",
    "train_dataset = datasets.ImageFolder(root=train_data_path)\n",
    "test_dataset = datasets.ImageFolder(root=test_data_path, transform=test_transforms)\n",
    "\n",
    "# Oversampling to balance classes\n",
    "indices = list(range(len(train_dataset)))\n",
    "targets = [sample[1] for sample in train_dataset.samples]  # Labels for each sample\n",
    "\n",
    "ros = RandomOverSampler(sampling_strategy=0.8, random_state=42)\n",
    "resampled_indices, resampled_targets = ros.fit_resample(np.array(indices).reshape(-1, 1), targets)\n",
    "resampled_indices = resampled_indices.flatten()\n",
    "\n",
    "# Create oversampled subset\n",
    "train_subset = Subset(train_dataset, resampled_indices)\n",
    "train_subset.dataset.transform = train_transforms  # Apply augmentation to the subset\n",
    "\n",
    "# Stratified train-validation split (80-20)\n",
    "from sklearn.model_selection import train_test_split\n",
    "\n",
    "train_indices, val_indices = train_test_split(\n",
    "    range(len(train_subset)),\n",
    "    test_size=0.2,\n",
    "    stratify=resampled_targets,\n",
    "    random_state=42\n",
    ")\n",
    "\n",
    "train_split = Subset(train_subset, train_indices)\n",
    "val_split = Subset(train_subset, val_indices)\n",
    "\n",
    "# Apply test transforms to validation subset\n",
    "val_split.dataset.transform = test_transforms\n",
    "\n",
    "# Data loaders\n",
    "train_loader = DataLoader(train_split, batch_size=32, shuffle=True, num_workers=2)\n",
    "val_loader = DataLoader(val_split, batch_size=32, shuffle=False, num_workers=2)\n",
    "test_loader = DataLoader(test_dataset, batch_size=32, shuffle=False, num_workers=2)\n",
    "\n",
    "# Print dataset sizes\n",
    "print(f\"Training Set Size: {len(train_split)} images\")\n",
    "print(f\"Validation Set Size: {len(val_split)} images\")\n",
    "print(f\"Testing Set Size: {len(test_dataset)} images\")"
   ]
  },
  {
   "cell_type": "code",
   "execution_count": 7,
   "id": "1a40c57f",
   "metadata": {
    "execution": {
     "iopub.execute_input": "2024-12-23T14:53:09.784341Z",
     "iopub.status.busy": "2024-12-23T14:53:09.783986Z",
     "iopub.status.idle": "2024-12-23T14:53:09.794469Z",
     "shell.execute_reply": "2024-12-23T14:53:09.793760Z"
    },
    "papermill": {
     "duration": 0.015763,
     "end_time": "2024-12-23T14:53:09.795543",
     "exception": false,
     "start_time": "2024-12-23T14:53:09.779780",
     "status": "completed"
    },
    "tags": []
   },
   "outputs": [
    {
     "name": "stdout",
     "output_type": "stream",
     "text": [
      "\n",
      "Training Label Distribution:\n",
      "Class 0: 20014 samples\n",
      "Class 1: 16011 samples\n",
      "\n",
      "Validation Label Distribution:\n",
      "Class 0: 5004 samples\n",
      "Class 1: 4003 samples\n"
     ]
    }
   ],
   "source": [
    "from collections import Counter\n",
    "\n",
    "# Directly count labels for train_split and val_split using resampled_targets\n",
    "def subset_label_counts(subset_indices, resampled_targets):\n",
    "    # Map the subset indices to resampled_targets\n",
    "    labels = [resampled_targets[i] for i in subset_indices]\n",
    "    return Counter(labels)\n",
    "\n",
    "# Count labels for train and validation splits\n",
    "train_label_counts = subset_label_counts(train_indices, resampled_targets)\n",
    "val_label_counts = subset_label_counts(val_indices, resampled_targets)\n",
    "\n",
    "print(\"\\nTraining Label Distribution:\")\n",
    "for label, count in sorted(train_label_counts.items()):\n",
    "    print(f\"Class {label}: {count} samples\")\n",
    "\n",
    "print(\"\\nValidation Label Distribution:\")\n",
    "for label, count in sorted(val_label_counts.items()):\n",
    "    print(f\"Class {label}: {count} samples\")\n"
   ]
  },
  {
   "cell_type": "markdown",
   "id": "751ec5a4",
   "metadata": {
    "papermill": {
     "duration": 0.003608,
     "end_time": "2024-12-23T14:53:09.803381",
     "exception": false,
     "start_time": "2024-12-23T14:53:09.799773",
     "status": "completed"
    },
    "tags": []
   },
   "source": [
    "# **Load Model**"
   ]
  },
  {
   "cell_type": "code",
   "execution_count": 8,
   "id": "d1b6bec8",
   "metadata": {
    "execution": {
     "iopub.execute_input": "2024-12-23T14:53:09.811514Z",
     "iopub.status.busy": "2024-12-23T14:53:09.811307Z",
     "iopub.status.idle": "2024-12-23T14:53:10.573614Z",
     "shell.execute_reply": "2024-12-23T14:53:10.572893Z"
    },
    "papermill": {
     "duration": 0.768034,
     "end_time": "2024-12-23T14:53:10.575192",
     "exception": false,
     "start_time": "2024-12-23T14:53:09.807158",
     "status": "completed"
    },
    "tags": []
   },
   "outputs": [
    {
     "name": "stderr",
     "output_type": "stream",
     "text": [
      "Downloading: \"https://download.pytorch.org/models/efficientnet_b0_rwightman-7f5810bc.pth\" to /root/.cache/torch/hub/checkpoints/efficientnet_b0_rwightman-7f5810bc.pth\n",
      "100%|██████████| 20.5M/20.5M [00:00<00:00, 182MB/s]\n"
     ]
    }
   ],
   "source": [
    "from torchvision.models import efficientnet_b0, EfficientNet_B0_Weights\n",
    "\n",
    "# Load a pretrained EfficientNet-B0 model\n",
    "model = efficientnet_b0(weights=EfficientNet_B0_Weights.IMAGENET1K_V1)\n",
    "num_features = model.classifier[1].in_features\n",
    "model.classifier[1] = nn.Linear(num_features, 2)  # 2 for binary classification\n",
    "\n",
    "device = 'cuda' if torch.cuda.is_available() else 'cpu'\n",
    "model = model.to(device)"
   ]
  },
  {
   "cell_type": "code",
   "execution_count": 9,
   "id": "ddab11f7",
   "metadata": {
    "execution": {
     "iopub.execute_input": "2024-12-23T14:53:10.584482Z",
     "iopub.status.busy": "2024-12-23T14:53:10.584230Z",
     "iopub.status.idle": "2024-12-23T14:53:10.591456Z",
     "shell.execute_reply": "2024-12-23T14:53:10.590594Z"
    },
    "papermill": {
     "duration": 0.012975,
     "end_time": "2024-12-23T14:53:10.592632",
     "exception": false,
     "start_time": "2024-12-23T14:53:10.579657",
     "status": "completed"
    },
    "tags": []
   },
   "outputs": [
    {
     "name": "stderr",
     "output_type": "stream",
     "text": [
      "/usr/local/lib/python3.10/dist-packages/torch/optim/lr_scheduler.py:60: UserWarning: The verbose parameter is deprecated. Please use get_last_lr() to access the learning rate.\n",
      "  warnings.warn(\n"
     ]
    }
   ],
   "source": [
    "criterion = nn.CrossEntropyLoss()\n",
    "optimizer = optim.AdamW(model.parameters(), lr=1e-4, weight_decay=1e-4)\n",
    "scheduler = optim.lr_scheduler.ReduceLROnPlateau(optimizer, mode='min', patience=5, factor=0.1, verbose=True)"
   ]
  },
  {
   "cell_type": "markdown",
   "id": "b4718b40",
   "metadata": {
    "papermill": {
     "duration": 0.003803,
     "end_time": "2024-12-23T14:53:10.600485",
     "exception": false,
     "start_time": "2024-12-23T14:53:10.596682",
     "status": "completed"
    },
    "tags": []
   },
   "source": [
    "# **Train**"
   ]
  },
  {
   "cell_type": "code",
   "execution_count": 10,
   "id": "a183e466",
   "metadata": {
    "execution": {
     "iopub.execute_input": "2024-12-23T14:53:10.609018Z",
     "iopub.status.busy": "2024-12-23T14:53:10.608758Z",
     "iopub.status.idle": "2024-12-23T14:53:10.613311Z",
     "shell.execute_reply": "2024-12-23T14:53:10.612560Z"
    },
    "papermill": {
     "duration": 0.010242,
     "end_time": "2024-12-23T14:53:10.614675",
     "exception": false,
     "start_time": "2024-12-23T14:53:10.604433",
     "status": "completed"
    },
    "tags": []
   },
   "outputs": [],
   "source": [
    "# Early Stopping Class\n",
    "class EarlyStopping:\n",
    "    def __init__(self, patience=5, delta=0.0):\n",
    "        self.patience = patience\n",
    "        self.delta = delta\n",
    "        self.best_loss = float('inf')\n",
    "        self.counter = 0\n",
    "        self.early_stop = False\n",
    "\n",
    "    def __call__(self, val_loss):\n",
    "        if val_loss < self.best_loss - self.delta:\n",
    "            self.best_loss = val_loss\n",
    "            self.counter = 0\n",
    "        else:\n",
    "            self.counter += 1\n",
    "            if self.counter >= self.patience:\n",
    "                print(\"Early stopping triggered!\")\n",
    "                self.early_stop = True"
   ]
  },
  {
   "cell_type": "code",
   "execution_count": 11,
   "id": "d46e232f",
   "metadata": {
    "execution": {
     "iopub.execute_input": "2024-12-23T14:53:10.623189Z",
     "iopub.status.busy": "2024-12-23T14:53:10.622981Z",
     "iopub.status.idle": "2024-12-23T14:53:10.636808Z",
     "shell.execute_reply": "2024-12-23T14:53:10.636173Z"
    },
    "papermill": {
     "duration": 0.019516,
     "end_time": "2024-12-23T14:53:10.638081",
     "exception": false,
     "start_time": "2024-12-23T14:53:10.618565",
     "status": "completed"
    },
    "tags": []
   },
   "outputs": [],
   "source": [
    "import torch\n",
    "import time\n",
    "from tqdm import tqdm\n",
    "\n",
    "def train_and_evaluate(model, train_loader, val_loader, optimizer, scheduler, criterion, device, patience=5, num_epochs=50):\n",
    "    early_stopping = EarlyStopping(patience=patience)\n",
    "    model.to(device)\n",
    "\n",
    "    # Lists to track metrics\n",
    "    train_losses, val_losses, train_accuracies, val_accuracies, learning_rates = [], [], [], [], []\n",
    "    gpu_usage, fps = [], []\n",
    "\n",
    "    for epoch in range(num_epochs):\n",
    "        # Fetch and print the current learning rate\n",
    "        current_lr = optimizer.param_groups[0]['lr']\n",
    "        learning_rates.append(current_lr)  # Track learning rate\n",
    "        print(f\"\\nEpoch {epoch+1}/{num_epochs}, Learning Rate: {current_lr:.6f}\")\n",
    "\n",
    "        model.train()\n",
    "        train_loss, correct, total = 0.0, 0, 0\n",
    "\n",
    "        # GPU memory tracking\n",
    "        start_time = time.time()\n",
    "        for images, labels in tqdm(train_loader, desc=\"Training Batches\"):\n",
    "            images, labels = images.to(device), labels.to(device)\n",
    "            optimizer.zero_grad()\n",
    "\n",
    "            # Forward pass\n",
    "            outputs = model(images)\n",
    "\n",
    "            # Check for logits attribute (e.g., in DeiT models)\n",
    "            if hasattr(outputs, 'logits'):\n",
    "                outputs = outputs.logits\n",
    "\n",
    "            # Compute loss and backpropagate\n",
    "            loss = criterion(outputs, labels)\n",
    "            loss.backward()\n",
    "            optimizer.step()\n",
    "\n",
    "            train_loss += loss.item()\n",
    "            _, predicted = outputs.max(1)\n",
    "            total += labels.size(0)\n",
    "            correct += predicted.eq(labels).sum().item()\n",
    "\n",
    "        # Monitor GPU memory usage\n",
    "        gpu_allocated = torch.cuda.memory_allocated(device) / (1024 ** 3)  # Convert to GB\n",
    "        gpu_reserved = torch.cuda.memory_reserved(device) / (1024 ** 3)   # Convert to GB\n",
    "        gpu_usage.append((gpu_allocated, gpu_reserved))\n",
    "\n",
    "        epoch_loss = train_loss / len(train_loader)\n",
    "        epoch_acc = 100. * correct / total\n",
    "        train_losses.append(epoch_loss)  # Track training loss\n",
    "        train_accuracies.append(epoch_acc)  # Track training accuracy\n",
    "\n",
    "        # Measure FPS\n",
    "        end_time = time.time()\n",
    "        fps_epoch = len(train_loader.dataset) / (end_time - start_time)\n",
    "        fps.append(fps_epoch)\n",
    "\n",
    "        print(f\"Training Loss: {epoch_loss:.4f}, Training Accuracy: {epoch_acc:.2f}%, FPS: {fps_epoch:.2f}\")\n",
    "        print(f\"GPU Memory Allocated: {gpu_allocated:.2f} GB, GPU Memory Reserved: {gpu_reserved:.2f} GB\")\n",
    "\n",
    "        # Validation Phase\n",
    "        model.eval()\n",
    "        val_loss, correct, total = 0.0, 0, 0\n",
    "        with torch.no_grad():\n",
    "            for images, labels in tqdm(val_loader, desc=\"Validation Batches\"):\n",
    "                images, labels = images.to(device), labels.to(device)\n",
    "                outputs = model(images)\n",
    "\n",
    "                # Check for logits attribute\n",
    "                if hasattr(outputs, 'logits'):\n",
    "                    outputs = outputs.logits\n",
    "\n",
    "                loss = criterion(outputs, labels)\n",
    "                val_loss += loss.item()\n",
    "                _, predicted = outputs.max(1)\n",
    "                total += labels.size(0)\n",
    "                correct += predicted.eq(labels).sum().item()\n",
    "\n",
    "        val_epoch_loss = val_loss / len(val_loader)\n",
    "        val_epoch_acc = 100. * correct / total\n",
    "        val_losses.append(val_epoch_loss)  # Track validation loss\n",
    "        val_accuracies.append(val_epoch_acc)  # Track validation accuracy\n",
    "        print(f\"Validation Loss: {val_epoch_loss:.4f}, Validation Accuracy: {val_epoch_acc:.2f}%\")\n",
    "\n",
    "        # Step the LR scheduler\n",
    "        scheduler.step(val_epoch_loss)\n",
    "\n",
    "        # Early Stopping Check\n",
    "        early_stopping(val_epoch_loss)\n",
    "        if early_stopping.early_stop:\n",
    "            print(\"Stopping early due to convergence.\")\n",
    "            break\n",
    "\n",
    "    # Plot Results\n",
    "    plot_results(train_losses, val_losses, train_accuracies, val_accuracies, learning_rates, fps, gpu_usage)\n",
    "\n",
    "\n",
    "def plot_results(train_losses, val_losses, train_accuracies, val_accuracies, learning_rates, fps, gpu_usage):\n",
    "    # Learning Rate\n",
    "    plt.figure(figsize=(8, 6))\n",
    "    plt.plot(range(1, len(learning_rates) + 1), learning_rates, marker='o')\n",
    "    plt.xlabel(\"Epochs\")\n",
    "    plt.ylabel(\"Learning Rate\")\n",
    "    plt.title(\"Learning Rate Schedule\")\n",
    "    plt.grid()\n",
    "    plt.show()\n",
    "\n",
    "    # Training vs Validation Accuracy\n",
    "    plt.figure(figsize=(8, 6))\n",
    "    plt.plot(range(1, len(train_accuracies) + 1), train_accuracies, label=\"Training Accuracy\", marker='o')\n",
    "    plt.plot(range(1, len(val_accuracies) + 1), val_accuracies, label=\"Validation Accuracy\", marker='o')\n",
    "    plt.xlabel(\"Epochs\")\n",
    "    plt.ylabel(\"Accuracy (%)\")\n",
    "    plt.title(\"Training vs Validation Accuracy\")\n",
    "    plt.legend()\n",
    "    plt.grid()\n",
    "    plt.show()\n",
    "\n",
    "    # FPS\n",
    "    plt.figure(figsize=(8, 6))\n",
    "    plt.plot(range(1, len(fps) + 1), fps, marker='o')\n",
    "    plt.xlabel(\"Epochs\")\n",
    "    plt.ylabel(\"Frames Per Second (FPS)\")\n",
    "    plt.title(\"Training Speed (FPS)\")\n",
    "    plt.grid()\n",
    "    plt.show()\n",
    "\n",
    "    # GPU Usage\n",
    "    allocated, reserved = zip(*gpu_usage)\n",
    "    plt.figure(figsize=(8, 6))\n",
    "    plt.plot(range(len(allocated)), allocated, label=\"GPU Allocated (GB)\")\n",
    "    plt.plot(range(len(reserved)), reserved, label=\"GPU Reserved (GB)\")\n",
    "    plt.xlabel(\"Batches\")\n",
    "    plt.ylabel(\"GPU Memory (GB)\")\n",
    "    plt.title(\"GPU Memory Usage\")\n",
    "    plt.legend()\n",
    "    plt.grid()\n",
    "    plt.show()\n"
   ]
  },
  {
   "cell_type": "code",
   "execution_count": 12,
   "id": "b530ede0",
   "metadata": {
    "execution": {
     "iopub.execute_input": "2024-12-23T14:53:10.646716Z",
     "iopub.status.busy": "2024-12-23T14:53:10.646515Z",
     "iopub.status.idle": "2024-12-23T15:48:20.172690Z",
     "shell.execute_reply": "2024-12-23T15:48:20.171666Z"
    },
    "papermill": {
     "duration": 3309.532071,
     "end_time": "2024-12-23T15:48:20.174147",
     "exception": false,
     "start_time": "2024-12-23T14:53:10.642076",
     "status": "completed"
    },
    "tags": []
   },
   "outputs": [
    {
     "name": "stdout",
     "output_type": "stream",
     "text": [
      "\n",
      "Epoch 1/50, Learning Rate: 0.000100\n"
     ]
    },
    {
     "name": "stderr",
     "output_type": "stream",
     "text": [
      "Training Batches: 100%|██████████| 1126/1126 [04:05<00:00,  4.60it/s]\n"
     ]
    },
    {
     "name": "stdout",
     "output_type": "stream",
     "text": [
      "Training Loss: 0.0261, Training Accuracy: 99.22%, FPS: 147.03\n",
      "GPU Memory Allocated: 0.09 GB, GPU Memory Reserved: 3.16 GB\n"
     ]
    },
    {
     "name": "stderr",
     "output_type": "stream",
     "text": [
      "Validation Batches: 100%|██████████| 282/282 [00:57<00:00,  4.93it/s]\n"
     ]
    },
    {
     "name": "stdout",
     "output_type": "stream",
     "text": [
      "Validation Loss: 0.0055, Validation Accuracy: 99.88%\n",
      "\n",
      "Epoch 2/50, Learning Rate: 0.000100\n"
     ]
    },
    {
     "name": "stderr",
     "output_type": "stream",
     "text": [
      "Training Batches: 100%|██████████| 1126/1126 [03:38<00:00,  5.15it/s]\n"
     ]
    },
    {
     "name": "stdout",
     "output_type": "stream",
     "text": [
      "Training Loss: 0.0063, Training Accuracy: 99.80%, FPS: 164.80\n",
      "GPU Memory Allocated: 0.09 GB, GPU Memory Reserved: 3.16 GB\n"
     ]
    },
    {
     "name": "stderr",
     "output_type": "stream",
     "text": [
      "Validation Batches: 100%|██████████| 282/282 [00:47<00:00,  5.92it/s]\n"
     ]
    },
    {
     "name": "stdout",
     "output_type": "stream",
     "text": [
      "Validation Loss: 0.0024, Validation Accuracy: 99.93%\n",
      "\n",
      "Epoch 3/50, Learning Rate: 0.000100\n"
     ]
    },
    {
     "name": "stderr",
     "output_type": "stream",
     "text": [
      "Training Batches: 100%|██████████| 1126/1126 [03:39<00:00,  5.14it/s]\n"
     ]
    },
    {
     "name": "stdout",
     "output_type": "stream",
     "text": [
      "Training Loss: 0.0034, Training Accuracy: 99.90%, FPS: 164.44\n",
      "GPU Memory Allocated: 0.09 GB, GPU Memory Reserved: 3.16 GB\n"
     ]
    },
    {
     "name": "stderr",
     "output_type": "stream",
     "text": [
      "Validation Batches: 100%|██████████| 282/282 [00:47<00:00,  5.98it/s]\n"
     ]
    },
    {
     "name": "stdout",
     "output_type": "stream",
     "text": [
      "Validation Loss: 0.0033, Validation Accuracy: 99.86%\n",
      "\n",
      "Epoch 4/50, Learning Rate: 0.000100\n"
     ]
    },
    {
     "name": "stderr",
     "output_type": "stream",
     "text": [
      "Training Batches: 100%|██████████| 1126/1126 [03:41<00:00,  5.08it/s]\n"
     ]
    },
    {
     "name": "stdout",
     "output_type": "stream",
     "text": [
      "Training Loss: 0.0035, Training Accuracy: 99.88%, FPS: 162.48\n",
      "GPU Memory Allocated: 0.09 GB, GPU Memory Reserved: 3.16 GB\n"
     ]
    },
    {
     "name": "stderr",
     "output_type": "stream",
     "text": [
      "Validation Batches: 100%|██████████| 282/282 [00:48<00:00,  5.77it/s]\n"
     ]
    },
    {
     "name": "stdout",
     "output_type": "stream",
     "text": [
      "Validation Loss: 0.0036, Validation Accuracy: 99.94%\n",
      "\n",
      "Epoch 5/50, Learning Rate: 0.000100\n"
     ]
    },
    {
     "name": "stderr",
     "output_type": "stream",
     "text": [
      "Training Batches: 100%|██████████| 1126/1126 [03:43<00:00,  5.03it/s]\n"
     ]
    },
    {
     "name": "stdout",
     "output_type": "stream",
     "text": [
      "Training Loss: 0.0040, Training Accuracy: 99.90%, FPS: 160.89\n",
      "GPU Memory Allocated: 0.09 GB, GPU Memory Reserved: 3.16 GB\n"
     ]
    },
    {
     "name": "stderr",
     "output_type": "stream",
     "text": [
      "Validation Batches: 100%|██████████| 282/282 [00:49<00:00,  5.68it/s]\n"
     ]
    },
    {
     "name": "stdout",
     "output_type": "stream",
     "text": [
      "Validation Loss: 0.0025, Validation Accuracy: 99.92%\n",
      "\n",
      "Epoch 6/50, Learning Rate: 0.000100\n"
     ]
    },
    {
     "name": "stderr",
     "output_type": "stream",
     "text": [
      "Training Batches: 100%|██████████| 1126/1126 [03:43<00:00,  5.04it/s]\n"
     ]
    },
    {
     "name": "stdout",
     "output_type": "stream",
     "text": [
      "Training Loss: 0.0031, Training Accuracy: 99.91%, FPS: 161.31\n",
      "GPU Memory Allocated: 0.09 GB, GPU Memory Reserved: 3.16 GB\n"
     ]
    },
    {
     "name": "stderr",
     "output_type": "stream",
     "text": [
      "Validation Batches: 100%|██████████| 282/282 [00:48<00:00,  5.86it/s]\n"
     ]
    },
    {
     "name": "stdout",
     "output_type": "stream",
     "text": [
      "Validation Loss: 0.0035, Validation Accuracy: 99.94%\n",
      "\n",
      "Epoch 7/50, Learning Rate: 0.000100\n"
     ]
    },
    {
     "name": "stderr",
     "output_type": "stream",
     "text": [
      "Training Batches: 100%|██████████| 1126/1126 [03:43<00:00,  5.04it/s]\n"
     ]
    },
    {
     "name": "stdout",
     "output_type": "stream",
     "text": [
      "Training Loss: 0.0034, Training Accuracy: 99.89%, FPS: 161.40\n",
      "GPU Memory Allocated: 0.09 GB, GPU Memory Reserved: 3.16 GB\n"
     ]
    },
    {
     "name": "stderr",
     "output_type": "stream",
     "text": [
      "Validation Batches: 100%|██████████| 282/282 [00:49<00:00,  5.65it/s]\n"
     ]
    },
    {
     "name": "stdout",
     "output_type": "stream",
     "text": [
      "Validation Loss: 0.0020, Validation Accuracy: 99.96%\n",
      "\n",
      "Epoch 8/50, Learning Rate: 0.000100\n"
     ]
    },
    {
     "name": "stderr",
     "output_type": "stream",
     "text": [
      "Training Batches: 100%|██████████| 1126/1126 [03:47<00:00,  4.94it/s]\n"
     ]
    },
    {
     "name": "stdout",
     "output_type": "stream",
     "text": [
      "Training Loss: 0.0031, Training Accuracy: 99.90%, FPS: 158.17\n",
      "GPU Memory Allocated: 0.09 GB, GPU Memory Reserved: 3.16 GB\n"
     ]
    },
    {
     "name": "stderr",
     "output_type": "stream",
     "text": [
      "Validation Batches: 100%|██████████| 282/282 [00:50<00:00,  5.59it/s]\n"
     ]
    },
    {
     "name": "stdout",
     "output_type": "stream",
     "text": [
      "Validation Loss: 0.0043, Validation Accuracy: 99.89%\n",
      "\n",
      "Epoch 9/50, Learning Rate: 0.000100\n"
     ]
    },
    {
     "name": "stderr",
     "output_type": "stream",
     "text": [
      "Training Batches: 100%|██████████| 1126/1126 [03:45<00:00,  4.99it/s]\n"
     ]
    },
    {
     "name": "stdout",
     "output_type": "stream",
     "text": [
      "Training Loss: 0.0024, Training Accuracy: 99.92%, FPS: 159.50\n",
      "GPU Memory Allocated: 0.09 GB, GPU Memory Reserved: 3.16 GB\n"
     ]
    },
    {
     "name": "stderr",
     "output_type": "stream",
     "text": [
      "Validation Batches: 100%|██████████| 282/282 [00:48<00:00,  5.84it/s]\n"
     ]
    },
    {
     "name": "stdout",
     "output_type": "stream",
     "text": [
      "Validation Loss: 0.0022, Validation Accuracy: 99.96%\n",
      "\n",
      "Epoch 10/50, Learning Rate: 0.000100\n"
     ]
    },
    {
     "name": "stderr",
     "output_type": "stream",
     "text": [
      "Training Batches: 100%|██████████| 1126/1126 [03:47<00:00,  4.95it/s]\n"
     ]
    },
    {
     "name": "stdout",
     "output_type": "stream",
     "text": [
      "Training Loss: 0.0030, Training Accuracy: 99.93%, FPS: 158.34\n",
      "GPU Memory Allocated: 0.09 GB, GPU Memory Reserved: 3.16 GB\n"
     ]
    },
    {
     "name": "stderr",
     "output_type": "stream",
     "text": [
      "Validation Batches: 100%|██████████| 282/282 [00:48<00:00,  5.80it/s]\n"
     ]
    },
    {
     "name": "stdout",
     "output_type": "stream",
     "text": [
      "Validation Loss: 0.0058, Validation Accuracy: 99.86%\n",
      "\n",
      "Epoch 11/50, Learning Rate: 0.000100\n"
     ]
    },
    {
     "name": "stderr",
     "output_type": "stream",
     "text": [
      "Training Batches: 100%|██████████| 1126/1126 [03:48<00:00,  4.93it/s]\n"
     ]
    },
    {
     "name": "stdout",
     "output_type": "stream",
     "text": [
      "Training Loss: 0.0026, Training Accuracy: 99.92%, FPS: 157.83\n",
      "GPU Memory Allocated: 0.09 GB, GPU Memory Reserved: 3.16 GB\n"
     ]
    },
    {
     "name": "stderr",
     "output_type": "stream",
     "text": [
      "Validation Batches: 100%|██████████| 282/282 [00:49<00:00,  5.70it/s]\n"
     ]
    },
    {
     "name": "stdout",
     "output_type": "stream",
     "text": [
      "Validation Loss: 0.0034, Validation Accuracy: 99.88%\n",
      "\n",
      "Epoch 12/50, Learning Rate: 0.000100\n"
     ]
    },
    {
     "name": "stderr",
     "output_type": "stream",
     "text": [
      "Training Batches: 100%|██████████| 1126/1126 [03:47<00:00,  4.95it/s]\n"
     ]
    },
    {
     "name": "stdout",
     "output_type": "stream",
     "text": [
      "Training Loss: 0.0022, Training Accuracy: 99.94%, FPS: 158.34\n",
      "GPU Memory Allocated: 0.09 GB, GPU Memory Reserved: 3.16 GB\n"
     ]
    },
    {
     "name": "stderr",
     "output_type": "stream",
     "text": [
      "Validation Batches: 100%|██████████| 282/282 [00:51<00:00,  5.51it/s]\n"
     ]
    },
    {
     "name": "stdout",
     "output_type": "stream",
     "text": [
      "Validation Loss: 0.0065, Validation Accuracy: 99.84%\n",
      "Early stopping triggered!\n",
      "Stopping early due to convergence.\n"
     ]
    },
    {
     "data": {
      "image/png": "[encoded data removed]",
      "text/plain": [
       "<Figure size 800x600 with 1 Axes>"
      ]
     },
     "metadata": {},
     "output_type": "display_data"
    },
    {
     "data": {
      "image/png": "[encoded data removed]",
      "text/plain": [
       "<Figure size 800x600 with 1 Axes>"
      ]
     },
     "metadata": {},
     "output_type": "display_data"
    },
    {
     "data": {
      "image/png": "[encoded data removed]",
      "text/plain": [
       "<Figure size 800x600 with 1 Axes>"
      ]
     },
     "metadata": {},
     "output_type": "display_data"
    },
    {
     "data": {
      "image/png": "[encoded data removed]",
      "text/plain": [
       "<Figure size 800x600 with 1 Axes>"
      ]
     },
     "metadata": {},
     "output_type": "display_data"
    }
   ],
   "source": [
    "results = train_and_evaluate(\n",
    "    model=model,\n",
    "    train_loader=train_loader,\n",
    "    val_loader=val_loader,\n",
    "    optimizer=optimizer,\n",
    "    scheduler=scheduler,\n",
    "    criterion=criterion,\n",
    "    device=device,\n",
    "    patience=5,  \n",
    "    num_epochs=50\n",
    ")\n"
   ]
  },
  {
   "cell_type": "markdown",
   "id": "2d00d5cf",
   "metadata": {
    "papermill": {
     "duration": 0.695149,
     "end_time": "2024-12-23T15:48:21.616899",
     "exception": false,
     "start_time": "2024-12-23T15:48:20.921750",
     "status": "completed"
    },
    "tags": []
   },
   "source": [
    "# **Evaluation**"
   ]
  },
  {
   "cell_type": "code",
   "execution_count": 13,
   "id": "f605f72a",
   "metadata": {
    "execution": {
     "iopub.execute_input": "2024-12-23T15:48:23.086815Z",
     "iopub.status.busy": "2024-12-23T15:48:23.086483Z",
     "iopub.status.idle": "2024-12-23T15:48:23.096785Z",
     "shell.execute_reply": "2024-12-23T15:48:23.095950Z"
    },
    "papermill": {
     "duration": 0.703272,
     "end_time": "2024-12-23T15:48:23.098193",
     "exception": false,
     "start_time": "2024-12-23T15:48:22.394921",
     "status": "completed"
    },
    "tags": []
   },
   "outputs": [],
   "source": [
    "def evaluate_model_with_metrics(model, loader, binary_classification=True):\n",
    "    model.eval()\n",
    "    all_preds = []\n",
    "    all_labels = []\n",
    "    all_probs = []  \n",
    "    correct = 0\n",
    "    total = 0\n",
    "\n",
    "    with torch.no_grad():\n",
    "        for images, labels in loader:\n",
    "            images, labels = images.to('cuda'), labels.to('cuda')\n",
    "            \n",
    "            # Get model outputs\n",
    "            outputs = model(images)\n",
    "            \n",
    "            # For DeiT models, extract logits\n",
    "            if hasattr(outputs, 'logits'):  \n",
    "                outputs = outputs.logits\n",
    "            \n",
    "            # Get predicted classes\n",
    "            _, predicted = outputs.max(1)\n",
    "\n",
    "            # Accumulate metrics\n",
    "            total += labels.size(0)\n",
    "            correct += predicted.eq(labels).sum().item()\n",
    "            all_preds.extend(predicted.cpu().numpy())\n",
    "            all_labels.extend(labels.cpu().numpy())\n",
    "\n",
    "            # Probabilities for ROC AUC\n",
    "            if binary_classification:\n",
    "                probabilities = F.softmax(outputs, dim=1)[:, 1].cpu().numpy()\n",
    "                all_probs.extend(probabilities)\n",
    "\n",
    "    # Accuracy\n",
    "    accuracy = 100. * correct / total\n",
    "    print(f\"Accuracy on test set: {accuracy:.2f}%\")\n",
    "\n",
    "    all_preds = np.array(all_preds)\n",
    "    all_labels = np.array(all_labels)\n",
    "\n",
    "    # Confusion Matrix\n",
    "    cm = confusion_matrix(all_labels, all_preds)\n",
    "    print(\"Confusion Matrix:\\n\", cm)\n",
    "\n",
    "    plt.figure(figsize=(8, 6))\n",
    "    sns.heatmap(cm, annot=True, fmt='d', cmap='Blues', xticklabels=np.unique(all_labels),\n",
    "                yticklabels=np.unique(all_labels), cbar=False)\n",
    "    plt.xlabel('Predicted Labels')\n",
    "    plt.ylabel('True Labels')\n",
    "    plt.title('Confusion Matrix')\n",
    "    plt.show()\n",
    "\n",
    "    # Precision, Recall, F1-Score\n",
    "    precision = precision_score(all_labels, all_preds, average='binary' if binary_classification else 'weighted')\n",
    "    recall = recall_score(all_labels, all_preds, average='binary' if binary_classification else 'weighted')\n",
    "    f1 = f1_score(all_labels, all_preds, average='binary' if binary_classification else 'weighted')\n",
    "    print(f\"Precision: {precision:.4f}\")\n",
    "    print(f\"Recall: {recall:.4f}\")\n",
    "    print(f\"F1-Score: {f1:.4f}\")\n",
    "\n",
    "    # AUC-ROC and ROC Curve (for binary classification)\n",
    "    if binary_classification:\n",
    "        all_probs = np.array(all_probs)\n",
    "        if len(np.unique(all_labels)) == 2: \n",
    "            fpr, tpr, _ = roc_curve(all_labels, all_probs)\n",
    "            auc_score = auc(fpr, tpr)\n",
    "            print(f\"AUC-ROC: {auc_score:.4f}\")\n",
    "\n",
    "            # Plot ROC Curve\n",
    "            plt.figure()\n",
    "            plt.plot(fpr, tpr, color='blue', lw=2, label=f'ROC curve (AUC = {auc_score:.4f})')\n",
    "            plt.plot([0, 1], [0, 1], color='red', linestyle='--', lw=2)\n",
    "            plt.xlabel('False Positive Rate')\n",
    "            plt.ylabel('True Positive Rate')\n",
    "            plt.title('Receiver Operating Characteristic (ROC) Curve')\n",
    "            plt.legend(loc=\"lower right\")\n",
    "            plt.grid()\n",
    "            plt.show()\n",
    "        else:\n",
    "            print(\"AUC-ROC is not supported for multi-class tasks without modification.\")"
   ]
  },
  {
   "cell_type": "code",
   "execution_count": 14,
   "id": "b74c02d8",
   "metadata": {
    "execution": {
     "iopub.execute_input": "2024-12-23T15:48:24.584306Z",
     "iopub.status.busy": "2024-12-23T15:48:24.584027Z",
     "iopub.status.idle": "2024-12-23T15:49:04.166182Z",
     "shell.execute_reply": "2024-12-23T15:49:04.165445Z"
    },
    "papermill": {
     "duration": 40.925748,
     "end_time": "2024-12-23T15:49:04.761165",
     "exception": false,
     "start_time": "2024-12-23T15:48:23.835417",
     "status": "completed"
    },
    "tags": []
   },
   "outputs": [
    {
     "name": "stdout",
     "output_type": "stream",
     "text": [
      "Accuracy on test set: 80.72%\n",
      "Confusion Matrix:\n",
      " [[3860 1277]\n",
      " [ 384 3096]]\n"
     ]
    },
    {
     "data": {
      "image/png": "[encoded data removed]",
      "text/plain": [
       "<Figure size 800x600 with 1 Axes>"
      ]
     },
     "metadata": {},
     "output_type": "display_data"
    },
    {
     "name": "stdout",
     "output_type": "stream",
     "text": [
      "Precision: 0.7080\n",
      "Recall: 0.8897\n",
      "F1-Score: 0.7885\n",
      "AUC-ROC: 0.9184\n"
     ]
    },
    {
     "data": {
      "image/png": "[encoded data removed]",
      "text/plain": [
       "<Figure size 640x480 with 1 Axes>"
      ]
     },
     "metadata": {},
     "output_type": "display_data"
    }
   ],
   "source": [
    "evaluate_model_with_metrics(model, test_loader, binary_classification=True)"
   ]
  },
  {
   "cell_type": "markdown",
   "id": "4fc6ad8e",
   "metadata": {
    "papermill": {
     "duration": 0.742646,
     "end_time": "2024-12-23T15:49:06.247611",
     "exception": false,
     "start_time": "2024-12-23T15:49:05.504965",
     "status": "completed"
    },
    "tags": []
   },
   "source": [
    "# **Save Model**"
   ]
  },
  {
   "cell_type": "code",
   "execution_count": 15,
   "id": "facedfef",
   "metadata": {
    "execution": {
     "iopub.execute_input": "2024-12-23T15:49:07.687837Z",
     "iopub.status.busy": "2024-12-23T15:49:07.687518Z",
     "iopub.status.idle": "2024-12-23T15:49:07.744915Z",
     "shell.execute_reply": "2024-12-23T15:49:07.743958Z"
    },
    "papermill": {
     "duration": 0.809654,
     "end_time": "2024-12-23T15:49:07.746386",
     "exception": false,
     "start_time": "2024-12-23T15:49:06.936732",
     "status": "completed"
    },
    "tags": []
   },
   "outputs": [
    {
     "name": "stdout",
     "output_type": "stream",
     "text": [
      "Models saved successfully to /kaggle/working/\n"
     ]
    }
   ],
   "source": [
    "# File paths to save models\n",
    "resnet18_path_50epochs = '/kaggle/working/model.pth'\n",
    "\n",
    "torch.save(model.state_dict(), resnet18_path_50epochs)\n",
    "\n",
    "print(\"Models saved successfully to /kaggle/working/\")"
   ]
  }
 ],
 "metadata": {
  "kaggle": {
   "accelerator": "nvidiaTeslaT4",
   "dataSources": [
    {
     "datasetId": 6271724,
     "sourceId": 10157629,
     "sourceType": "datasetVersion"
    },
    {
     "datasetId": 6271993,
     "sourceId": 10157971,
     "sourceType": "datasetVersion"
    },
    {
     "datasetId": 6331858,
     "sourceId": 10239120,
     "sourceType": "datasetVersion"
    }
   ],
   "dockerImageVersionId": 30823,
   "isGpuEnabled": true,
   "isInternetEnabled": true,
   "language": "python",
   "sourceType": "notebook"
  },
  "kernelspec": {
   "display_name": "Python 3",
   "language": "python",
   "name": "python3"
  },
  "language_info": {
   "codemirror_mode": {
    "name": "ipython",
    "version": 3
   },
   "file_extension": ".py",
   "mimetype": "text/x-python",
   "name": "python",
   "nbconvert_exporter": "python",
   "pygments_lexer": "ipython3",
   "version": "3.10.12"
  },
  "papermill": {
   "default_parameters": {},
   "duration": 3415.764694,
   "end_time": "2024-12-23T15:49:10.776260",
   "environment_variables": {},
   "exception": null,
   "input_path": "__notebook__.ipynb",
   "output_path": "__notebook__.ipynb",
   "parameters": {},
   "start_time": "2024-12-23T14:52:15.011566",
   "version": "2.6.0"
  }
 },
 "nbformat": 4,
 "nbformat_minor": 5
}
