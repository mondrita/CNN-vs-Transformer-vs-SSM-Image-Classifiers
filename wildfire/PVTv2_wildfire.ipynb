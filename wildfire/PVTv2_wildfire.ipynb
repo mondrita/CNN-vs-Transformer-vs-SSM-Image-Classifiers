{
 "cells": [
  {
   "cell_type": "code",
   "execution_count": 1,
   "id": "6fad583e",
   "metadata": {
    "_cell_guid": "b1076dfc-b9ad-4769-8c92-a6c4dae69d19",
    "_uuid": "8f2839f25d086af736a60e9eeb907d3b93b6e0e5",
    "execution": {
     "iopub.execute_input": "2024-12-23T12:28:43.571758Z",
     "iopub.status.busy": "2024-12-23T12:28:43.571413Z",
     "iopub.status.idle": "2024-12-23T12:28:49.755791Z",
     "shell.execute_reply": "2024-12-23T12:28:49.754954Z"
    },
    "papermill": {
     "duration": 6.192298,
     "end_time": "2024-12-23T12:28:49.757476",
     "exception": false,
     "start_time": "2024-12-23T12:28:43.565178",
     "status": "completed"
    },
    "tags": []
   },
   "outputs": [],
   "source": [
    "import os\n",
    "import pandas as pd\n",
    "import numpy as np\n",
    "import matplotlib.pyplot as plt\n",
    "import seaborn as sns\n",
    "\n",
    "import torch\n",
    "import torch.nn as nn\n",
    "import torch.optim as optim\n",
    "import torch.nn.functional as F\n",
    "from torch.utils.data import DataLoader,random_split\n",
    "from sklearn.model_selection import train_test_split\n",
    "from torch.utils.data import DataLoader, Subset, WeightedRandomSampler\n",
    "\n",
    "from torchvision import transforms, datasets\n",
    "\n",
    "from sklearn.metrics import (\n",
    "    roc_curve,\n",
    "    auc,\n",
    "    confusion_matrix,\n",
    "    precision_score,\n",
    "    recall_score,\n",
    "    f1_score\n",
    ")\n",
    "from sklearn.utils import class_weight\n",
    "\n",
    "from PIL import Image\n",
    "from torch.optim.lr_scheduler import StepLR\n",
    "import random\n"
   ]
  },
  {
   "cell_type": "code",
   "execution_count": 2,
   "id": "5c21c7f7",
   "metadata": {
    "execution": {
     "iopub.execute_input": "2024-12-23T12:28:49.766494Z",
     "iopub.status.busy": "2024-12-23T12:28:49.765983Z",
     "iopub.status.idle": "2024-12-23T12:28:49.777213Z",
     "shell.execute_reply": "2024-12-23T12:28:49.776460Z"
    },
    "papermill": {
     "duration": 0.016969,
     "end_time": "2024-12-23T12:28:49.778593",
     "exception": false,
     "start_time": "2024-12-23T12:28:49.761624",
     "status": "completed"
    },
    "tags": []
   },
   "outputs": [],
   "source": [
    "seed = 42\n",
    "torch.manual_seed(seed)           \n",
    "random.seed(seed)                  \n",
    "np.random.seed(seed)               \n",
    "torch.cuda.manual_seed(seed)       \n",
    "torch.backends.cudnn.deterministic = True  \n",
    "torch.backends.cudnn.benchmark = False"
   ]
  },
  {
   "cell_type": "markdown",
   "id": "cebfe8ae",
   "metadata": {
    "papermill": {
     "duration": 0.003385,
     "end_time": "2024-12-23T12:28:49.785655",
     "exception": false,
     "start_time": "2024-12-23T12:28:49.782270",
     "status": "completed"
    },
    "tags": []
   },
   "source": [
    "# **Data Preprocessing**"
   ]
  },
  {
   "cell_type": "code",
   "execution_count": 3,
   "id": "27b19c50",
   "metadata": {
    "execution": {
     "iopub.execute_input": "2024-12-23T12:28:49.793743Z",
     "iopub.status.busy": "2024-12-23T12:28:49.793366Z",
     "iopub.status.idle": "2024-12-23T12:28:49.797062Z",
     "shell.execute_reply": "2024-12-23T12:28:49.796294Z"
    },
    "papermill": {
     "duration": 0.009107,
     "end_time": "2024-12-23T12:28:49.798209",
     "exception": false,
     "start_time": "2024-12-23T12:28:49.789102",
     "status": "completed"
    },
    "tags": []
   },
   "outputs": [],
   "source": [
    "train_data_path = '/kaggle/input/flame-ds/Training/Training'\n",
    "test_data_path = '/kaggle/input/flame-ds/Test/Test'"
   ]
  },
  {
   "cell_type": "code",
   "execution_count": 4,
   "id": "8ad27234",
   "metadata": {
    "execution": {
     "iopub.execute_input": "2024-12-23T12:28:49.806033Z",
     "iopub.status.busy": "2024-12-23T12:28:49.805738Z",
     "iopub.status.idle": "2024-12-23T12:29:36.343305Z",
     "shell.execute_reply": "2024-12-23T12:29:36.342456Z"
    },
    "papermill": {
     "duration": 46.546661,
     "end_time": "2024-12-23T12:29:36.348380",
     "exception": false,
     "start_time": "2024-12-23T12:28:49.801719",
     "status": "completed"
    },
    "tags": []
   },
   "outputs": [
    {
     "name": "stdout",
     "output_type": "stream",
     "text": [
      "Class-to-Index Mapping: {'Fire': 0, 'No_Fire': 1}\n",
      "Label Counts:\n",
      "Fire: 25018 images\n",
      "No_Fire: 14357 images\n"
     ]
    }
   ],
   "source": [
    "from collections import Counter\n",
    "\n",
    "# Load dataset\n",
    "train_dataset = datasets.ImageFolder(root=train_data_path)\n",
    "\n",
    "# Print class-to-index mapping\n",
    "print(\"Class-to-Index Mapping:\", train_dataset.class_to_idx)\n",
    "\n",
    "# Get counts of each label\n",
    "label_counts = Counter([sample[1] for sample in train_dataset.samples])\n",
    "\n",
    "# Print counts for each label\n",
    "print(\"Label Counts:\")\n",
    "for label, count in label_counts.items():\n",
    "    class_name = list(train_dataset.class_to_idx.keys())[list(train_dataset.class_to_idx.values()).index(label)]\n",
    "    print(f\"{class_name}: {count} images\")\n"
   ]
  },
  {
   "cell_type": "code",
   "execution_count": 5,
   "id": "f3c8b4e7",
   "metadata": {
    "execution": {
     "iopub.execute_input": "2024-12-23T12:29:36.356287Z",
     "iopub.status.busy": "2024-12-23T12:29:36.356030Z",
     "iopub.status.idle": "2024-12-23T12:29:36.361879Z",
     "shell.execute_reply": "2024-12-23T12:29:36.360900Z"
    },
    "papermill": {
     "duration": 0.01108,
     "end_time": "2024-12-23T12:29:36.363070",
     "exception": false,
     "start_time": "2024-12-23T12:29:36.351990",
     "status": "completed"
    },
    "tags": []
   },
   "outputs": [],
   "source": [
    "train_transforms = transforms.Compose([\n",
    "    transforms.Resize((224, 224)),  # Resize\n",
    "    transforms.RandomHorizontalFlip(p=0.5),  # Horizontal flip\n",
    "    transforms.RandomVerticalFlip(p=0.5),  # Vertical flip\n",
    "    transforms.RandomRotation(degrees=10),  # Rotation\n",
    "    transforms.ColorJitter(brightness=0.2, contrast=0.2, saturation=0.2),  # Color jitter\n",
    "    transforms.GaussianBlur(kernel_size=(3, 3), sigma=(0.1, 0.5)),  # Gaussian noise\n",
    "    transforms.ToTensor(),  # Convert to Tensor\n",
    "    transforms.Normalize(mean=[0.485, 0.456, 0.406], std=[0.229, 0.224, 0.225])  # Normalize\n",
    "])\n",
    "\n",
    "test_transforms = transforms.Compose([\n",
    "    transforms.Resize((224, 224)),  # Resize\n",
    "    transforms.ToTensor(),  # Convert to Tensor\n",
    "    transforms.Normalize(mean=[0.485, 0.456, 0.406], std=[0.229, 0.224, 0.225])  # Normalize\n",
    "])"
   ]
  },
  {
   "cell_type": "code",
   "execution_count": 6,
   "id": "e01b78fa",
   "metadata": {
    "execution": {
     "iopub.execute_input": "2024-12-23T12:29:36.370903Z",
     "iopub.status.busy": "2024-12-23T12:29:36.370664Z",
     "iopub.status.idle": "2024-12-23T12:29:55.193884Z",
     "shell.execute_reply": "2024-12-23T12:29:55.192813Z"
    },
    "papermill": {
     "duration": 18.828626,
     "end_time": "2024-12-23T12:29:55.195308",
     "exception": false,
     "start_time": "2024-12-23T12:29:36.366682",
     "status": "completed"
    },
    "tags": []
   },
   "outputs": [
    {
     "name": "stdout",
     "output_type": "stream",
     "text": [
      "Training Set Size: 36025 images\n",
      "Validation Set Size: 9007 images\n",
      "Testing Set Size: 8617 images\n"
     ]
    }
   ],
   "source": [
    "from imblearn.over_sampling import RandomOverSampler\n",
    "\n",
    "# Load datasets (without transformations initially)\n",
    "train_dataset = datasets.ImageFolder(root=train_data_path)\n",
    "test_dataset = datasets.ImageFolder(root=test_data_path, transform=test_transforms)\n",
    "\n",
    "# Oversampling to balance classes\n",
    "indices = list(range(len(train_dataset)))\n",
    "targets = [sample[1] for sample in train_dataset.samples]  # Labels for each sample\n",
    "\n",
    "ros = RandomOverSampler(sampling_strategy=0.8, random_state=42)\n",
    "resampled_indices, resampled_targets = ros.fit_resample(np.array(indices).reshape(-1, 1), targets)\n",
    "resampled_indices = resampled_indices.flatten()\n",
    "\n",
    "# Create oversampled subset\n",
    "train_subset = Subset(train_dataset, resampled_indices)\n",
    "train_subset.dataset.transform = train_transforms  # Apply augmentation to the subset\n",
    "\n",
    "# Stratified train-validation split (80-20)\n",
    "from sklearn.model_selection import train_test_split\n",
    "\n",
    "train_indices, val_indices = train_test_split(\n",
    "    range(len(train_subset)),\n",
    "    test_size=0.2,\n",
    "    stratify=resampled_targets,\n",
    "    random_state=42\n",
    ")\n",
    "\n",
    "train_split = Subset(train_subset, train_indices)\n",
    "val_split = Subset(train_subset, val_indices)\n",
    "\n",
    "# Apply test transforms to validation subset\n",
    "val_split.dataset.transform = test_transforms\n",
    "\n",
    "# Data loaders\n",
    "train_loader = DataLoader(train_split, batch_size=32, shuffle=True, num_workers=2)\n",
    "val_loader = DataLoader(val_split, batch_size=32, shuffle=False, num_workers=2)\n",
    "test_loader = DataLoader(test_dataset, batch_size=32, shuffle=False, num_workers=2)\n",
    "\n",
    "# Print dataset sizes\n",
    "print(f\"Training Set Size: {len(train_split)} images\")\n",
    "print(f\"Validation Set Size: {len(val_split)} images\")\n",
    "print(f\"Testing Set Size: {len(test_dataset)} images\")"
   ]
  },
  {
   "cell_type": "code",
   "execution_count": 7,
   "id": "54e3d94b",
   "metadata": {
    "execution": {
     "iopub.execute_input": "2024-12-23T12:29:55.204127Z",
     "iopub.status.busy": "2024-12-23T12:29:55.203752Z",
     "iopub.status.idle": "2024-12-23T12:29:55.214791Z",
     "shell.execute_reply": "2024-12-23T12:29:55.214144Z"
    },
    "papermill": {
     "duration": 0.016612,
     "end_time": "2024-12-23T12:29:55.215947",
     "exception": false,
     "start_time": "2024-12-23T12:29:55.199335",
     "status": "completed"
    },
    "tags": []
   },
   "outputs": [
    {
     "name": "stdout",
     "output_type": "stream",
     "text": [
      "\n",
      "Training Label Distribution:\n",
      "Class 0: 20014 samples\n",
      "Class 1: 16011 samples\n",
      "\n",
      "Validation Label Distribution:\n",
      "Class 0: 5004 samples\n",
      "Class 1: 4003 samples\n"
     ]
    }
   ],
   "source": [
    "from collections import Counter\n",
    "\n",
    "# Directly count labels for train_split and val_split using resampled_targets\n",
    "def subset_label_counts(subset_indices, resampled_targets):\n",
    "    # Map the subset indices to resampled_targets\n",
    "    labels = [resampled_targets[i] for i in subset_indices]\n",
    "    return Counter(labels)\n",
    "\n",
    "# Count labels for train and validation splits\n",
    "train_label_counts = subset_label_counts(train_indices, resampled_targets)\n",
    "val_label_counts = subset_label_counts(val_indices, resampled_targets)\n",
    "\n",
    "print(\"\\nTraining Label Distribution:\")\n",
    "for label, count in sorted(train_label_counts.items()):\n",
    "    print(f\"Class {label}: {count} samples\")\n",
    "\n",
    "print(\"\\nValidation Label Distribution:\")\n",
    "for label, count in sorted(val_label_counts.items()):\n",
    "    print(f\"Class {label}: {count} samples\")\n"
   ]
  },
  {
   "cell_type": "markdown",
   "id": "10de0683",
   "metadata": {
    "papermill": {
     "duration": 0.003462,
     "end_time": "2024-12-23T12:29:55.223179",
     "exception": false,
     "start_time": "2024-12-23T12:29:55.219717",
     "status": "completed"
    },
    "tags": []
   },
   "source": [
    "# **Load Model**"
   ]
  },
  {
   "cell_type": "code",
   "execution_count": 8,
   "id": "83b873ab",
   "metadata": {
    "execution": {
     "iopub.execute_input": "2024-12-23T12:29:55.231325Z",
     "iopub.status.busy": "2024-12-23T12:29:55.231094Z",
     "iopub.status.idle": "2024-12-23T12:30:01.177349Z",
     "shell.execute_reply": "2024-12-23T12:30:01.176667Z"
    },
    "papermill": {
     "duration": 5.95221,
     "end_time": "2024-12-23T12:30:01.178983",
     "exception": false,
     "start_time": "2024-12-23T12:29:55.226773",
     "status": "completed"
    },
    "tags": []
   },
   "outputs": [
    {
     "data": {
      "application/vnd.jupyter.widget-view+json": {
       "model_id": "dafdaadee8be403c9b2c2c7564fa0d35",
       "version_major": 2,
       "version_minor": 0
      },
      "text/plain": [
       "model.safetensors:   0%|          | 0.00/14.7M [00:00<?, ?B/s]"
      ]
     },
     "metadata": {},
     "output_type": "display_data"
    }
   ],
   "source": [
    "from timm import create_model\n",
    "\n",
    "# Load a pretrained PVTv2 model\n",
    "model = create_model('pvt_v2_b0', pretrained=True)\n",
    "num_features = model.head.in_features\n",
    "model.head = nn.Linear(num_features, 2)  # 2 for binary classification\n",
    "\n",
    "device = 'cuda' if torch.cuda.is_available() else 'cpu'\n",
    "model = model.to(device)"
   ]
  },
  {
   "cell_type": "code",
   "execution_count": 9,
   "id": "d42b5869",
   "metadata": {
    "execution": {
     "iopub.execute_input": "2024-12-23T12:30:01.187803Z",
     "iopub.status.busy": "2024-12-23T12:30:01.187541Z",
     "iopub.status.idle": "2024-12-23T12:30:01.194625Z",
     "shell.execute_reply": "2024-12-23T12:30:01.193722Z"
    },
    "papermill": {
     "duration": 0.012992,
     "end_time": "2024-12-23T12:30:01.196170",
     "exception": false,
     "start_time": "2024-12-23T12:30:01.183178",
     "status": "completed"
    },
    "tags": []
   },
   "outputs": [
    {
     "name": "stderr",
     "output_type": "stream",
     "text": [
      "/usr/local/lib/python3.10/dist-packages/torch/optim/lr_scheduler.py:60: UserWarning: The verbose parameter is deprecated. Please use get_last_lr() to access the learning rate.\n",
      "  warnings.warn(\n"
     ]
    }
   ],
   "source": [
    "criterion = nn.CrossEntropyLoss()\n",
    "optimizer = optim.AdamW(model.parameters(), lr=1e-4, weight_decay=1e-4)\n",
    "scheduler = optim.lr_scheduler.ReduceLROnPlateau(optimizer, mode='min', patience=5, factor=0.1, verbose=True)"
   ]
  },
  {
   "cell_type": "markdown",
   "id": "c949cc13",
   "metadata": {
    "papermill": {
     "duration": 0.00355,
     "end_time": "2024-12-23T12:30:01.203644",
     "exception": false,
     "start_time": "2024-12-23T12:30:01.200094",
     "status": "completed"
    },
    "tags": []
   },
   "source": [
    "# **Train**"
   ]
  },
  {
   "cell_type": "code",
   "execution_count": 10,
   "id": "92ec066d",
   "metadata": {
    "execution": {
     "iopub.execute_input": "2024-12-23T12:30:01.211725Z",
     "iopub.status.busy": "2024-12-23T12:30:01.211491Z",
     "iopub.status.idle": "2024-12-23T12:30:01.215641Z",
     "shell.execute_reply": "2024-12-23T12:30:01.215022Z"
    },
    "papermill": {
     "duration": 0.009597,
     "end_time": "2024-12-23T12:30:01.216940",
     "exception": false,
     "start_time": "2024-12-23T12:30:01.207343",
     "status": "completed"
    },
    "tags": []
   },
   "outputs": [],
   "source": [
    "# Early Stopping Class\n",
    "class EarlyStopping:\n",
    "    def __init__(self, patience=5, delta=0.0):\n",
    "        self.patience = patience\n",
    "        self.delta = delta\n",
    "        self.best_loss = float('inf')\n",
    "        self.counter = 0\n",
    "        self.early_stop = False\n",
    "\n",
    "    def __call__(self, val_loss):\n",
    "        if val_loss < self.best_loss - self.delta:\n",
    "            self.best_loss = val_loss\n",
    "            self.counter = 0\n",
    "        else:\n",
    "            self.counter += 1\n",
    "            if self.counter >= self.patience:\n",
    "                print(\"Early stopping triggered!\")\n",
    "                self.early_stop = True"
   ]
  },
  {
   "cell_type": "code",
   "execution_count": 11,
   "id": "112c8e73",
   "metadata": {
    "execution": {
     "iopub.execute_input": "2024-12-23T12:30:01.225332Z",
     "iopub.status.busy": "2024-12-23T12:30:01.225116Z",
     "iopub.status.idle": "2024-12-23T12:30:01.239979Z",
     "shell.execute_reply": "2024-12-23T12:30:01.239328Z"
    },
    "papermill": {
     "duration": 0.020451,
     "end_time": "2024-12-23T12:30:01.241206",
     "exception": false,
     "start_time": "2024-12-23T12:30:01.220755",
     "status": "completed"
    },
    "tags": []
   },
   "outputs": [],
   "source": [
    "import torch\n",
    "import time\n",
    "from tqdm import tqdm\n",
    "\n",
    "def train_and_evaluate(model, train_loader, val_loader, optimizer, scheduler, criterion, device, patience=5, num_epochs=50):\n",
    "    early_stopping = EarlyStopping(patience=patience)\n",
    "    model.to(device)\n",
    "\n",
    "    # Lists to track metrics\n",
    "    train_losses, val_losses, train_accuracies, val_accuracies, learning_rates = [], [], [], [], []\n",
    "    gpu_usage, fps = [], []\n",
    "\n",
    "    for epoch in range(num_epochs):\n",
    "        # Fetch and print the current learning rate\n",
    "        current_lr = optimizer.param_groups[0]['lr']\n",
    "        learning_rates.append(current_lr)  # Track learning rate\n",
    "        print(f\"\\nEpoch {epoch+1}/{num_epochs}, Learning Rate: {current_lr:.6f}\")\n",
    "\n",
    "        model.train()\n",
    "        train_loss, correct, total = 0.0, 0, 0\n",
    "\n",
    "        # GPU memory tracking\n",
    "        start_time = time.time()\n",
    "        for images, labels in tqdm(train_loader, desc=\"Training Batches\"):\n",
    "            images, labels = images.to(device), labels.to(device)\n",
    "            optimizer.zero_grad()\n",
    "\n",
    "            # Forward pass\n",
    "            outputs = model(images)\n",
    "\n",
    "            # Check for logits attribute (e.g., in DeiT models)\n",
    "            if hasattr(outputs, 'logits'):\n",
    "                outputs = outputs.logits\n",
    "\n",
    "            # Compute loss and backpropagate\n",
    "            loss = criterion(outputs, labels)\n",
    "            loss.backward()\n",
    "            optimizer.step()\n",
    "\n",
    "            train_loss += loss.item()\n",
    "            _, predicted = outputs.max(1)\n",
    "            total += labels.size(0)\n",
    "            correct += predicted.eq(labels).sum().item()\n",
    "\n",
    "        # Monitor GPU memory usage\n",
    "        gpu_allocated = torch.cuda.memory_allocated(device) / (1024 ** 3)  # Convert to GB\n",
    "        gpu_reserved = torch.cuda.memory_reserved(device) / (1024 ** 3)   # Convert to GB\n",
    "        gpu_usage.append((gpu_allocated, gpu_reserved))\n",
    "\n",
    "        epoch_loss = train_loss / len(train_loader)\n",
    "        epoch_acc = 100. * correct / total\n",
    "        train_losses.append(epoch_loss)  # Track training loss\n",
    "        train_accuracies.append(epoch_acc)  # Track training accuracy\n",
    "\n",
    "        # Measure FPS\n",
    "        end_time = time.time()\n",
    "        fps_epoch = len(train_loader.dataset) / (end_time - start_time)\n",
    "        fps.append(fps_epoch)\n",
    "\n",
    "        print(f\"Training Loss: {epoch_loss:.4f}, Training Accuracy: {epoch_acc:.2f}%, FPS: {fps_epoch:.2f}\")\n",
    "        print(f\"GPU Memory Allocated: {gpu_allocated:.2f} GB, GPU Memory Reserved: {gpu_reserved:.2f} GB\")\n",
    "\n",
    "        # Validation Phase\n",
    "        model.eval()\n",
    "        val_loss, correct, total = 0.0, 0, 0\n",
    "        with torch.no_grad():\n",
    "            for images, labels in tqdm(val_loader, desc=\"Validation Batches\"):\n",
    "                images, labels = images.to(device), labels.to(device)\n",
    "                outputs = model(images)\n",
    "\n",
    "                # Check for logits attribute\n",
    "                if hasattr(outputs, 'logits'):\n",
    "                    outputs = outputs.logits\n",
    "\n",
    "                loss = criterion(outputs, labels)\n",
    "                val_loss += loss.item()\n",
    "                _, predicted = outputs.max(1)\n",
    "                total += labels.size(0)\n",
    "                correct += predicted.eq(labels).sum().item()\n",
    "\n",
    "        val_epoch_loss = val_loss / len(val_loader)\n",
    "        val_epoch_acc = 100. * correct / total\n",
    "        val_losses.append(val_epoch_loss)  # Track validation loss\n",
    "        val_accuracies.append(val_epoch_acc)  # Track validation accuracy\n",
    "        print(f\"Validation Loss: {val_epoch_loss:.4f}, Validation Accuracy: {val_epoch_acc:.2f}%\")\n",
    "\n",
    "        # Step the LR scheduler\n",
    "        scheduler.step(val_epoch_loss)\n",
    "\n",
    "        # Early Stopping Check\n",
    "        early_stopping(val_epoch_loss)\n",
    "        if early_stopping.early_stop:\n",
    "            print(\"Stopping early due to convergence.\")\n",
    "            break\n",
    "\n",
    "    # Plot Results\n",
    "    plot_results(train_losses, val_losses, train_accuracies, val_accuracies, learning_rates, fps, gpu_usage)\n",
    "\n",
    "\n",
    "def plot_results(train_losses, val_losses, train_accuracies, val_accuracies, learning_rates, fps, gpu_usage):\n",
    "    # Learning Rate\n",
    "    plt.figure(figsize=(8, 6))\n",
    "    plt.plot(range(1, len(learning_rates) + 1), learning_rates, marker='o')\n",
    "    plt.xlabel(\"Epochs\")\n",
    "    plt.ylabel(\"Learning Rate\")\n",
    "    plt.title(\"Learning Rate Schedule\")\n",
    "    plt.grid()\n",
    "    plt.show()\n",
    "\n",
    "    # Training vs Validation Accuracy\n",
    "    plt.figure(figsize=(8, 6))\n",
    "    plt.plot(range(1, len(train_accuracies) + 1), train_accuracies, label=\"Training Accuracy\", marker='o')\n",
    "    plt.plot(range(1, len(val_accuracies) + 1), val_accuracies, label=\"Validation Accuracy\", marker='o')\n",
    "    plt.xlabel(\"Epochs\")\n",
    "    plt.ylabel(\"Accuracy (%)\")\n",
    "    plt.title(\"Training vs Validation Accuracy\")\n",
    "    plt.legend()\n",
    "    plt.grid()\n",
    "    plt.show()\n",
    "\n",
    "    # FPS\n",
    "    plt.figure(figsize=(8, 6))\n",
    "    plt.plot(range(1, len(fps) + 1), fps, marker='o')\n",
    "    plt.xlabel(\"Epochs\")\n",
    "    plt.ylabel(\"Frames Per Second (FPS)\")\n",
    "    plt.title(\"Training Speed (FPS)\")\n",
    "    plt.grid()\n",
    "    plt.show()\n",
    "\n",
    "    # GPU Usage\n",
    "    allocated, reserved = zip(*gpu_usage)\n",
    "    plt.figure(figsize=(8, 6))\n",
    "    plt.plot(range(len(allocated)), allocated, label=\"GPU Allocated (GB)\")\n",
    "    plt.plot(range(len(reserved)), reserved, label=\"GPU Reserved (GB)\")\n",
    "    plt.xlabel(\"Batches\")\n",
    "    plt.ylabel(\"GPU Memory (GB)\")\n",
    "    plt.title(\"GPU Memory Usage\")\n",
    "    plt.legend()\n",
    "    plt.grid()\n",
    "    plt.show()\n"
   ]
  },
  {
   "cell_type": "code",
   "execution_count": 12,
   "id": "55228814",
   "metadata": {
    "execution": {
     "iopub.execute_input": "2024-12-23T12:30:01.249672Z",
     "iopub.status.busy": "2024-12-23T12:30:01.249436Z",
     "iopub.status.idle": "2024-12-23T14:13:46.805765Z",
     "shell.execute_reply": "2024-12-23T14:13:46.804661Z"
    },
    "papermill": {
     "duration": 6225.562196,
     "end_time": "2024-12-23T14:13:46.807410",
     "exception": false,
     "start_time": "2024-12-23T12:30:01.245214",
     "status": "completed"
    },
    "tags": []
   },
   "outputs": [
    {
     "name": "stdout",
     "output_type": "stream",
     "text": [
      "\n",
      "Epoch 1/50, Learning Rate: 0.000100\n"
     ]
    },
    {
     "name": "stderr",
     "output_type": "stream",
     "text": [
      "Training Batches: 100%|██████████| 1126/1126 [04:24<00:00,  4.25it/s]\n"
     ]
    },
    {
     "name": "stdout",
     "output_type": "stream",
     "text": [
      "Training Loss: 0.0238, Training Accuracy: 99.21%, FPS: 136.12\n",
      "GPU Memory Allocated: 0.08 GB, GPU Memory Reserved: 1.64 GB\n"
     ]
    },
    {
     "name": "stderr",
     "output_type": "stream",
     "text": [
      "Validation Batches: 100%|██████████| 282/282 [01:03<00:00,  4.44it/s]\n"
     ]
    },
    {
     "name": "stdout",
     "output_type": "stream",
     "text": [
      "Validation Loss: 0.0085, Validation Accuracy: 99.69%\n",
      "\n",
      "Epoch 2/50, Learning Rate: 0.000100\n"
     ]
    },
    {
     "name": "stderr",
     "output_type": "stream",
     "text": [
      "Training Batches: 100%|██████████| 1126/1126 [04:05<00:00,  4.59it/s]\n"
     ]
    },
    {
     "name": "stdout",
     "output_type": "stream",
     "text": [
      "Training Loss: 0.0111, Training Accuracy: 99.64%, FPS: 146.74\n",
      "GPU Memory Allocated: 0.08 GB, GPU Memory Reserved: 1.64 GB\n"
     ]
    },
    {
     "name": "stderr",
     "output_type": "stream",
     "text": [
      "Validation Batches: 100%|██████████| 282/282 [00:48<00:00,  5.86it/s]\n"
     ]
    },
    {
     "name": "stdout",
     "output_type": "stream",
     "text": [
      "Validation Loss: 0.0064, Validation Accuracy: 99.70%\n",
      "\n",
      "Epoch 3/50, Learning Rate: 0.000100\n"
     ]
    },
    {
     "name": "stderr",
     "output_type": "stream",
     "text": [
      "Training Batches: 100%|██████████| 1126/1126 [04:07<00:00,  4.55it/s]\n"
     ]
    },
    {
     "name": "stdout",
     "output_type": "stream",
     "text": [
      "Training Loss: 0.0076, Training Accuracy: 99.77%, FPS: 145.41\n",
      "GPU Memory Allocated: 0.08 GB, GPU Memory Reserved: 1.64 GB\n"
     ]
    },
    {
     "name": "stderr",
     "output_type": "stream",
     "text": [
      "Validation Batches: 100%|██████████| 282/282 [00:48<00:00,  5.78it/s]\n"
     ]
    },
    {
     "name": "stdout",
     "output_type": "stream",
     "text": [
      "Validation Loss: 0.0081, Validation Accuracy: 99.80%\n",
      "\n",
      "Epoch 4/50, Learning Rate: 0.000100\n"
     ]
    },
    {
     "name": "stderr",
     "output_type": "stream",
     "text": [
      "Training Batches: 100%|██████████| 1126/1126 [04:05<00:00,  4.58it/s]\n"
     ]
    },
    {
     "name": "stdout",
     "output_type": "stream",
     "text": [
      "Training Loss: 0.0083, Training Accuracy: 99.74%, FPS: 146.44\n",
      "GPU Memory Allocated: 0.08 GB, GPU Memory Reserved: 1.64 GB\n"
     ]
    },
    {
     "name": "stderr",
     "output_type": "stream",
     "text": [
      "Validation Batches: 100%|██████████| 282/282 [00:45<00:00,  6.14it/s]\n"
     ]
    },
    {
     "name": "stdout",
     "output_type": "stream",
     "text": [
      "Validation Loss: 0.0059, Validation Accuracy: 99.86%\n",
      "\n",
      "Epoch 5/50, Learning Rate: 0.000100\n"
     ]
    },
    {
     "name": "stderr",
     "output_type": "stream",
     "text": [
      "Training Batches: 100%|██████████| 1126/1126 [04:05<00:00,  4.58it/s]\n"
     ]
    },
    {
     "name": "stdout",
     "output_type": "stream",
     "text": [
      "Training Loss: 0.0075, Training Accuracy: 99.77%, FPS: 146.47\n",
      "GPU Memory Allocated: 0.08 GB, GPU Memory Reserved: 1.64 GB\n"
     ]
    },
    {
     "name": "stderr",
     "output_type": "stream",
     "text": [
      "Validation Batches: 100%|██████████| 282/282 [00:48<00:00,  5.79it/s]\n"
     ]
    },
    {
     "name": "stdout",
     "output_type": "stream",
     "text": [
      "Validation Loss: 0.0058, Validation Accuracy: 99.83%\n",
      "\n",
      "Epoch 6/50, Learning Rate: 0.000100\n"
     ]
    },
    {
     "name": "stderr",
     "output_type": "stream",
     "text": [
      "Training Batches: 100%|██████████| 1126/1126 [04:05<00:00,  4.58it/s]\n"
     ]
    },
    {
     "name": "stdout",
     "output_type": "stream",
     "text": [
      "Training Loss: 0.0059, Training Accuracy: 99.84%, FPS: 146.55\n",
      "GPU Memory Allocated: 0.08 GB, GPU Memory Reserved: 1.64 GB\n"
     ]
    },
    {
     "name": "stderr",
     "output_type": "stream",
     "text": [
      "Validation Batches: 100%|██████████| 282/282 [00:48<00:00,  5.77it/s]\n"
     ]
    },
    {
     "name": "stdout",
     "output_type": "stream",
     "text": [
      "Validation Loss: 0.0064, Validation Accuracy: 99.84%\n",
      "\n",
      "Epoch 7/50, Learning Rate: 0.000100\n"
     ]
    },
    {
     "name": "stderr",
     "output_type": "stream",
     "text": [
      "Training Batches: 100%|██████████| 1126/1126 [04:06<00:00,  4.58it/s]\n"
     ]
    },
    {
     "name": "stdout",
     "output_type": "stream",
     "text": [
      "Training Loss: 0.0056, Training Accuracy: 99.82%, FPS: 146.41\n",
      "GPU Memory Allocated: 0.08 GB, GPU Memory Reserved: 1.64 GB\n"
     ]
    },
    {
     "name": "stderr",
     "output_type": "stream",
     "text": [
      "Validation Batches: 100%|██████████| 282/282 [00:48<00:00,  5.76it/s]\n"
     ]
    },
    {
     "name": "stdout",
     "output_type": "stream",
     "text": [
      "Validation Loss: 0.0048, Validation Accuracy: 99.87%\n",
      "\n",
      "Epoch 8/50, Learning Rate: 0.000100\n"
     ]
    },
    {
     "name": "stderr",
     "output_type": "stream",
     "text": [
      "Training Batches: 100%|██████████| 1126/1126 [04:06<00:00,  4.57it/s]\n"
     ]
    },
    {
     "name": "stdout",
     "output_type": "stream",
     "text": [
      "Training Loss: 0.0058, Training Accuracy: 99.81%, FPS: 146.06\n",
      "GPU Memory Allocated: 0.08 GB, GPU Memory Reserved: 1.64 GB\n"
     ]
    },
    {
     "name": "stderr",
     "output_type": "stream",
     "text": [
      "Validation Batches: 100%|██████████| 282/282 [00:49<00:00,  5.71it/s]\n"
     ]
    },
    {
     "name": "stdout",
     "output_type": "stream",
     "text": [
      "Validation Loss: 0.0076, Validation Accuracy: 99.77%\n",
      "\n",
      "Epoch 9/50, Learning Rate: 0.000100\n"
     ]
    },
    {
     "name": "stderr",
     "output_type": "stream",
     "text": [
      "Training Batches: 100%|██████████| 1126/1126 [04:07<00:00,  4.56it/s]\n"
     ]
    },
    {
     "name": "stdout",
     "output_type": "stream",
     "text": [
      "Training Loss: 0.0065, Training Accuracy: 99.82%, FPS: 145.82\n",
      "GPU Memory Allocated: 0.08 GB, GPU Memory Reserved: 1.64 GB\n"
     ]
    },
    {
     "name": "stderr",
     "output_type": "stream",
     "text": [
      "Validation Batches: 100%|██████████| 282/282 [00:47<00:00,  5.99it/s]\n"
     ]
    },
    {
     "name": "stdout",
     "output_type": "stream",
     "text": [
      "Validation Loss: 0.0042, Validation Accuracy: 99.89%\n",
      "\n",
      "Epoch 10/50, Learning Rate: 0.000100\n"
     ]
    },
    {
     "name": "stderr",
     "output_type": "stream",
     "text": [
      "Training Batches: 100%|██████████| 1126/1126 [04:06<00:00,  4.57it/s]\n"
     ]
    },
    {
     "name": "stdout",
     "output_type": "stream",
     "text": [
      "Training Loss: 0.0041, Training Accuracy: 99.89%, FPS: 146.27\n",
      "GPU Memory Allocated: 0.08 GB, GPU Memory Reserved: 1.64 GB\n"
     ]
    },
    {
     "name": "stderr",
     "output_type": "stream",
     "text": [
      "Validation Batches: 100%|██████████| 282/282 [00:48<00:00,  5.87it/s]\n"
     ]
    },
    {
     "name": "stdout",
     "output_type": "stream",
     "text": [
      "Validation Loss: 0.0045, Validation Accuracy: 99.88%\n",
      "\n",
      "Epoch 11/50, Learning Rate: 0.000100\n"
     ]
    },
    {
     "name": "stderr",
     "output_type": "stream",
     "text": [
      "Training Batches: 100%|██████████| 1126/1126 [04:06<00:00,  4.56it/s]\n"
     ]
    },
    {
     "name": "stdout",
     "output_type": "stream",
     "text": [
      "Training Loss: 0.0031, Training Accuracy: 99.92%, FPS: 145.97\n",
      "GPU Memory Allocated: 0.08 GB, GPU Memory Reserved: 1.64 GB\n"
     ]
    },
    {
     "name": "stderr",
     "output_type": "stream",
     "text": [
      "Validation Batches: 100%|██████████| 282/282 [00:46<00:00,  6.04it/s]\n"
     ]
    },
    {
     "name": "stdout",
     "output_type": "stream",
     "text": [
      "Validation Loss: 0.0354, Validation Accuracy: 99.06%\n",
      "\n",
      "Epoch 12/50, Learning Rate: 0.000100\n"
     ]
    },
    {
     "name": "stderr",
     "output_type": "stream",
     "text": [
      "Training Batches: 100%|██████████| 1126/1126 [04:06<00:00,  4.57it/s]\n"
     ]
    },
    {
     "name": "stdout",
     "output_type": "stream",
     "text": [
      "Training Loss: 0.0048, Training Accuracy: 99.87%, FPS: 146.35\n",
      "GPU Memory Allocated: 0.08 GB, GPU Memory Reserved: 1.64 GB\n"
     ]
    },
    {
     "name": "stderr",
     "output_type": "stream",
     "text": [
      "Validation Batches: 100%|██████████| 282/282 [00:50<00:00,  5.56it/s]\n"
     ]
    },
    {
     "name": "stdout",
     "output_type": "stream",
     "text": [
      "Validation Loss: 0.0052, Validation Accuracy: 99.87%\n",
      "\n",
      "Epoch 13/50, Learning Rate: 0.000100\n"
     ]
    },
    {
     "name": "stderr",
     "output_type": "stream",
     "text": [
      "Training Batches: 100%|██████████| 1126/1126 [04:06<00:00,  4.57it/s]\n"
     ]
    },
    {
     "name": "stdout",
     "output_type": "stream",
     "text": [
      "Training Loss: 0.0055, Training Accuracy: 99.84%, FPS: 146.36\n",
      "GPU Memory Allocated: 0.08 GB, GPU Memory Reserved: 1.64 GB\n"
     ]
    },
    {
     "name": "stderr",
     "output_type": "stream",
     "text": [
      "Validation Batches: 100%|██████████| 282/282 [00:48<00:00,  5.80it/s]\n"
     ]
    },
    {
     "name": "stdout",
     "output_type": "stream",
     "text": [
      "Validation Loss: 0.0039, Validation Accuracy: 99.87%\n",
      "\n",
      "Epoch 14/50, Learning Rate: 0.000100\n"
     ]
    },
    {
     "name": "stderr",
     "output_type": "stream",
     "text": [
      "Training Batches: 100%|██████████| 1126/1126 [04:06<00:00,  4.57it/s]\n"
     ]
    },
    {
     "name": "stdout",
     "output_type": "stream",
     "text": [
      "Training Loss: 0.0038, Training Accuracy: 99.88%, FPS: 146.25\n",
      "GPU Memory Allocated: 0.08 GB, GPU Memory Reserved: 1.64 GB\n"
     ]
    },
    {
     "name": "stderr",
     "output_type": "stream",
     "text": [
      "Validation Batches: 100%|██████████| 282/282 [00:45<00:00,  6.16it/s]\n"
     ]
    },
    {
     "name": "stdout",
     "output_type": "stream",
     "text": [
      "Validation Loss: 0.0031, Validation Accuracy: 99.92%\n",
      "\n",
      "Epoch 15/50, Learning Rate: 0.000100\n"
     ]
    },
    {
     "name": "stderr",
     "output_type": "stream",
     "text": [
      "Training Batches: 100%|██████████| 1126/1126 [04:06<00:00,  4.57it/s]\n"
     ]
    },
    {
     "name": "stdout",
     "output_type": "stream",
     "text": [
      "Training Loss: 0.0042, Training Accuracy: 99.87%, FPS: 146.16\n",
      "GPU Memory Allocated: 0.08 GB, GPU Memory Reserved: 1.64 GB\n"
     ]
    },
    {
     "name": "stderr",
     "output_type": "stream",
     "text": [
      "Validation Batches: 100%|██████████| 282/282 [00:46<00:00,  6.04it/s]\n"
     ]
    },
    {
     "name": "stdout",
     "output_type": "stream",
     "text": [
      "Validation Loss: 0.0052, Validation Accuracy: 99.81%\n",
      "\n",
      "Epoch 16/50, Learning Rate: 0.000100\n"
     ]
    },
    {
     "name": "stderr",
     "output_type": "stream",
     "text": [
      "Training Batches: 100%|██████████| 1126/1126 [04:06<00:00,  4.56it/s]\n"
     ]
    },
    {
     "name": "stdout",
     "output_type": "stream",
     "text": [
      "Training Loss: 0.0035, Training Accuracy: 99.89%, FPS: 145.97\n",
      "GPU Memory Allocated: 0.08 GB, GPU Memory Reserved: 1.64 GB\n"
     ]
    },
    {
     "name": "stderr",
     "output_type": "stream",
     "text": [
      "Validation Batches: 100%|██████████| 282/282 [00:48<00:00,  5.85it/s]\n"
     ]
    },
    {
     "name": "stdout",
     "output_type": "stream",
     "text": [
      "Validation Loss: 0.0021, Validation Accuracy: 99.91%\n",
      "\n",
      "Epoch 17/50, Learning Rate: 0.000100\n"
     ]
    },
    {
     "name": "stderr",
     "output_type": "stream",
     "text": [
      "Training Batches: 100%|██████████| 1126/1126 [04:08<00:00,  4.53it/s]\n"
     ]
    },
    {
     "name": "stdout",
     "output_type": "stream",
     "text": [
      "Training Loss: 0.0034, Training Accuracy: 99.91%, FPS: 144.93\n",
      "GPU Memory Allocated: 0.08 GB, GPU Memory Reserved: 1.64 GB\n"
     ]
    },
    {
     "name": "stderr",
     "output_type": "stream",
     "text": [
      "Validation Batches: 100%|██████████| 282/282 [00:49<00:00,  5.75it/s]\n"
     ]
    },
    {
     "name": "stdout",
     "output_type": "stream",
     "text": [
      "Validation Loss: 0.0063, Validation Accuracy: 99.86%\n",
      "\n",
      "Epoch 18/50, Learning Rate: 0.000100\n"
     ]
    },
    {
     "name": "stderr",
     "output_type": "stream",
     "text": [
      "Training Batches: 100%|██████████| 1126/1126 [04:08<00:00,  4.53it/s]\n"
     ]
    },
    {
     "name": "stdout",
     "output_type": "stream",
     "text": [
      "Training Loss: 0.0036, Training Accuracy: 99.89%, FPS: 145.02\n",
      "GPU Memory Allocated: 0.08 GB, GPU Memory Reserved: 1.64 GB\n"
     ]
    },
    {
     "name": "stderr",
     "output_type": "stream",
     "text": [
      "Validation Batches: 100%|██████████| 282/282 [00:49<00:00,  5.68it/s]\n"
     ]
    },
    {
     "name": "stdout",
     "output_type": "stream",
     "text": [
      "Validation Loss: 0.0042, Validation Accuracy: 99.84%\n",
      "\n",
      "Epoch 19/50, Learning Rate: 0.000100\n"
     ]
    },
    {
     "name": "stderr",
     "output_type": "stream",
     "text": [
      "Training Batches: 100%|██████████| 1126/1126 [04:06<00:00,  4.57it/s]\n"
     ]
    },
    {
     "name": "stdout",
     "output_type": "stream",
     "text": [
      "Training Loss: 0.0031, Training Accuracy: 99.92%, FPS: 146.31\n",
      "GPU Memory Allocated: 0.08 GB, GPU Memory Reserved: 1.64 GB\n"
     ]
    },
    {
     "name": "stderr",
     "output_type": "stream",
     "text": [
      "Validation Batches: 100%|██████████| 282/282 [00:48<00:00,  5.84it/s]\n"
     ]
    },
    {
     "name": "stdout",
     "output_type": "stream",
     "text": [
      "Validation Loss: 0.0035, Validation Accuracy: 99.88%\n",
      "\n",
      "Epoch 20/50, Learning Rate: 0.000100\n"
     ]
    },
    {
     "name": "stderr",
     "output_type": "stream",
     "text": [
      "Training Batches: 100%|██████████| 1126/1126 [04:05<00:00,  4.58it/s]\n"
     ]
    },
    {
     "name": "stdout",
     "output_type": "stream",
     "text": [
      "Training Loss: 0.0029, Training Accuracy: 99.92%, FPS: 146.52\n",
      "GPU Memory Allocated: 0.08 GB, GPU Memory Reserved: 1.64 GB\n"
     ]
    },
    {
     "name": "stderr",
     "output_type": "stream",
     "text": [
      "Validation Batches: 100%|██████████| 282/282 [00:48<00:00,  5.79it/s]\n"
     ]
    },
    {
     "name": "stdout",
     "output_type": "stream",
     "text": [
      "Validation Loss: 0.0043, Validation Accuracy: 99.86%\n",
      "\n",
      "Epoch 21/50, Learning Rate: 0.000100\n"
     ]
    },
    {
     "name": "stderr",
     "output_type": "stream",
     "text": [
      "Training Batches: 100%|██████████| 1126/1126 [04:05<00:00,  4.58it/s]\n"
     ]
    },
    {
     "name": "stdout",
     "output_type": "stream",
     "text": [
      "Training Loss: 0.0034, Training Accuracy: 99.89%, FPS: 146.45\n",
      "GPU Memory Allocated: 0.08 GB, GPU Memory Reserved: 1.64 GB\n"
     ]
    },
    {
     "name": "stderr",
     "output_type": "stream",
     "text": [
      "Validation Batches: 100%|██████████| 282/282 [00:48<00:00,  5.76it/s]\n"
     ]
    },
    {
     "name": "stdout",
     "output_type": "stream",
     "text": [
      "Validation Loss: 0.0145, Validation Accuracy: 99.61%\n",
      "Early stopping triggered!\n",
      "Stopping early due to convergence.\n"
     ]
    },
    {
     "data": {
      "image/png": "[encoded data removed]",
      "text/plain": [
       "<Figure size 800x600 with 1 Axes>"
      ]
     },
     "metadata": {},
     "output_type": "display_data"
    },
    {
     "data": {
      "image/png": "[encoded data removed]",
      "text/plain": [
       "<Figure size 800x600 with 1 Axes>"
      ]
     },
     "metadata": {},
     "output_type": "display_data"
    },
    {
     "data": {
      "image/png": "[encoded data removed]",
      "text/plain": [
       "<Figure size 800x600 with 1 Axes>"
      ]
     },
     "metadata": {},
     "output_type": "display_data"
    },
    {
     "data": {
      "image/png": "[encoded data removed]",
      "text/plain": [
       "<Figure size 800x600 with 1 Axes>"
      ]
     },
     "metadata": {},
     "output_type": "display_data"
    }
   ],
   "source": [
    "results = train_and_evaluate(\n",
    "    model=model,\n",
    "    train_loader=train_loader,\n",
    "    val_loader=val_loader,\n",
    "    optimizer=optimizer,\n",
    "    scheduler=scheduler,\n",
    "    criterion=criterion,\n",
    "    device=device,\n",
    "    patience=5,  \n",
    "    num_epochs=50\n",
    ")\n"
   ]
  },
  {
   "cell_type": "markdown",
   "id": "c2536a46",
   "metadata": {
    "papermill": {
     "duration": 1.340062,
     "end_time": "2024-12-23T14:13:49.529221",
     "exception": false,
     "start_time": "2024-12-23T14:13:48.189159",
     "status": "completed"
    },
    "tags": []
   },
   "source": [
    "# **Evaluation**"
   ]
  },
  {
   "cell_type": "code",
   "execution_count": 13,
   "id": "0098c22b",
   "metadata": {
    "execution": {
     "iopub.execute_input": "2024-12-23T14:13:52.111201Z",
     "iopub.status.busy": "2024-12-23T14:13:52.110886Z",
     "iopub.status.idle": "2024-12-23T14:13:52.121145Z",
     "shell.execute_reply": "2024-12-23T14:13:52.120466Z"
    },
    "papermill": {
     "duration": 1.301374,
     "end_time": "2024-12-23T14:13:52.122385",
     "exception": false,
     "start_time": "2024-12-23T14:13:50.821011",
     "status": "completed"
    },
    "tags": []
   },
   "outputs": [],
   "source": [
    "def evaluate_model_with_metrics(model, loader, binary_classification=True):\n",
    "    model.eval()\n",
    "    all_preds = []\n",
    "    all_labels = []\n",
    "    all_probs = []  \n",
    "    correct = 0\n",
    "    total = 0\n",
    "\n",
    "    with torch.no_grad():\n",
    "        for images, labels in loader:\n",
    "            images, labels = images.to('cuda'), labels.to('cuda')\n",
    "            \n",
    "            # Get model outputs\n",
    "            outputs = model(images)\n",
    "            \n",
    "            # For DeiT models, extract logits\n",
    "            if hasattr(outputs, 'logits'):  \n",
    "                outputs = outputs.logits\n",
    "            \n",
    "            # Get predicted classes\n",
    "            _, predicted = outputs.max(1)\n",
    "\n",
    "            # Accumulate metrics\n",
    "            total += labels.size(0)\n",
    "            correct += predicted.eq(labels).sum().item()\n",
    "            all_preds.extend(predicted.cpu().numpy())\n",
    "            all_labels.extend(labels.cpu().numpy())\n",
    "\n",
    "            # Probabilities for ROC AUC\n",
    "            if binary_classification:\n",
    "                probabilities = F.softmax(outputs, dim=1)[:, 1].cpu().numpy()\n",
    "                all_probs.extend(probabilities)\n",
    "\n",
    "    # Accuracy\n",
    "    accuracy = 100. * correct / total\n",
    "    print(f\"Accuracy on test set: {accuracy:.2f}%\")\n",
    "\n",
    "    all_preds = np.array(all_preds)\n",
    "    all_labels = np.array(all_labels)\n",
    "\n",
    "    # Confusion Matrix\n",
    "    cm = confusion_matrix(all_labels, all_preds)\n",
    "    print(\"Confusion Matrix:\\n\", cm)\n",
    "\n",
    "    plt.figure(figsize=(8, 6))\n",
    "    sns.heatmap(cm, annot=True, fmt='d', cmap='Blues', xticklabels=np.unique(all_labels),\n",
    "                yticklabels=np.unique(all_labels), cbar=False)\n",
    "    plt.xlabel('Predicted Labels')\n",
    "    plt.ylabel('True Labels')\n",
    "    plt.title('Confusion Matrix')\n",
    "    plt.show()\n",
    "\n",
    "    # Precision, Recall, F1-Score\n",
    "    precision = precision_score(all_labels, all_preds, average='binary' if binary_classification else 'weighted')\n",
    "    recall = recall_score(all_labels, all_preds, average='binary' if binary_classification else 'weighted')\n",
    "    f1 = f1_score(all_labels, all_preds, average='binary' if binary_classification else 'weighted')\n",
    "    print(f\"Precision: {precision:.4f}\")\n",
    "    print(f\"Recall: {recall:.4f}\")\n",
    "    print(f\"F1-Score: {f1:.4f}\")\n",
    "\n",
    "    # AUC-ROC and ROC Curve (for binary classification)\n",
    "    if binary_classification:\n",
    "        all_probs = np.array(all_probs)\n",
    "        if len(np.unique(all_labels)) == 2: \n",
    "            fpr, tpr, _ = roc_curve(all_labels, all_probs)\n",
    "            auc_score = auc(fpr, tpr)\n",
    "            print(f\"AUC-ROC: {auc_score:.4f}\")\n",
    "\n",
    "            # Plot ROC Curve\n",
    "            plt.figure()\n",
    "            plt.plot(fpr, tpr, color='blue', lw=2, label=f'ROC curve (AUC = {auc_score:.4f})')\n",
    "            plt.plot([0, 1], [0, 1], color='red', linestyle='--', lw=2)\n",
    "            plt.xlabel('False Positive Rate')\n",
    "            plt.ylabel('True Positive Rate')\n",
    "            plt.title('Receiver Operating Characteristic (ROC) Curve')\n",
    "            plt.legend(loc=\"lower right\")\n",
    "            plt.grid()\n",
    "            plt.show()\n",
    "        else:\n",
    "            print(\"AUC-ROC is not supported for multi-class tasks without modification.\")"
   ]
  },
  {
   "cell_type": "code",
   "execution_count": 14,
   "id": "3df1390a",
   "metadata": {
    "execution": {
     "iopub.execute_input": "2024-12-23T14:13:54.751829Z",
     "iopub.status.busy": "2024-12-23T14:13:54.751475Z",
     "iopub.status.idle": "2024-12-23T14:14:34.042864Z",
     "shell.execute_reply": "2024-12-23T14:14:34.041920Z"
    },
    "papermill": {
     "duration": 41.759903,
     "end_time": "2024-12-23T14:14:35.198656",
     "exception": false,
     "start_time": "2024-12-23T14:13:53.438753",
     "status": "completed"
    },
    "tags": []
   },
   "outputs": [
    {
     "name": "stdout",
     "output_type": "stream",
     "text": [
      "Accuracy on test set: 85.19%\n",
      "Confusion Matrix:\n",
      " [[4017 1120]\n",
      " [ 156 3324]]\n"
     ]
    },
    {
     "data": {
      "image/png": "[encoded data removed]",
      "text/plain": [
       "<Figure size 800x600 with 1 Axes>"
      ]
     },
     "metadata": {},
     "output_type": "display_data"
    },
    {
     "name": "stdout",
     "output_type": "stream",
     "text": [
      "Precision: 0.7480\n",
      "Recall: 0.9552\n",
      "F1-Score: 0.8390\n",
      "AUC-ROC: 0.9428\n"
     ]
    },
    {
     "data": {
      "image/png": "[encoded data removed]",
      "text/plain": [
       "<Figure size 640x480 with 1 Axes>"
      ]
     },
     "metadata": {},
     "output_type": "display_data"
    }
   ],
   "source": [
    "evaluate_model_with_metrics(model, test_loader, binary_classification=True)"
   ]
  },
  {
   "cell_type": "markdown",
   "id": "84d6a2ea",
   "metadata": {
    "papermill": {
     "duration": 1.287531,
     "end_time": "2024-12-23T14:14:37.707207",
     "exception": false,
     "start_time": "2024-12-23T14:14:36.419676",
     "status": "completed"
    },
    "tags": []
   },
   "source": [
    "# **Save Model**"
   ]
  },
  {
   "cell_type": "code",
   "execution_count": 15,
   "id": "41b2ecc8",
   "metadata": {
    "execution": {
     "iopub.execute_input": "2024-12-23T14:14:40.333033Z",
     "iopub.status.busy": "2024-12-23T14:14:40.332709Z",
     "iopub.status.idle": "2024-12-23T14:14:40.371764Z",
     "shell.execute_reply": "2024-12-23T14:14:40.370944Z"
    },
    "papermill": {
     "duration": 1.341541,
     "end_time": "2024-12-23T14:14:40.373086",
     "exception": false,
     "start_time": "2024-12-23T14:14:39.031545",
     "status": "completed"
    },
    "tags": []
   },
   "outputs": [
    {
     "name": "stdout",
     "output_type": "stream",
     "text": [
      "Models saved successfully to /kaggle/working/\n"
     ]
    }
   ],
   "source": [
    "# File paths to save models\n",
    "resnet18_path_50epochs = '/kaggle/working/model.pth'\n",
    "\n",
    "torch.save(model.state_dict(), resnet18_path_50epochs)\n",
    "\n",
    "print(\"Models saved successfully to /kaggle/working/\")"
   ]
  }
 ],
 "metadata": {
  "kaggle": {
   "accelerator": "nvidiaTeslaT4",
   "dataSources": [
    {
     "datasetId": 6271724,
     "sourceId": 10157629,
     "sourceType": "datasetVersion"
    },
    {
     "datasetId": 6271993,
     "sourceId": 10157971,
     "sourceType": "datasetVersion"
    },
    {
     "datasetId": 6280848,
     "sourceId": 10170011,
     "sourceType": "datasetVersion"
    }
   ],
   "dockerImageVersionId": 30823,
   "isGpuEnabled": true,
   "isInternetEnabled": true,
   "language": "python",
   "sourceType": "notebook"
  },
  "kernelspec": {
   "display_name": "Python 3",
   "language": "python",
   "name": "python3"
  },
  "language_info": {
   "codemirror_mode": {
    "name": "ipython",
    "version": 3
   },
   "file_extension": ".py",
   "mimetype": "text/x-python",
   "name": "python",
   "nbconvert_exporter": "python",
   "pygments_lexer": "ipython3",
   "version": "3.10.12"
  },
  "papermill": {
   "default_parameters": {},
   "duration": 6362.733526,
   "end_time": "2024-12-23T14:14:44.200002",
   "environment_variables": {},
   "exception": null,
   "input_path": "__notebook__.ipynb",
   "output_path": "__notebook__.ipynb",
   "parameters": {},
   "start_time": "2024-12-23T12:28:41.466476",
   "version": "2.6.0"
  },
  "widgets": {
   "application/vnd.jupyter.widget-state+json": {
    "state": {
     "06f2a1d9bca6459eb07e22e0e11f72a2": {
      "model_module": "@jupyter-widgets/controls",
      "model_module_version": "2.0.0",
      "model_name": "ProgressStyleModel",
      "state": {
       "_model_module": "@jupyter-widgets/controls",
       "_model_module_version": "2.0.0",
       "_model_name": "ProgressStyleModel",
       "_view_count": null,
       "_view_module": "@jupyter-widgets/base",
       "_view_module_version": "2.0.0",
       "_view_name": "StyleView",
       "bar_color": null,
       "description_width": ""
      }
     },
     "22b1ed87771b48959509c40d8229fc5c": {
      "model_module": "@jupyter-widgets/controls",
      "model_module_version": "2.0.0",
      "model_name": "FloatProgressModel",
      "state": {
       "_dom_classes": [],
       "_model_module": "@jupyter-widgets/controls",
       "_model_module_version": "2.0.0",
       "_model_name": "FloatProgressModel",
       "_view_count": null,
       "_view_module": "@jupyter-widgets/controls",
       "_view_module_version": "2.0.0",
       "_view_name": "ProgressView",
       "bar_style": "success",
       "description": "",
       "description_allow_html": false,
       "layout": "IPY_MODEL_562226f2a7964221967aca40ccc0d211",
       "max": 14684396.0,
       "min": 0.0,
       "orientation": "horizontal",
       "style": "IPY_MODEL_06f2a1d9bca6459eb07e22e0e11f72a2",
       "tabbable": null,
       "tooltip": null,
       "value": 14684396.0
      }
     },
     "2e43d65e29dd4b16aa70730629cd00bd": {
      "model_module": "@jupyter-widgets/controls",
      "model_module_version": "2.0.0",
      "model_name": "HTMLStyleModel",
      "state": {
       "_model_module": "@jupyter-widgets/controls",
       "_model_module_version": "2.0.0",
       "_model_name": "HTMLStyleModel",
       "_view_count": null,
       "_view_module": "@jupyter-widgets/base",
       "_view_module_version": "2.0.0",
       "_view_name": "StyleView",
       "background": null,
       "description_width": "",
       "font_size": null,
       "text_color": null
      }
     },
     "562226f2a7964221967aca40ccc0d211": {
      "model_module": "@jupyter-widgets/base",
      "model_module_version": "2.0.0",
      "model_name": "LayoutModel",
      "state": {
       "_model_module": "@jupyter-widgets/base",
       "_model_module_version": "2.0.0",
       "_model_name": "LayoutModel",
       "_view_count": null,
       "_view_module": "@jupyter-widgets/base",
       "_view_module_version": "2.0.0",
       "_view_name": "LayoutView",
       "align_content": null,
       "align_items": null,
       "align_self": null,
       "border_bottom": null,
       "border_left": null,
       "border_right": null,
       "border_top": null,
       "bottom": null,
       "display": null,
       "flex": null,
       "flex_flow": null,
       "grid_area": null,
       "grid_auto_columns": null,
       "grid_auto_flow": null,
       "grid_auto_rows": null,
       "grid_column": null,
       "grid_gap": null,
       "grid_row": null,
       "grid_template_areas": null,
       "grid_template_columns": null,
       "grid_template_rows": null,
       "height": null,
       "justify_content": null,
       "justify_items": null,
       "left": null,
       "margin": null,
       "max_height": null,
       "max_width": null,
       "min_height": null,
       "min_width": null,
       "object_fit": null,
       "object_position": null,
       "order": null,
       "overflow": null,
       "padding": null,
       "right": null,
       "top": null,
       "visibility": null,
       "width": null
      }
     },
     "9d95f29f8827463a88a40233c6286990": {
      "model_module": "@jupyter-widgets/controls",
      "model_module_version": "2.0.0",
      "model_name": "HTMLModel",
      "state": {
       "_dom_classes": [],
       "_model_module": "@jupyter-widgets/controls",
       "_model_module_version": "2.0.0",
       "_model_name": "HTMLModel",
       "_view_count": null,
       "_view_module": "@jupyter-widgets/controls",
       "_view_module_version": "2.0.0",
       "_view_name": "HTMLView",
       "description": "",
       "description_allow_html": false,
       "layout": "IPY_MODEL_b1f19c6fba124a119b659e562de94086",
       "placeholder": "​",
       "style": "IPY_MODEL_eb292560516e465ea72152de5c46d87b",
       "tabbable": null,
       "tooltip": null,
       "value": " 14.7M/14.7M [00:01&lt;00:00, 11.7MB/s]"
      }
     },
     "b1f19c6fba124a119b659e562de94086": {
      "model_module": "@jupyter-widgets/base",
      "model_module_version": "2.0.0",
      "model_name": "LayoutModel",
      "state": {
       "_model_module": "@jupyter-widgets/base",
       "_model_module_version": "2.0.0",
       "_model_name": "LayoutModel",
       "_view_count": null,
       "_view_module": "@jupyter-widgets/base",
       "_view_module_version": "2.0.0",
       "_view_name": "LayoutView",
       "align_content": null,
       "align_items": null,
       "align_self": null,
       "border_bottom": null,
       "border_left": null,
       "border_right": null,
       "border_top": null,
       "bottom": null,
       "display": null,
       "flex": null,
       "flex_flow": null,
       "grid_area": null,
       "grid_auto_columns": null,
       "grid_auto_flow": null,
       "grid_auto_rows": null,
       "grid_column": null,
       "grid_gap": null,
       "grid_row": null,
       "grid_template_areas": null,
       "grid_template_columns": null,
       "grid_template_rows": null,
       "height": null,
       "justify_content": null,
       "justify_items": null,
       "left": null,
       "margin": null,
       "max_height": null,
       "max_width": null,
       "min_height": null,
       "min_width": null,
       "object_fit": null,
       "object_position": null,
       "order": null,
       "overflow": null,
       "padding": null,
       "right": null,
       "top": null,
       "visibility": null,
       "width": null
      }
     },
     "c4e09f2dff6f462db483b060aba49e85": {
      "model_module": "@jupyter-widgets/base",
      "model_module_version": "2.0.0",
      "model_name": "LayoutModel",
      "state": {
       "_model_module": "@jupyter-widgets/base",
       "_model_module_version": "2.0.0",
       "_model_name": "LayoutModel",
       "_view_count": null,
       "_view_module": "@jupyter-widgets/base",
       "_view_module_version": "2.0.0",
       "_view_name": "LayoutView",
       "align_content": null,
       "align_items": null,
       "align_self": null,
       "border_bottom": null,
       "border_left": null,
       "border_right": null,
       "border_top": null,
       "bottom": null,
       "display": null,
       "flex": null,
       "flex_flow": null,
       "grid_area": null,
       "grid_auto_columns": null,
       "grid_auto_flow": null,
       "grid_auto_rows": null,
       "grid_column": null,
       "grid_gap": null,
       "grid_row": null,
       "grid_template_areas": null,
       "grid_template_columns": null,
       "grid_template_rows": null,
       "height": null,
       "justify_content": null,
       "justify_items": null,
       "left": null,
       "margin": null,
       "max_height": null,
       "max_width": null,
       "min_height": null,
       "min_width": null,
       "object_fit": null,
       "object_position": null,
       "order": null,
       "overflow": null,
       "padding": null,
       "right": null,
       "top": null,
       "visibility": null,
       "width": null
      }
     },
     "dafdaadee8be403c9b2c2c7564fa0d35": {
      "model_module": "@jupyter-widgets/controls",
      "model_module_version": "2.0.0",
      "model_name": "HBoxModel",
      "state": {
       "_dom_classes": [],
       "_model_module": "@jupyter-widgets/controls",
       "_model_module_version": "2.0.0",
       "_model_name": "HBoxModel",
       "_view_count": null,
       "_view_module": "@jupyter-widgets/controls",
       "_view_module_version": "2.0.0",
       "_view_name": "HBoxView",
       "box_style": "",
       "children": [
        "IPY_MODEL_e695dae24b9d42e283fd7f268948cf25",
        "IPY_MODEL_22b1ed87771b48959509c40d8229fc5c",
        "IPY_MODEL_9d95f29f8827463a88a40233c6286990"
       ],
       "layout": "IPY_MODEL_e9acb8dfd82d4e80b6937154b8cdaa12",
       "tabbable": null,
       "tooltip": null
      }
     },
     "e695dae24b9d42e283fd7f268948cf25": {
      "model_module": "@jupyter-widgets/controls",
      "model_module_version": "2.0.0",
      "model_name": "HTMLModel",
      "state": {
       "_dom_classes": [],
       "_model_module": "@jupyter-widgets/controls",
       "_model_module_version": "2.0.0",
       "_model_name": "HTMLModel",
       "_view_count": null,
       "_view_module": "@jupyter-widgets/controls",
       "_view_module_version": "2.0.0",
       "_view_name": "HTMLView",
       "description": "",
       "description_allow_html": false,
       "layout": "IPY_MODEL_c4e09f2dff6f462db483b060aba49e85",
       "placeholder": "​",
       "style": "IPY_MODEL_2e43d65e29dd4b16aa70730629cd00bd",
       "tabbable": null,
       "tooltip": null,
       "value": "model.safetensors: 100%"
      }
     },
     "e9acb8dfd82d4e80b6937154b8cdaa12": {
      "model_module": "@jupyter-widgets/base",
      "model_module_version": "2.0.0",
      "model_name": "LayoutModel",
      "state": {
       "_model_module": "@jupyter-widgets/base",
       "_model_module_version": "2.0.0",
       "_model_name": "LayoutModel",
       "_view_count": null,
       "_view_module": "@jupyter-widgets/base",
       "_view_module_version": "2.0.0",
       "_view_name": "LayoutView",
       "align_content": null,
       "align_items": null,
       "align_self": null,
       "border_bottom": null,
       "border_left": null,
       "border_right": null,
       "border_top": null,
       "bottom": null,
       "display": null,
       "flex": null,
       "flex_flow": null,
       "grid_area": null,
       "grid_auto_columns": null,
       "grid_auto_flow": null,
       "grid_auto_rows": null,
       "grid_column": null,
       "grid_gap": null,
       "grid_row": null,
       "grid_template_areas": null,
       "grid_template_columns": null,
       "grid_template_rows": null,
       "height": null,
       "justify_content": null,
       "justify_items": null,
       "left": null,
       "margin": null,
       "max_height": null,
       "max_width": null,
       "min_height": null,
       "min_width": null,
       "object_fit": null,
       "object_position": null,
       "order": null,
       "overflow": null,
       "padding": null,
       "right": null,
       "top": null,
       "visibility": null,
       "width": null
      }
     },
     "eb292560516e465ea72152de5c46d87b": {
      "model_module": "@jupyter-widgets/controls",
      "model_module_version": "2.0.0",
      "model_name": "HTMLStyleModel",
      "state": {
       "_model_module": "@jupyter-widgets/controls",
       "_model_module_version": "2.0.0",
       "_model_name": "HTMLStyleModel",
       "_view_count": null,
       "_view_module": "@jupyter-widgets/base",
       "_view_module_version": "2.0.0",
       "_view_name": "StyleView",
       "background": null,
       "description_width": "",
       "font_size": null,
       "text_color": null
      }
     }
    },
    "version_major": 2,
    "version_minor": 0
   }
  }
 },
 "nbformat": 4,
 "nbformat_minor": 5
}
