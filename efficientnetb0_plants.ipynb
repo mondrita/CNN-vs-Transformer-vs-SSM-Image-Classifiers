{
 "cells": [
  {
   "cell_type": "markdown",
   "metadata": {},
   "source": [
    "# Controlled evaluation on the PlantVillage Dataset"
   ]
  },
  {
   "cell_type": "code",
   "execution_count": null,
   "metadata": {},
   "outputs": [],
   "source": [
    "# !pip install evaluate accelerate"
   ]
  },
  {
   "cell_type": "code",
   "execution_count": 2,
   "metadata": {},
   "outputs": [],
   "source": [
    "# Importing necessary libraries and modules\n",
    "import warnings  # Import the 'warnings' module for handling warnings\n",
    "warnings.filterwarnings(\"ignore\")  # Ignore warnings during execution"
   ]
  },
  {
   "cell_type": "code",
   "execution_count": 3,
   "metadata": {},
   "outputs": [],
   "source": [
    "# Importing basic requirements\n",
    "import os\n",
    "import pandas as pd\n",
    "import numpy as np\n",
    "import matplotlib.pyplot as plt\n",
    "import seaborn as sns\n",
    "import random\n",
    "import os\n",
    "import itertools\n",
    "import datetime\n",
    "\n",
    "import evaluate\n",
    "import accelerate\n",
    "\n",
    "import torch\n",
    "import torch.nn as nn\n",
    "import torch.optim as optim\n",
    "import torch.nn.functional as F\n",
    "from torch.utils.data import DataLoader, Subset, WeightedRandomSampler, random_split\n",
    "from torch.optim.lr_scheduler import StepLR\n",
    "\n",
    "from torchvision import transforms, datasets\n",
    "\n",
    "import sklearn\n",
    "from sklearn.model_selection import train_test_split\n",
    "from sklearn.metrics import (\n",
    "    roc_curve,\n",
    "    auc,\n",
    "    accuracy_score,\n",
    "    confusion_matrix,\n",
    "    classification_report,\n",
    "    precision_recall_fscore_support,\n",
    "    precision_score,\n",
    "    recall_score,\n",
    "    f1_score,\n",
    "    roc_auc_score,\n",
    ")\n",
    "from sklearn.utils import class_weight\n",
    "\n",
    "from torchvision.transforms import (  # Import image transformation functions\n",
    "    CenterCrop,  # Center crop an image\n",
    "    Compose,  # Compose multiple image transformations\n",
    "    Normalize,  # Normalize image pixel values\n",
    "    RandomRotation,  # Apply random rotation to images\n",
    "    RandomResizedCrop,  # Crop and resize images randomly\n",
    "    RandomHorizontalFlip,  # Apply random horizontal flip\n",
    "    RandomAdjustSharpness,  # Adjust sharpness randomly\n",
    "    Resize,  # Resize images\n",
    "    ToTensor  # Convert images to PyTorch tensors\n",
    ")"
   ]
  },
  {
   "cell_type": "markdown",
   "metadata": {},
   "source": [
    "### Instructions\n",
    "\n",
    "*Note*: If a model is not available in Huggingface, import model and weights from *timm*.\n",
    "\n",
    "*For Huggingface models*\n",
    "1. Google Huggingface <modelName>\n",
    "2. Replace 'ConvNextImageProcessor' and 'ConvNextImageClassification' with appropriate processor and image classifier.\n",
    "3. Replace MODEL_STR with appropriate model string from the examples shown in documentation.\n",
    "\n",
    "*For timm models*\n",
    "\n",
    "*Heads up*: Timm wrapper is only available in nightly builds of the transformers library and had to be built from scratch. Also had to fix some bugs in the original source code. Bug fixes may not have propagated to the latest Kaggle environment which might produce errors. If you run into an error with timm models, skip and let me know.\n",
    "1. Replace 'ConvNextImageProcessor' and 'ConvNextImageClassification' with 'AutoImageProcessor' and 'AutoModelForImageClassification'\n",
    "2. Replace MODEL_STR with appropriate model string for weights. For example, you can get the Xception weights from this MODEL_STR: timm/xception41.tf_in1k\n",
    "\n",
    "\n",
    "Finally, replace the processor and image classifier calls in the 'Data pre-processing' and 'Loading Model' sections respectively."
   ]
  },
  {
   "cell_type": "code",
   "execution_count": 4,
   "metadata": {},
   "outputs": [],
   "source": [
    "# Huggingface transformers library\n",
    "from transformers import (  # Import various modules from the Transformers library\n",
    "    TrainingArguments,  # For training arguments\n",
    "    Trainer,  # For model training\n",
    "    EfficientNetImageProcessor,  # For processing image data with ConvNext models\n",
    "    EfficientNetForImageClassification,  # ConvNext model for image classification\n",
    "    DefaultDataCollator, # For collating data in the default way\n",
    "    TrainerCallback,\n",
    "    EarlyStoppingCallback,\n",
    ")"
   ]
  },
  {
   "cell_type": "code",
   "execution_count": 5,
   "metadata": {},
   "outputs": [],
   "source": [
    "# Model\n",
    "# Define the pre-trained model string\n",
    "MODEL_STR = 'google/efficientnet-b0'"
   ]
  },
  {
   "cell_type": "markdown",
   "metadata": {},
   "source": [
    "### Globals"
   ]
  },
  {
   "cell_type": "code",
   "execution_count": 6,
   "metadata": {},
   "outputs": [
    {
     "name": "stdout",
     "output_type": "stream",
     "text": [
      "Using device cuda.\n"
     ]
    }
   ],
   "source": [
    "# Checking for cuda availability and setting global device variable\n",
    "DEVICE = 'cuda' if torch.cuda.is_available() else 'cpu'\n",
    "\n",
    "print(f\"Using device {DEVICE}.\")"
   ]
  },
  {
   "cell_type": "code",
   "execution_count": 7,
   "metadata": {},
   "outputs": [],
   "source": [
    "# Seeding\n",
    "SEED = 42\n",
    "torch.manual_seed(SEED)           \n",
    "random.seed(SEED)                  \n",
    "np.random.seed(SEED)               \n",
    "torch.cuda.manual_seed(SEED)       \n",
    "torch.backends.cudnn.deterministic = True  \n",
    "torch.backends.cudnn.benchmark = False"
   ]
  },
  {
   "cell_type": "markdown",
   "metadata": {},
   "source": [
    "## Model "
   ]
  },
  {
   "cell_type": "markdown",
   "metadata": {},
   "source": [
    "## Loading Data "
   ]
  },
  {
   "cell_type": "code",
   "execution_count": 8,
   "metadata": {},
   "outputs": [],
   "source": [
    "from pathlib import Path\n",
    "from tqdm import tqdm\n",
    "import os"
   ]
  },
  {
   "cell_type": "code",
   "execution_count": 9,
   "metadata": {},
   "outputs": [],
   "source": [
    "# Absolute data path, change this as required.\n",
    "data_path = Path(\"/home/T2410196/KaggleEnv/PlantVillage\")"
   ]
  },
  {
   "cell_type": "code",
   "execution_count": 10,
   "metadata": {},
   "outputs": [
    {
     "name": "stderr",
     "output_type": "stream",
     "text": [
      "100%|██████████| 20638/20638 [00:00<00:00, 1238653.28it/s]"
     ]
    },
    {
     "name": "stdout",
     "output_type": "stream",
     "text": [
      "Number of images found in dataset: 20638\n"
     ]
    },
    {
     "name": "stderr",
     "output_type": "stream",
     "text": [
      "\n"
     ]
    }
   ],
   "source": [
    "# Import necessary libraries\n",
    "image_dict = {}\n",
    "\n",
    "# Define the list of file names\n",
    "# Initialize empty lists to store file names and labels\n",
    "file_names = []\n",
    "labels = []\n",
    "\n",
    "\n",
    "# Iterate through all image files in the specified directory\n",
    "for file in tqdm(sorted((data_path.glob('*/*.*[Gg]')))):\n",
    "    label = str(file).split('/')[-2]  # Extract the label from the file path\n",
    "    labels.append(label)  # Add the label to the list\n",
    "    file_names.append(str(file))  # Add the file path to the list\n",
    "\n",
    "# Create a pandas dataframe from the collected file names and labels\n",
    "df = pd.DataFrame.from_dict({\"image\": file_names, \"label\": labels})\n",
    "\n",
    "print(\"Number of images found in dataset:\", df.shape[0])"
   ]
  },
  {
   "cell_type": "code",
   "execution_count": 11,
   "metadata": {},
   "outputs": [
    {
     "data": {
      "text/html": [
       "<div>\n",
       "<style scoped>\n",
       "    .dataframe tbody tr th:only-of-type {\n",
       "        vertical-align: middle;\n",
       "    }\n",
       "\n",
       "    .dataframe tbody tr th {\n",
       "        vertical-align: top;\n",
       "    }\n",
       "\n",
       "    .dataframe thead th {\n",
       "        text-align: right;\n",
       "    }\n",
       "</style>\n",
       "<table border=\"1\" class=\"dataframe\">\n",
       "  <thead>\n",
       "    <tr style=\"text-align: right;\">\n",
       "      <th></th>\n",
       "      <th>image</th>\n",
       "      <th>label</th>\n",
       "    </tr>\n",
       "  </thead>\n",
       "  <tbody>\n",
       "    <tr>\n",
       "      <th>0</th>\n",
       "      <td>/home/T2410196/KaggleEnv/PlantVillage/Pepper__...</td>\n",
       "      <td>Pepper__bell___Bacterial_spot</td>\n",
       "    </tr>\n",
       "    <tr>\n",
       "      <th>1</th>\n",
       "      <td>/home/T2410196/KaggleEnv/PlantVillage/Pepper__...</td>\n",
       "      <td>Pepper__bell___Bacterial_spot</td>\n",
       "    </tr>\n",
       "    <tr>\n",
       "      <th>2</th>\n",
       "      <td>/home/T2410196/KaggleEnv/PlantVillage/Pepper__...</td>\n",
       "      <td>Pepper__bell___Bacterial_spot</td>\n",
       "    </tr>\n",
       "    <tr>\n",
       "      <th>3</th>\n",
       "      <td>/home/T2410196/KaggleEnv/PlantVillage/Pepper__...</td>\n",
       "      <td>Pepper__bell___Bacterial_spot</td>\n",
       "    </tr>\n",
       "    <tr>\n",
       "      <th>4</th>\n",
       "      <td>/home/T2410196/KaggleEnv/PlantVillage/Pepper__...</td>\n",
       "      <td>Pepper__bell___Bacterial_spot</td>\n",
       "    </tr>\n",
       "    <tr>\n",
       "      <th>5</th>\n",
       "      <td>/home/T2410196/KaggleEnv/PlantVillage/Pepper__...</td>\n",
       "      <td>Pepper__bell___Bacterial_spot</td>\n",
       "    </tr>\n",
       "    <tr>\n",
       "      <th>6</th>\n",
       "      <td>/home/T2410196/KaggleEnv/PlantVillage/Pepper__...</td>\n",
       "      <td>Pepper__bell___Bacterial_spot</td>\n",
       "    </tr>\n",
       "    <tr>\n",
       "      <th>7</th>\n",
       "      <td>/home/T2410196/KaggleEnv/PlantVillage/Pepper__...</td>\n",
       "      <td>Pepper__bell___Bacterial_spot</td>\n",
       "    </tr>\n",
       "    <tr>\n",
       "      <th>8</th>\n",
       "      <td>/home/T2410196/KaggleEnv/PlantVillage/Pepper__...</td>\n",
       "      <td>Pepper__bell___Bacterial_spot</td>\n",
       "    </tr>\n",
       "    <tr>\n",
       "      <th>9</th>\n",
       "      <td>/home/T2410196/KaggleEnv/PlantVillage/Pepper__...</td>\n",
       "      <td>Pepper__bell___Bacterial_spot</td>\n",
       "    </tr>\n",
       "  </tbody>\n",
       "</table>\n",
       "</div>"
      ],
      "text/plain": [
       "                                               image  \\\n",
       "0  /home/T2410196/KaggleEnv/PlantVillage/Pepper__...   \n",
       "1  /home/T2410196/KaggleEnv/PlantVillage/Pepper__...   \n",
       "2  /home/T2410196/KaggleEnv/PlantVillage/Pepper__...   \n",
       "3  /home/T2410196/KaggleEnv/PlantVillage/Pepper__...   \n",
       "4  /home/T2410196/KaggleEnv/PlantVillage/Pepper__...   \n",
       "5  /home/T2410196/KaggleEnv/PlantVillage/Pepper__...   \n",
       "6  /home/T2410196/KaggleEnv/PlantVillage/Pepper__...   \n",
       "7  /home/T2410196/KaggleEnv/PlantVillage/Pepper__...   \n",
       "8  /home/T2410196/KaggleEnv/PlantVillage/Pepper__...   \n",
       "9  /home/T2410196/KaggleEnv/PlantVillage/Pepper__...   \n",
       "\n",
       "                           label  \n",
       "0  Pepper__bell___Bacterial_spot  \n",
       "1  Pepper__bell___Bacterial_spot  \n",
       "2  Pepper__bell___Bacterial_spot  \n",
       "3  Pepper__bell___Bacterial_spot  \n",
       "4  Pepper__bell___Bacterial_spot  \n",
       "5  Pepper__bell___Bacterial_spot  \n",
       "6  Pepper__bell___Bacterial_spot  \n",
       "7  Pepper__bell___Bacterial_spot  \n",
       "8  Pepper__bell___Bacterial_spot  \n",
       "9  Pepper__bell___Bacterial_spot  "
      ]
     },
     "execution_count": 11,
     "metadata": {},
     "output_type": "execute_result"
    }
   ],
   "source": [
    "df.head(10)"
   ]
  },
  {
   "cell_type": "markdown",
   "metadata": {},
   "source": [
    "## Data Analysis"
   ]
  },
  {
   "cell_type": "code",
   "execution_count": 12,
   "metadata": {},
   "outputs": [
    {
     "name": "stdout",
     "output_type": "stream",
     "text": [
      "Unique Labels:\n",
      " ['Pepper__bell___Bacterial_spot' 'Pepper__bell___healthy'\n",
      " 'Potato___Early_blight' 'Potato___Late_blight' 'Potato___healthy'\n",
      " 'Tomato_Bacterial_spot' 'Tomato_Early_blight' 'Tomato_Late_blight'\n",
      " 'Tomato_Leaf_Mold' 'Tomato_Septoria_leaf_spot'\n",
      " 'Tomato_Spider_mites_Two_spotted_spider_mite' 'Tomato__Target_Spot'\n",
      " 'Tomato__Tomato_YellowLeaf__Curl_Virus' 'Tomato__Tomato_mosaic_virus'\n",
      " 'Tomato_healthy']\n",
      "Number of labels: 15\n"
     ]
    }
   ],
   "source": [
    "print(\"Unique Labels:\\n\", df['label'].unique())\n",
    "print(\"Number of labels:\", len(df['label'].unique()))"
   ]
  },
  {
   "cell_type": "markdown",
   "metadata": {},
   "source": [
    "### Data distribution"
   ]
  },
  {
   "cell_type": "code",
   "execution_count": 13,
   "metadata": {},
   "outputs": [
    {
     "data": {
      "image/png": "[encoded data removed]",
      "text/plain": [
       "<Figure size 1000x600 with 1 Axes>"
      ]
     },
     "metadata": {},
     "output_type": "display_data"
    }
   ],
   "source": [
    "# Count the occurrences of each label\n",
    "label_counts = df['label'].value_counts()\n",
    "\n",
    "# Plot the bar chart\n",
    "plt.figure(figsize=(10, 6))\n",
    "label_counts.plot(kind='bar', color='skyblue', edgecolor='black')\n",
    "\n",
    "# Add title and labels\n",
    "plt.title('Label Distribution in Dataset', fontsize=16)\n",
    "plt.xlabel('Labels', fontsize=14)\n",
    "plt.ylabel('Count', fontsize=14)\n",
    "\n",
    "# Rotate x-axis labels for better readability if needed\n",
    "plt.xticks(rotation=90, fontsize=12)\n",
    "plt.yticks(fontsize=12)\n",
    "\n",
    "# Show the plot\n",
    "plt.tight_layout()\n",
    "plt.show()"
   ]
  },
  {
   "cell_type": "markdown",
   "metadata": {},
   "source": [
    "### Image size"
   ]
  },
  {
   "cell_type": "code",
   "execution_count": 14,
   "metadata": {},
   "outputs": [],
   "source": [
    "# from PIL import Image as PILImage\n",
    "\n",
    "# # List to store image sizes\n",
    "# image_sizes = []\n",
    "\n",
    "# # Iterate through the image paths in the dataframe\n",
    "# for image_path in df['image']:\n",
    "#     try:\n",
    "#         # Open the image and get its size\n",
    "#         with PILImage.open(image_path) as img:\n",
    "#             width, height = img.size\n",
    "#             image_sizes.append((width, height))\n",
    "#     except Exception as e:\n",
    "#         print(f\"Error processing image {image_path}: {e}\")\n",
    "#         image_sizes.append((None, None))  # To handle missing or unreadable images\n",
    "\n",
    "# # Separate widths and heights\n",
    "# widths, heights = zip(*image_sizes)\n",
    "\n",
    "# plt.figure(figsize=(8, 6))\n",
    "# plt.hexbin(widths, heights, gridsize=30, cmap='Blues', mincnt=1)\n",
    "\n",
    "# # Add a colorbar to show density levels\n",
    "# plt.colorbar(label='Density')\n",
    "\n",
    "# # Add labels and title\n",
    "# plt.title('Image Size Distribution (Hexbin Plot)', fontsize=16)\n",
    "# plt.xlabel('Width (pixels)', fontsize=14)\n",
    "# plt.ylabel('Height (pixels)', fontsize=14)\n",
    "# plt.grid(alpha=0.3)\n",
    "\n",
    "# plt.tight_layout()\n",
    "# plt.show()"
   ]
  },
  {
   "cell_type": "markdown",
   "metadata": {},
   "source": [
    "All images have uniform size of (256, 256)"
   ]
  },
  {
   "cell_type": "markdown",
   "metadata": {},
   "source": [
    "### Random image samples"
   ]
  },
  {
   "cell_type": "code",
   "execution_count": 15,
   "metadata": {},
   "outputs": [],
   "source": [
    "# def display_random_images(rows,cols):\n",
    "#     fig, ax = plt.subplots(rows,cols,figsize=(10,10))\n",
    "#     random = df.sample(rows*cols)\n",
    "\n",
    "#     for i in range(rows):\n",
    "#         for j in range(cols):\n",
    "#             image_path=os.path.join(data_path,random.iloc[i*cols+j]['image'])\n",
    "#             ax[i,j].imshow(PILImage.open(image_path))\n",
    "\n",
    "# display_random_images(3,5)"
   ]
  },
  {
   "cell_type": "markdown",
   "metadata": {},
   "source": [
    "## Splitting the dataframe into train, val and split "
   ]
  },
  {
   "cell_type": "code",
   "execution_count": 16,
   "metadata": {},
   "outputs": [
    {
     "name": "stdout",
     "output_type": "stream",
     "text": [
      "Train set: 14446 samples\n",
      "Validation set: 3096 samples\n",
      "Test set: 3096 samples\n"
     ]
    }
   ],
   "source": [
    "# Define the split ratios\n",
    "train_ratio = 0.7\n",
    "val_ratio = 0.15\n",
    "test_ratio = 0.15\n",
    "\n",
    "# Split the data into train and temp (validation + test)\n",
    "train_df, temp_df = train_test_split(df, test_size=(1 - train_ratio), stratify=df['label'], random_state=42)\n",
    "\n",
    "# Further split temp into validation and test\n",
    "val_df, test_df = train_test_split(temp_df, test_size=(test_ratio / (val_ratio + test_ratio)), stratify=temp_df['label'], random_state=42)\n",
    "\n",
    "# Print the number of samples in each set\n",
    "print(f\"Train set: {len(train_df)} samples\")\n",
    "print(f\"Validation set: {len(val_df)} samples\")\n",
    "print(f\"Test set: {len(test_df)} samples\")"
   ]
  },
  {
   "cell_type": "code",
   "execution_count": 17,
   "metadata": {},
   "outputs": [
    {
     "data": {
      "text/html": [
       "<div>\n",
       "<style scoped>\n",
       "    .dataframe tbody tr th:only-of-type {\n",
       "        vertical-align: middle;\n",
       "    }\n",
       "\n",
       "    .dataframe tbody tr th {\n",
       "        vertical-align: top;\n",
       "    }\n",
       "\n",
       "    .dataframe thead th {\n",
       "        text-align: right;\n",
       "    }\n",
       "</style>\n",
       "<table border=\"1\" class=\"dataframe\">\n",
       "  <thead>\n",
       "    <tr style=\"text-align: right;\">\n",
       "      <th></th>\n",
       "      <th>image</th>\n",
       "      <th>label</th>\n",
       "    </tr>\n",
       "  </thead>\n",
       "  <tbody>\n",
       "    <tr>\n",
       "      <th>3706</th>\n",
       "      <td>/home/T2410196/KaggleEnv/PlantVillage/Potato__...</td>\n",
       "      <td>Potato___Late_blight</td>\n",
       "    </tr>\n",
       "    <tr>\n",
       "      <th>1544</th>\n",
       "      <td>/home/T2410196/KaggleEnv/PlantVillage/Pepper__...</td>\n",
       "      <td>Pepper__bell___healthy</td>\n",
       "    </tr>\n",
       "    <tr>\n",
       "      <th>18884</th>\n",
       "      <td>/home/T2410196/KaggleEnv/PlantVillage/Tomato__...</td>\n",
       "      <td>Tomato__Tomato_mosaic_virus</td>\n",
       "    </tr>\n",
       "    <tr>\n",
       "      <th>13342</th>\n",
       "      <td>/home/T2410196/KaggleEnv/PlantVillage/Tomato_S...</td>\n",
       "      <td>Tomato_Spider_mites_Two_spotted_spider_mite</td>\n",
       "    </tr>\n",
       "    <tr>\n",
       "      <th>3798</th>\n",
       "      <td>/home/T2410196/KaggleEnv/PlantVillage/Potato__...</td>\n",
       "      <td>Potato___Late_blight</td>\n",
       "    </tr>\n",
       "  </tbody>\n",
       "</table>\n",
       "</div>"
      ],
      "text/plain": [
       "                                                   image  \\\n",
       "3706   /home/T2410196/KaggleEnv/PlantVillage/Potato__...   \n",
       "1544   /home/T2410196/KaggleEnv/PlantVillage/Pepper__...   \n",
       "18884  /home/T2410196/KaggleEnv/PlantVillage/Tomato__...   \n",
       "13342  /home/T2410196/KaggleEnv/PlantVillage/Tomato_S...   \n",
       "3798   /home/T2410196/KaggleEnv/PlantVillage/Potato__...   \n",
       "\n",
       "                                             label  \n",
       "3706                          Potato___Late_blight  \n",
       "1544                        Pepper__bell___healthy  \n",
       "18884                  Tomato__Tomato_mosaic_virus  \n",
       "13342  Tomato_Spider_mites_Two_spotted_spider_mite  \n",
       "3798                          Potato___Late_blight  "
      ]
     },
     "execution_count": 17,
     "metadata": {},
     "output_type": "execute_result"
    }
   ],
   "source": [
    "train_df.head()"
   ]
  },
  {
   "cell_type": "code",
   "execution_count": 18,
   "metadata": {},
   "outputs": [
    {
     "data": {
      "text/html": [
       "<div>\n",
       "<style scoped>\n",
       "    .dataframe tbody tr th:only-of-type {\n",
       "        vertical-align: middle;\n",
       "    }\n",
       "\n",
       "    .dataframe tbody tr th {\n",
       "        vertical-align: top;\n",
       "    }\n",
       "\n",
       "    .dataframe thead th {\n",
       "        text-align: right;\n",
       "    }\n",
       "</style>\n",
       "<table border=\"1\" class=\"dataframe\">\n",
       "  <thead>\n",
       "    <tr style=\"text-align: right;\">\n",
       "      <th></th>\n",
       "      <th>image</th>\n",
       "      <th>label</th>\n",
       "    </tr>\n",
       "  </thead>\n",
       "  <tbody>\n",
       "    <tr>\n",
       "      <th>3291</th>\n",
       "      <td>/home/T2410196/KaggleEnv/PlantVillage/Potato__...</td>\n",
       "      <td>Potato___Early_blight</td>\n",
       "    </tr>\n",
       "    <tr>\n",
       "      <th>12151</th>\n",
       "      <td>/home/T2410196/KaggleEnv/PlantVillage/Tomato_S...</td>\n",
       "      <td>Tomato_Septoria_leaf_spot</td>\n",
       "    </tr>\n",
       "    <tr>\n",
       "      <th>9108</th>\n",
       "      <td>/home/T2410196/KaggleEnv/PlantVillage/Tomato_L...</td>\n",
       "      <td>Tomato_Late_blight</td>\n",
       "    </tr>\n",
       "    <tr>\n",
       "      <th>12277</th>\n",
       "      <td>/home/T2410196/KaggleEnv/PlantVillage/Tomato_S...</td>\n",
       "      <td>Tomato_Septoria_leaf_spot</td>\n",
       "    </tr>\n",
       "    <tr>\n",
       "      <th>8674</th>\n",
       "      <td>/home/T2410196/KaggleEnv/PlantVillage/Tomato_L...</td>\n",
       "      <td>Tomato_Late_blight</td>\n",
       "    </tr>\n",
       "  </tbody>\n",
       "</table>\n",
       "</div>"
      ],
      "text/plain": [
       "                                                   image  \\\n",
       "3291   /home/T2410196/KaggleEnv/PlantVillage/Potato__...   \n",
       "12151  /home/T2410196/KaggleEnv/PlantVillage/Tomato_S...   \n",
       "9108   /home/T2410196/KaggleEnv/PlantVillage/Tomato_L...   \n",
       "12277  /home/T2410196/KaggleEnv/PlantVillage/Tomato_S...   \n",
       "8674   /home/T2410196/KaggleEnv/PlantVillage/Tomato_L...   \n",
       "\n",
       "                           label  \n",
       "3291       Potato___Early_blight  \n",
       "12151  Tomato_Septoria_leaf_spot  \n",
       "9108          Tomato_Late_blight  \n",
       "12277  Tomato_Septoria_leaf_spot  \n",
       "8674          Tomato_Late_blight  "
      ]
     },
     "execution_count": 18,
     "metadata": {},
     "output_type": "execute_result"
    }
   ],
   "source": [
    "val_df.head()"
   ]
  },
  {
   "cell_type": "code",
   "execution_count": 19,
   "metadata": {},
   "outputs": [
    {
     "data": {
      "text/html": [
       "<div>\n",
       "<style scoped>\n",
       "    .dataframe tbody tr th:only-of-type {\n",
       "        vertical-align: middle;\n",
       "    }\n",
       "\n",
       "    .dataframe tbody tr th {\n",
       "        vertical-align: top;\n",
       "    }\n",
       "\n",
       "    .dataframe thead th {\n",
       "        text-align: right;\n",
       "    }\n",
       "</style>\n",
       "<table border=\"1\" class=\"dataframe\">\n",
       "  <thead>\n",
       "    <tr style=\"text-align: right;\">\n",
       "      <th></th>\n",
       "      <th>image</th>\n",
       "      <th>label</th>\n",
       "    </tr>\n",
       "  </thead>\n",
       "  <tbody>\n",
       "    <tr>\n",
       "      <th>15233</th>\n",
       "      <td>/home/T2410196/KaggleEnv/PlantVillage/Tomato__...</td>\n",
       "      <td>Tomato__Target_Spot</td>\n",
       "    </tr>\n",
       "    <tr>\n",
       "      <th>2842</th>\n",
       "      <td>/home/T2410196/KaggleEnv/PlantVillage/Potato__...</td>\n",
       "      <td>Potato___Early_blight</td>\n",
       "    </tr>\n",
       "    <tr>\n",
       "      <th>19415</th>\n",
       "      <td>/home/T2410196/KaggleEnv/PlantVillage/Tomato_h...</td>\n",
       "      <td>Tomato_healthy</td>\n",
       "    </tr>\n",
       "    <tr>\n",
       "      <th>15998</th>\n",
       "      <td>/home/T2410196/KaggleEnv/PlantVillage/Tomato__...</td>\n",
       "      <td>Tomato__Tomato_YellowLeaf__Curl_Virus</td>\n",
       "    </tr>\n",
       "    <tr>\n",
       "      <th>14736</th>\n",
       "      <td>/home/T2410196/KaggleEnv/PlantVillage/Tomato__...</td>\n",
       "      <td>Tomato__Target_Spot</td>\n",
       "    </tr>\n",
       "  </tbody>\n",
       "</table>\n",
       "</div>"
      ],
      "text/plain": [
       "                                                   image  \\\n",
       "15233  /home/T2410196/KaggleEnv/PlantVillage/Tomato__...   \n",
       "2842   /home/T2410196/KaggleEnv/PlantVillage/Potato__...   \n",
       "19415  /home/T2410196/KaggleEnv/PlantVillage/Tomato_h...   \n",
       "15998  /home/T2410196/KaggleEnv/PlantVillage/Tomato__...   \n",
       "14736  /home/T2410196/KaggleEnv/PlantVillage/Tomato__...   \n",
       "\n",
       "                                       label  \n",
       "15233                    Tomato__Target_Spot  \n",
       "2842                   Potato___Early_blight  \n",
       "19415                         Tomato_healthy  \n",
       "15998  Tomato__Tomato_YellowLeaf__Curl_Virus  \n",
       "14736                    Tomato__Target_Spot  "
      ]
     },
     "execution_count": 19,
     "metadata": {},
     "output_type": "execute_result"
    }
   ],
   "source": [
    "test_df.head()"
   ]
  },
  {
   "cell_type": "markdown",
   "metadata": {},
   "source": [
    "## Creating Dataset"
   ]
  },
  {
   "cell_type": "code",
   "execution_count": 20,
   "metadata": {},
   "outputs": [
    {
     "data": {
      "text/plain": [
       "(Dataset({\n",
       "     features: ['image', 'label', '__index_level_0__'],\n",
       "     num_rows: 14446\n",
       " }),\n",
       " Dataset({\n",
       "     features: ['image', 'label', '__index_level_0__'],\n",
       "     num_rows: 3096\n",
       " }),\n",
       " Dataset({\n",
       "     features: ['image', 'label', '__index_level_0__'],\n",
       "     num_rows: 3096\n",
       " }))"
      ]
     },
     "execution_count": 20,
     "metadata": {},
     "output_type": "execute_result"
    }
   ],
   "source": [
    "# Create a dataset from a Pandas DataFrame.\n",
    "from datasets import Dataset, Image, ClassLabel\n",
    "\n",
    "train_data = Dataset.from_pandas(train_df).cast_column(\"image\", Image())\n",
    "val_data = Dataset.from_pandas(val_df).cast_column(\"image\", Image())\n",
    "test_data = Dataset.from_pandas(test_df).cast_column(\"image\", Image())\n",
    "\n",
    "train_data, val_data, test_data"
   ]
  },
  {
   "cell_type": "markdown",
   "metadata": {},
   "source": [
    "## Data pre-processing"
   ]
  },
  {
   "cell_type": "markdown",
   "metadata": {},
   "source": [
    "### ClassLabel mapping"
   ]
  },
  {
   "cell_type": "code",
   "execution_count": 21,
   "metadata": {},
   "outputs": [
    {
     "name": "stdout",
     "output_type": "stream",
     "text": [
      "Mapping of IDs to Labels: {0: 'Pepper__bell___Bacterial_spot', 1: 'Pepper__bell___healthy', 2: 'Potato___Early_blight', 3: 'Potato___Late_blight', 4: 'Potato___healthy', 5: 'Tomato_Bacterial_spot', 6: 'Tomato_Early_blight', 7: 'Tomato_Late_blight', 8: 'Tomato_Leaf_Mold', 9: 'Tomato_Septoria_leaf_spot', 10: 'Tomato_Spider_mites_Two_spotted_spider_mite', 11: 'Tomato__Target_Spot', 12: 'Tomato__Tomato_YellowLeaf__Curl_Virus', 13: 'Tomato__Tomato_mosaic_virus', 14: 'Tomato_healthy'} \n",
      "\n",
      "Mapping of Labels to IDs: {'Pepper__bell___Bacterial_spot': 0, 'Pepper__bell___healthy': 1, 'Potato___Early_blight': 2, 'Potato___Late_blight': 3, 'Potato___healthy': 4, 'Tomato_Bacterial_spot': 5, 'Tomato_Early_blight': 6, 'Tomato_Late_blight': 7, 'Tomato_Leaf_Mold': 8, 'Tomato_Septoria_leaf_spot': 9, 'Tomato_Spider_mites_Two_spotted_spider_mite': 10, 'Tomato__Target_Spot': 11, 'Tomato__Tomato_YellowLeaf__Curl_Virus': 12, 'Tomato__Tomato_mosaic_virus': 13, 'Tomato_healthy': 14}\n"
     ]
    }
   ],
   "source": [
    "# Create a list of unique labels by converting 'labels' to a set and then back to a list\n",
    "labels_list = sorted(df['label'].unique())\n",
    "\n",
    "# Initialize empty dictionaries to map labels to IDs and vice versa\n",
    "label2id, id2label = dict(), dict()\n",
    "\n",
    "# Iterate over the unique labels and assign each label an ID, and vice versa\n",
    "for i, label in enumerate(labels_list):\n",
    "    label2id[label] = i  # Map the label to its corresponding ID\n",
    "    id2label[i] = label  # Map the ID to its corresponding label\n",
    "\n",
    "# Print the resulting dictionaries for reference\n",
    "print(\"Mapping of IDs to Labels:\", id2label, '\\n')\n",
    "print(\"Mapping of Labels to IDs:\", label2id)"
   ]
  },
  {
   "cell_type": "code",
   "execution_count": 22,
   "metadata": {},
   "outputs": [
    {
     "data": {
      "application/vnd.jupyter.widget-view+json": {
       "model_id": "85bd02df1d0b4fcebe74caa01347fbc7",
       "version_major": 2,
       "version_minor": 0
      },
      "text/plain": [
       "Map:   0%|          | 0/14446 [00:00<?, ? examples/s]"
      ]
     },
     "metadata": {},
     "output_type": "display_data"
    },
    {
     "data": {
      "application/vnd.jupyter.widget-view+json": {
       "model_id": "398ce3e18b5f4b059b81fd4262d26163",
       "version_major": 2,
       "version_minor": 0
      },
      "text/plain": [
       "Casting the dataset:   0%|          | 0/14446 [00:00<?, ? examples/s]"
      ]
     },
     "metadata": {},
     "output_type": "display_data"
    },
    {
     "data": {
      "application/vnd.jupyter.widget-view+json": {
       "model_id": "809852da84e7407eb9e72dfb01ac28fe",
       "version_major": 2,
       "version_minor": 0
      },
      "text/plain": [
       "Map:   0%|          | 0/3096 [00:00<?, ? examples/s]"
      ]
     },
     "metadata": {},
     "output_type": "display_data"
    },
    {
     "data": {
      "application/vnd.jupyter.widget-view+json": {
       "model_id": "b0e0b89c5baa420390b3b136784be9d7",
       "version_major": 2,
       "version_minor": 0
      },
      "text/plain": [
       "Casting the dataset:   0%|          | 0/3096 [00:00<?, ? examples/s]"
      ]
     },
     "metadata": {},
     "output_type": "display_data"
    },
    {
     "data": {
      "application/vnd.jupyter.widget-view+json": {
       "model_id": "471e9bbb17a541c8a7ce10ca2c6700d6",
       "version_major": 2,
       "version_minor": 0
      },
      "text/plain": [
       "Map:   0%|          | 0/3096 [00:00<?, ? examples/s]"
      ]
     },
     "metadata": {},
     "output_type": "display_data"
    },
    {
     "data": {
      "application/vnd.jupyter.widget-view+json": {
       "model_id": "30e3f045aee4416d8f7519c62b5bc617",
       "version_major": 2,
       "version_minor": 0
      },
      "text/plain": [
       "Casting the dataset:   0%|          | 0/3096 [00:00<?, ? examples/s]"
      ]
     },
     "metadata": {},
     "output_type": "display_data"
    }
   ],
   "source": [
    "# Creating classlabels to match labels to IDs\n",
    "ClassLabels = ClassLabel(num_classes=len(labels_list), names=labels_list)\n",
    "\n",
    "# Mapping labels to IDs\n",
    "def map_label2id(example):\n",
    "    example['label'] = ClassLabels.str2int(example['label'])\n",
    "    return example\n",
    "\n",
    "train_data = train_data.map(map_label2id, batched=True)\n",
    "train_data = train_data.cast_column('label', ClassLabels)\n",
    "\n",
    "val_data = val_data.map(map_label2id, batched=True)\n",
    "val_data = val_data.cast_column('label', ClassLabels)\n",
    "\n",
    "test_data = test_data.map(map_label2id, batched=True)\n",
    "test_data = test_data.cast_column('label', ClassLabels)"
   ]
  },
  {
   "cell_type": "markdown",
   "metadata": {},
   "source": [
    "### Transformations"
   ]
  },
  {
   "cell_type": "code",
   "execution_count": 23,
   "metadata": {},
   "outputs": [],
   "source": [
    "# raise Warning(\"Remember to replace processor entry here.\")"
   ]
  },
  {
   "cell_type": "code",
   "execution_count": 24,
   "metadata": {},
   "outputs": [
    {
     "data": {
      "application/vnd.jupyter.widget-view+json": {
       "model_id": "4c59fe95b3644965bfbf9de6d6418c53",
       "version_major": 2,
       "version_minor": 0
      },
      "text/plain": [
       "preprocessor_config.json:   0%|          | 0.00/472 [00:00<?, ?B/s]"
      ]
     },
     "metadata": {},
     "output_type": "display_data"
    },
    {
     "name": "stdout",
     "output_type": "stream",
     "text": [
      "EfficientNetImageProcessor {\n",
      "  \"crop_size\": {\n",
      "    \"height\": 289,\n",
      "    \"width\": 289\n",
      "  },\n",
      "  \"do_center_crop\": false,\n",
      "  \"do_normalize\": true,\n",
      "  \"do_rescale\": true,\n",
      "  \"do_resize\": true,\n",
      "  \"image_mean\": [\n",
      "    0.485,\n",
      "    0.456,\n",
      "    0.406\n",
      "  ],\n",
      "  \"image_processor_type\": \"EfficientNetImageProcessor\",\n",
      "  \"image_std\": [\n",
      "    0.47853944,\n",
      "    0.4732864,\n",
      "    0.47434163\n",
      "  ],\n",
      "  \"include_top\": true,\n",
      "  \"resample\": 0,\n",
      "  \"rescale_factor\": 0.00392156862745098,\n",
      "  \"rescale_offset\": false,\n",
      "  \"size\": {\n",
      "    \"height\": 224,\n",
      "    \"width\": 224\n",
      "  }\n",
      "}\n",
      "\n"
     ]
    }
   ],
   "source": [
    "# Create a processor for ViT model input from the pre-trained model\n",
    "processor = EfficientNetImageProcessor.from_pretrained(MODEL_STR)\n",
    "\n",
    "print(processor)"
   ]
  },
  {
   "cell_type": "markdown",
   "metadata": {},
   "source": [
    "### Instructions\n",
    "\n",
    "The following cell might, on occasions, produce errors. This is due to the inherenet differences in the naming for properties in image processors. Look for three specific properties in the processor printed in the above cell.\n",
    "1. size (should be something like 224/256 etc)\n",
    "2. image_mean\n",
    "3. image_std\n",
    "\n",
    "The lines that should be edited are commented with numbers. Adjust them accordingly. The first property is accessed using the dot syntax and the rest are dictionaries.\n",
    "For example, to access shortest edge from the above processor, we write processor.size[\"shortest_edge\"]."
   ]
  },
  {
   "cell_type": "code",
   "execution_count": 25,
   "metadata": {},
   "outputs": [
    {
     "name": "stdout",
     "output_type": "stream",
     "text": [
      "Size:  256\n"
     ]
    }
   ],
   "source": [
    "# 1\n",
    "size = 256\n",
    "print(\"Size: \", size)\n",
    "\n",
    "# 2 and 3\n",
    "image_mean, image_std = processor.image_mean, processor.image_std\n",
    "\n",
    "# Define a normalization transformation for the input images\n",
    "normalize = Normalize(mean=image_mean, std=image_std)\n",
    "\n",
    "# Define a set of transformations for training data\n",
    "_train_transforms = Compose(\n",
    "    [\n",
    "        Resize((size, size)),             # Resize images to the ViT model's input size\n",
    "        RandomRotation(30),               # Apply random rotation\n",
    "        RandomHorizontalFlip(0.5),        # Apply random horizontal flip\n",
    "        RandomAdjustSharpness(2),         # Adjust sharpness randomly\n",
    "        ToTensor(),                       # Convert images to tensors\n",
    "        normalize                         # Normalize images using mean and std\n",
    "    ]\n",
    ")\n",
    "\n",
    "# Define a set of transformations for validation data\n",
    "_val_transforms = Compose(\n",
    "    [\n",
    "        Resize((size, size)),             # Resize images to the ViT model's input size\n",
    "        ToTensor(),                       # Convert images to tensors\n",
    "        normalize                         # Normalize images using mean and std\n",
    "    ]\n",
    ")\n",
    "\n",
    "_test_transforms = Compose(\n",
    "    [\n",
    "        Resize((size, size)),             # Resize images to the ViT model's input size\n",
    "        ToTensor(),                       # Convert images to tensors\n",
    "        normalize                         # Normalize images using mean and std\n",
    "    ]\n",
    ")\n",
    "\n",
    "\n",
    "# Define a function to apply training transformations to a batch of examples\n",
    "def train_transforms(examples):\n",
    "    examples['pixel_values'] = [_train_transforms(image.convert(\"RGB\")) for image in examples['image']]\n",
    "    return examples\n",
    "\n",
    "# Define a function to apply validation transformations to a batch of examples\n",
    "def val_transforms(examples):\n",
    "    examples['pixel_values'] = [_val_transforms(image.convert(\"RGB\")) for image in examples['image']]\n",
    "    return examples\n",
    "\n",
    "def test_transforms(examples):\n",
    "    examples['pixel_values'] = [_test_transforms(image.convert(\"RGB\")) for image in examples['image']]\n",
    "    return examples"
   ]
  },
  {
   "cell_type": "code",
   "execution_count": 26,
   "metadata": {},
   "outputs": [
    {
     "data": {
      "text/plain": [
       "torch.Size([3, 256, 256])"
      ]
     },
     "execution_count": 26,
     "metadata": {},
     "output_type": "execute_result"
    }
   ],
   "source": [
    "# Set the transforms for the training data\n",
    "train_data.set_transform(train_transforms)\n",
    "\n",
    "# Set the transforms for the validation data\n",
    "val_data.set_transform(val_transforms)\n",
    "\n",
    "# SEt the transforms for the test data\n",
    "test_data.set_transform(test_transforms)\n",
    "\n",
    "# train_data[0][\"pixel_values\"][\"pixel_values\"].squeeze(0).shape\n",
    "train_data[0][\"pixel_values\"].shape"
   ]
  },
  {
   "cell_type": "markdown",
   "metadata": {},
   "source": [
    "### Collation Function"
   ]
  },
  {
   "cell_type": "code",
   "execution_count": 27,
   "metadata": {},
   "outputs": [],
   "source": [
    "# Define a collate function that prepares batched data for model training.\n",
    "def collate_fn(examples):\n",
    "    # Stack the pixel values from individual examples into a single tensor.\n",
    "    pixel_values = torch.stack([example[\"pixel_values\"] for example in examples])\n",
    "    \n",
    "    # Convert the label strings in examples to corresponding numeric IDs using label2id dictionary.\n",
    "    labels = torch.tensor([example['label'] for example in examples])\n",
    "    \n",
    "    # Return a dictionary containing the batched pixel values and labels.\n",
    "    return {\"pixel_values\": pixel_values, \"labels\": labels}"
   ]
  },
  {
   "cell_type": "markdown",
   "metadata": {},
   "source": [
    "## Loading Model"
   ]
  },
  {
   "cell_type": "code",
   "execution_count": 28,
   "metadata": {},
   "outputs": [],
   "source": [
    "# raise Warning(\"Remember to replace model entry here.\")"
   ]
  },
  {
   "cell_type": "code",
   "execution_count": 29,
   "metadata": {},
   "outputs": [
    {
     "data": {
      "application/vnd.jupyter.widget-view+json": {
       "model_id": "78521cd9db6748d09c780d3220fd76c7",
       "version_major": 2,
       "version_minor": 0
      },
      "text/plain": [
       "config.json:   0%|          | 0.00/70.3k [00:00<?, ?B/s]"
      ]
     },
     "metadata": {},
     "output_type": "display_data"
    },
    {
     "data": {
      "application/vnd.jupyter.widget-view+json": {
       "model_id": "24945d6b12d6443a896cd4e63c64e6d3",
       "version_major": 2,
       "version_minor": 0
      },
      "text/plain": [
       "pytorch_model.bin:   0%|          | 0.00/21.4M [00:00<?, ?B/s]"
      ]
     },
     "metadata": {},
     "output_type": "display_data"
    },
    {
     "name": "stderr",
     "output_type": "stream",
     "text": [
      "Some weights of EfficientNetForImageClassification were not initialized from the model checkpoint at google/efficientnet-b0 and are newly initialized because the shapes did not match:\n",
      "- classifier.weight: found shape torch.Size([1000, 1280]) in the checkpoint and torch.Size([15, 1280]) in the model instantiated\n",
      "- classifier.bias: found shape torch.Size([1000]) in the checkpoint and torch.Size([15]) in the model instantiated\n",
      "You should probably TRAIN this model on a down-stream task to be able to use it for predictions and inference.\n"
     ]
    },
    {
     "name": "stdout",
     "output_type": "stream",
     "text": [
      "4.026763\n"
     ]
    }
   ],
   "source": [
    "# Create a ViTForImageClassification model from a pretrained checkpoint with a specified number of output labels.\n",
    "model = EfficientNetForImageClassification.from_pretrained(MODEL_STR, num_labels=len(labels_list), ignore_mismatched_sizes=True)\n",
    "\n",
    "# Configure the mapping of class labels to their corresponding indices for later reference.\n",
    "model.config.id2label = id2label\n",
    "model.config.label2id = label2id\n",
    "\n",
    "# Calculate and print the number of trainable parameters in millions for the model.\n",
    "print(model.num_parameters(only_trainable=True) / 1e6)"
   ]
  },
  {
   "cell_type": "markdown",
   "metadata": {},
   "source": [
    "## Defining model evaluation metrics"
   ]
  },
  {
   "cell_type": "code",
   "execution_count": 30,
   "metadata": {},
   "outputs": [],
   "source": [
    "import numpy as np\n",
    "from sklearn.metrics import roc_auc_score, precision_recall_fscore_support\n",
    "\n",
    "# Load the accuracy metric\n",
    "accuracy = evaluate.load(\"accuracy\")\n",
    "\n",
    "# Define a function to compute metrics\n",
    "def compute_metrics(eval_pred):\n",
    "    # Extract predictions and true labels\n",
    "    predictions = eval_pred.predictions\n",
    "    label_ids = eval_pred.label_ids\n",
    "\n",
    "    # Convert label_ids to one-hot encoding\n",
    "    num_classes = predictions.shape[1]\n",
    "    label_one_hot = np.eye(num_classes)[label_ids]\n",
    "\n",
    "    # Top-1 Accuracy\n",
    "    top1_predicted_labels = predictions.argmax(axis=1)\n",
    "    top1_accuracy = accuracy.compute(predictions=top1_predicted_labels, references=label_ids)['accuracy']\n",
    "    \n",
    "    # Top-5 Accuracy\n",
    "    top5_predicted_labels = np.argsort(predictions, axis=1)[:, -5:]  # Get indices of top-5 predictions\n",
    "    top5_accuracy = np.mean(\n",
    "        [label_ids[i] in top5_predicted_labels[i] for i in range(len(label_ids))]\n",
    "    )\n",
    "\n",
    "    # Precision, Recall, F1 Score\n",
    "    precision, recall, f1, _ = precision_recall_fscore_support(\n",
    "        y_true=label_ids,\n",
    "        y_pred=top1_predicted_labels,\n",
    "        average='weighted'  # Weighted average considers class imbalance\n",
    "    )\n",
    "    \n",
    "    # AUC-ROC Score (macro-averaged across all classes)\n",
    "    try:\n",
    "        auc_roc = roc_auc_score(label_one_hot, predictions, average='macro', multi_class='ovr')\n",
    "    except ValueError:\n",
    "        # Handle case where AUC-ROC cannot be computed (e.g., single-class batch)\n",
    "        auc_roc = None\n",
    "\n",
    "    # Return all metrics\n",
    "    return {\n",
    "        \"accuracy\": top1_accuracy,         # Top-1 accuracy\n",
    "        \"top5_accuracy\": top5_accuracy,   # Top-5 accuracy\n",
    "        \"precision\": precision,           # Weighted precision\n",
    "        \"recall\": recall,                 # Weighted recall\n",
    "        \"f1_score\": f1,                   # Weighted F1 score\n",
    "        \"auc_roc\": auc_roc                # Macro-averaged AUC-ROC score\n",
    "    }\n"
   ]
  },
  {
   "cell_type": "markdown",
   "metadata": {},
   "source": [
    "## Custom trainer callbacks for logging"
   ]
  },
  {
   "cell_type": "code",
   "execution_count": 31,
   "metadata": {},
   "outputs": [],
   "source": [
    "import torch\n",
    "# from fvcore.nn import FlopCountAnalysis\n",
    "from transformers import TrainerCallback\n",
    "from torch.utils.tensorboard import SummaryWriter\n",
    "\n",
    "class CustomTensorBoardCallback(TrainerCallback):\n",
    "    def __init__(self):\n",
    "        super().__init__()\n",
    "        self.writer = None\n",
    "\n",
    "    def on_train_begin(self, args, state, control, **kwargs):\n",
    "        # Initialize TensorBoard writer\n",
    "        self.writer = SummaryWriter(log_dir=args.logging_dir)\n",
    "        \n",
    "    def on_log(self, args, state, control, logs=None, **kwargs):\n",
    "        # Extract metrics from the log history\n",
    "        # The last element of `state.log_history` contains metrics for the most recent epoch\n",
    "\n",
    "        # Ensures this executes only during training\n",
    "        if state.epoch is None or logs is None:\n",
    "            return\n",
    "        \n",
    "        metrics = logs\n",
    "\n",
    "        # Separate evaluation and other metrics (training loss has no prefix)\n",
    "        evaluation_metrics = {key: value for key, value in metrics.items() if key.startswith('eval_')}\n",
    "        other_metrics = {key: value for key, value in metrics.items() if key == 'learning_rate'}\n",
    "        training_metrics = {key: value for key, value in metrics.items() if key not in evaluation_metrics and key not in other_metrics}\n",
    "\n",
    "        # Log training metrics\n",
    "        for key, value in training_metrics.items():\n",
    "            self.writer.add_scalar(f\"Training/{key}\", value, state.epoch)\n",
    "\n",
    "        # Log evaluation metrics\n",
    "        for key, value in evaluation_metrics.items():\n",
    "            self.writer.add_scalar(f\"Evaluation/{key.replace('eval_', '')}\", value, state.epoch)\n",
    "\n",
    "        # Log learning rate\n",
    "        for key, value in other_metrics.items():\n",
    "            self.writer.add_scalar(f\"LearningRate/{key}\", value, state.epoch)\n",
    "\n",
    "    def on_train_end(self, args, state, control, **kwargs):\n",
    "        # Close TensorBoard writer\n",
    "        if self.writer:\n",
    "            self.writer.close()\n",
    "        \n",
    "early_stopping_callback = EarlyStoppingCallback(early_stopping_patience=3)"
   ]
  },
  {
   "cell_type": "markdown",
   "metadata": {},
   "source": [
    "## Defining custom trainer"
   ]
  },
  {
   "cell_type": "code",
   "execution_count": 32,
   "metadata": {},
   "outputs": [],
   "source": [
    "# Define the name of the evaluation metric to be used during training and evaluation.\n",
    "metric_name = \"accuracy\"\n",
    "\n",
    "# Define the name of the model, which will be used to create a directory for saving model checkpoints and outputs.\n",
    "model_name = f'plantVillage-{MODEL_STR.split(\"/\")[1]}/{datetime.datetime.now().strftime(\"%b%d-%H:%M:%S\")}'\n",
    "\n",
    "# Define the number of training epochs for the model.\n",
    "num_train_epochs = 50\n",
    "\n",
    "# Create an instance of TrainingArguments to configure training settings.\n",
    "training_args = TrainingArguments(\n",
    "    # Specify the directory where model checkpoints and outputs will be saved.\n",
    "    output_dir=f\"./output/{model_name}\",\n",
    "    \n",
    "    # Specify the directory where training logs will be stored.\n",
    "    logging_dir=f'./logs/{model_name}',\n",
    "\n",
    "    logging_strategy='epoch',\n",
    "    \n",
    "    # Define the evaluation strategy, which is performed at the end of each epoch.\n",
    "    eval_strategy=\"epoch\",\n",
    "    \n",
    "    # Set the learning rate for the optimizer.\n",
    "    learning_rate=3e-6,\n",
    "    \n",
    "    # Default optimizer, scheduler (AdamW, Linear)\n",
    "    \n",
    "    # Define the batch size for training on each device.\n",
    "    per_device_train_batch_size=4,\n",
    "    \n",
    "    # Define the batch size for evaluation on each device.\n",
    "    per_device_eval_batch_size=4,\n",
    "\n",
    "    eval_accumulation_steps = 1,\n",
    "    \n",
    "    # Specify the total number of training epochs.\n",
    "    num_train_epochs=num_train_epochs,\n",
    "    \n",
    "    # Apply weight decay to prevent overfitting.\n",
    "    weight_decay=0.02,\n",
    "    \n",
    "    # Set the number of warm-up steps for the learning rate scheduler.\n",
    "    warmup_steps=5,  # A fraction of the total training steps is often used (e.g., 10%).\n",
    "    \n",
    "    # Disable the removal of unused columns from the dataset.\n",
    "    remove_unused_columns=False,\n",
    "    \n",
    "    # Define the strategy for saving model checkpoints (per epoch in this case).\n",
    "    save_strategy='epoch',\n",
    "    \n",
    "    # Load the best model at the end of training.\n",
    "    load_best_model_at_end=True,\n",
    "    \n",
    "    # Limit the total number of saved checkpoints to save space.\n",
    "    save_total_limit=1,\n",
    "\n",
    "    fp16=True,\n",
    "    \n",
    "    # Specify that training progress should be reported to tensorboard.\n",
    "    report_to=\"tensorboard\",\n",
    ")\n"
   ]
  },
  {
   "cell_type": "code",
   "execution_count": 33,
   "metadata": {},
   "outputs": [],
   "source": [
    "early_stopping_callback = EarlyStoppingCallback(early_stopping_patience=3)\n",
    "tensorboard_callback = CustomTensorBoardCallback()\n",
    "\n",
    "# Initialize Trainer with all callbacks\n",
    "trainer = Trainer(\n",
    "    model=model,\n",
    "    args=training_args,\n",
    "    train_dataset=train_data,\n",
    "    eval_dataset=val_data,\n",
    "    data_collator=collate_fn,\n",
    "    compute_metrics=compute_metrics,\n",
    "    callbacks=[early_stopping_callback, tensorboard_callback]\n",
    ")"
   ]
  },
  {
   "cell_type": "code",
   "execution_count": 34,
   "metadata": {},
   "outputs": [
    {
     "data": {
      "text/plain": [
       "device(type='cuda', index=0)"
      ]
     },
     "execution_count": 34,
     "metadata": {},
     "output_type": "execute_result"
    }
   ],
   "source": [
    "DEVICE = trainer.model.device\n",
    "\n",
    "DEVICE"
   ]
  },
  {
   "cell_type": "markdown",
   "metadata": {},
   "source": [
    "## Train"
   ]
  },
  {
   "cell_type": "markdown",
   "metadata": {},
   "source": [
    "### Pre-training evaluation on the val set"
   ]
  },
  {
   "cell_type": "code",
   "execution_count": 35,
   "metadata": {},
   "outputs": [
    {
     "data": {
      "application/vnd.jupyter.widget-view+json": {
       "model_id": "70a4e5fa587f4ac08681082255279cef",
       "version_major": 2,
       "version_minor": 0
      },
      "text/plain": [
       "model.safetensors:   0%|          | 0.00/21.4M [00:00<?, ?B/s]"
      ]
     },
     "metadata": {},
     "output_type": "display_data"
    },
    {
     "data": {
      "application/vnd.jupyter.widget-view+json": {
       "model_id": "566c8dfda7fb4354bcfb58e209c808f8",
       "version_major": 2,
       "version_minor": 0
      },
      "text/plain": [
       "  0%|          | 0/774 [00:00<?, ?it/s]"
      ]
     },
     "metadata": {},
     "output_type": "display_data"
    },
    {
     "data": {
      "text/plain": [
       "{'eval_loss': 2.709735631942749,\n",
       " 'eval_model_preparation_time': 0.0017,\n",
       " 'eval_accuracy': 0.05490956072351421,\n",
       " 'eval_top5_accuracy': 0.36724806201550386,\n",
       " 'eval_precision': 0.10096841176312323,\n",
       " 'eval_recall': 0.05490956072351421,\n",
       " 'eval_f1_score': 0.040071504931438524,\n",
       " 'eval_auc_roc': 0.5455512204619988,\n",
       " 'eval_runtime': 7.9767,\n",
       " 'eval_samples_per_second': 388.13,\n",
       " 'eval_steps_per_second': 97.033}"
      ]
     },
     "execution_count": 35,
     "metadata": {},
     "output_type": "execute_result"
    }
   ],
   "source": [
    "trainer.evaluate()"
   ]
  },
  {
   "cell_type": "code",
   "execution_count": 36,
   "metadata": {},
   "outputs": [],
   "source": [
    "torch.cuda.empty_cache()"
   ]
  },
  {
   "cell_type": "markdown",
   "metadata": {},
   "source": [
    "### Training"
   ]
  },
  {
   "cell_type": "code",
   "execution_count": 37,
   "metadata": {},
   "outputs": [
    {
     "data": {
      "application/vnd.jupyter.widget-view+json": {
       "model_id": "febc2d82521943a3b2fe5cf523e1a68f",
       "version_major": 2,
       "version_minor": 0
      },
      "text/plain": [
       "  0%|          | 0/180600 [00:00<?, ?it/s]"
      ]
     },
     "metadata": {},
     "output_type": "display_data"
    },
    {
     "name": "stdout",
     "output_type": "stream",
     "text": [
      "{'loss': 2.3893, 'grad_norm': 8.418397903442383, 'learning_rate': 2.9401146211135414e-06, 'epoch': 1.0}\n"
     ]
    },
    {
     "data": {
      "application/vnd.jupyter.widget-view+json": {
       "model_id": "744098fc3be746a084817b339ce30ed3",
       "version_major": 2,
       "version_minor": 0
      },
      "text/plain": [
       "  0%|          | 0/774 [00:00<?, ?it/s]"
      ]
     },
     "metadata": {},
     "output_type": "display_data"
    },
    {
     "name": "stdout",
     "output_type": "stream",
     "text": [
      "{'eval_loss': 2.185056686401367, 'eval_model_preparation_time': 0.0017, 'eval_accuracy': 0.24450904392764858, 'eval_top5_accuracy': 0.8200904392764858, 'eval_precision': 0.4354338858883258, 'eval_recall': 0.24450904392764858, 'eval_f1_score': 0.175517762247136, 'eval_auc_roc': 0.864969572989464, 'eval_runtime': 5.8325, 'eval_samples_per_second': 530.822, 'eval_steps_per_second': 132.705, 'epoch': 1.0}\n",
      "{'loss': 1.761, 'grad_norm': 7.007030010223389, 'learning_rate': 2.880146183449154e-06, 'epoch': 2.0}\n"
     ]
    },
    {
     "data": {
      "application/vnd.jupyter.widget-view+json": {
       "model_id": "43c7156b91934cc0ac5342ff64a0937a",
       "version_major": 2,
       "version_minor": 0
      },
      "text/plain": [
       "  0%|          | 0/774 [00:00<?, ?it/s]"
      ]
     },
     "metadata": {},
     "output_type": "display_data"
    },
    {
     "name": "stdout",
     "output_type": "stream",
     "text": [
      "{'eval_loss': 1.590622901916504, 'eval_model_preparation_time': 0.0017, 'eval_accuracy': 0.5587855297157622, 'eval_top5_accuracy': 0.9457364341085271, 'eval_precision': 0.6191052484580973, 'eval_recall': 0.5587855297157622, 'eval_f1_score': 0.5061642652979828, 'eval_auc_roc': 0.9541209519405106, 'eval_runtime': 5.9372, 'eval_samples_per_second': 521.456, 'eval_steps_per_second': 130.364, 'epoch': 2.0}\n",
      "{'loss': 1.2917, 'grad_norm': 8.720768928527832, 'learning_rate': 2.820177745784767e-06, 'epoch': 3.0}\n"
     ]
    },
    {
     "data": {
      "application/vnd.jupyter.widget-view+json": {
       "model_id": "4414f801f7e04ac6a0a29a500be6765a",
       "version_major": 2,
       "version_minor": 0
      },
      "text/plain": [
       "  0%|          | 0/774 [00:00<?, ?it/s]"
      ]
     },
     "metadata": {},
     "output_type": "display_data"
    },
    {
     "name": "stdout",
     "output_type": "stream",
     "text": [
      "{'eval_loss': 0.9559241533279419, 'eval_model_preparation_time': 0.0017, 'eval_accuracy': 0.7206072351421189, 'eval_top5_accuracy': 0.9806201550387597, 'eval_precision': 0.7407306230696572, 'eval_recall': 0.7206072351421189, 'eval_f1_score': 0.682770324710174, 'eval_auc_roc': 0.9753245726626845, 'eval_runtime': 5.3608, 'eval_samples_per_second': 577.527, 'eval_steps_per_second': 144.382, 'epoch': 3.0}\n",
      "{'loss': 0.9977, 'grad_norm': 6.873366832733154, 'learning_rate': 2.76020930812038e-06, 'epoch': 4.0}\n"
     ]
    },
    {
     "data": {
      "application/vnd.jupyter.widget-view+json": {
       "model_id": "d18171108ff8473bb49a9c5ca615d268",
       "version_major": 2,
       "version_minor": 0
      },
      "text/plain": [
       "  0%|          | 0/774 [00:00<?, ?it/s]"
      ]
     },
     "metadata": {},
     "output_type": "display_data"
    },
    {
     "name": "stdout",
     "output_type": "stream",
     "text": [
      "{'eval_loss': 0.9895017743110657, 'eval_model_preparation_time': 0.0017, 'eval_accuracy': 0.6928294573643411, 'eval_top5_accuracy': 0.9618863049095607, 'eval_precision': 0.7416926668003953, 'eval_recall': 0.6928294573643411, 'eval_f1_score': 0.6720313492950476, 'eval_auc_roc': 0.9799791728561866, 'eval_runtime': 5.3295, 'eval_samples_per_second': 580.921, 'eval_steps_per_second': 145.23, 'epoch': 4.0}\n",
      "{'loss': 0.8156, 'grad_norm': 5.166597843170166, 'learning_rate': 2.700240870455993e-06, 'epoch': 5.0}\n"
     ]
    },
    {
     "data": {
      "application/vnd.jupyter.widget-view+json": {
       "model_id": "bf954d7d48e24494aaeb292d06ca4968",
       "version_major": 2,
       "version_minor": 0
      },
      "text/plain": [
       "  0%|          | 0/774 [00:00<?, ?it/s]"
      ]
     },
     "metadata": {},
     "output_type": "display_data"
    },
    {
     "name": "stdout",
     "output_type": "stream",
     "text": [
      "{'eval_loss': 0.9263411164283752, 'eval_model_preparation_time': 0.0017, 'eval_accuracy': 0.6908914728682171, 'eval_top5_accuracy': 0.9518733850129198, 'eval_precision': 0.7301049109542256, 'eval_recall': 0.6908914728682171, 'eval_f1_score': 0.640910684932208, 'eval_auc_roc': 0.9830452606390456, 'eval_runtime': 5.9371, 'eval_samples_per_second': 521.465, 'eval_steps_per_second': 130.366, 'epoch': 5.0}\n",
      "{'loss': 0.7058, 'grad_norm': 13.069167137145996, 'learning_rate': 2.6402724327916055e-06, 'epoch': 6.0}\n"
     ]
    },
    {
     "data": {
      "application/vnd.jupyter.widget-view+json": {
       "model_id": "a0772f7762244c80ba285a345f1cdd17",
       "version_major": 2,
       "version_minor": 0
      },
      "text/plain": [
       "  0%|          | 0/774 [00:00<?, ?it/s]"
      ]
     },
     "metadata": {},
     "output_type": "display_data"
    },
    {
     "name": "stdout",
     "output_type": "stream",
     "text": [
      "{'eval_loss': 0.6080208420753479, 'eval_model_preparation_time': 0.0017, 'eval_accuracy': 0.7978036175710594, 'eval_top5_accuracy': 0.9861111111111112, 'eval_precision': 0.8501898144700587, 'eval_recall': 0.7978036175710594, 'eval_f1_score': 0.7770061898186442, 'eval_auc_roc': 0.9878935825776448, 'eval_runtime': 5.4456, 'eval_samples_per_second': 568.53, 'eval_steps_per_second': 142.133, 'epoch': 6.0}\n",
      "{'loss': 0.6044, 'grad_norm': 9.863414764404297, 'learning_rate': 2.5802873833716325e-06, 'epoch': 7.0}\n"
     ]
    },
    {
     "data": {
      "application/vnd.jupyter.widget-view+json": {
       "model_id": "063fcf0ac9b14c8bb08c834635f4974d",
       "version_major": 2,
       "version_minor": 0
      },
      "text/plain": [
       "  0%|          | 0/774 [00:00<?, ?it/s]"
      ]
     },
     "metadata": {},
     "output_type": "display_data"
    },
    {
     "name": "stdout",
     "output_type": "stream",
     "text": [
      "{'eval_loss': 0.6680094599723816, 'eval_model_preparation_time': 0.0017, 'eval_accuracy': 0.7700258397932817, 'eval_top5_accuracy': 0.9893410852713178, 'eval_precision': 0.8144027199597713, 'eval_recall': 0.7700258397932817, 'eval_f1_score': 0.7618620741992499, 'eval_auc_roc': 0.9878470759648402, 'eval_runtime': 5.8405, 'eval_samples_per_second': 530.092, 'eval_steps_per_second': 132.523, 'epoch': 7.0}\n",
      "{'loss': 0.5574, 'grad_norm': 5.148040294647217, 'learning_rate': 2.5203189457072457e-06, 'epoch': 8.0}\n"
     ]
    },
    {
     "data": {
      "application/vnd.jupyter.widget-view+json": {
       "model_id": "4097328a729d46a38a881b27e7d6d6c9",
       "version_major": 2,
       "version_minor": 0
      },
      "text/plain": [
       "  0%|          | 0/774 [00:00<?, ?it/s]"
      ]
     },
     "metadata": {},
     "output_type": "display_data"
    },
    {
     "name": "stdout",
     "output_type": "stream",
     "text": [
      "{'eval_loss': 0.4366529881954193, 'eval_model_preparation_time': 0.0017, 'eval_accuracy': 0.8627260981912145, 'eval_top5_accuracy': 0.9912790697674418, 'eval_precision': 0.874537145830617, 'eval_recall': 0.8627260981912145, 'eval_f1_score': 0.8476016948034534, 'eval_auc_roc': 0.9940653322567388, 'eval_runtime': 5.779, 'eval_samples_per_second': 535.729, 'eval_steps_per_second': 133.932, 'epoch': 8.0}\n",
      "{'loss': 0.4922, 'grad_norm': 10.41075611114502, 'learning_rate': 2.4603338962872726e-06, 'epoch': 9.0}\n"
     ]
    },
    {
     "data": {
      "application/vnd.jupyter.widget-view+json": {
       "model_id": "d13bf3ab76e24d41a04d710a7d665a20",
       "version_major": 2,
       "version_minor": 0
      },
      "text/plain": [
       "  0%|          | 0/774 [00:00<?, ?it/s]"
      ]
     },
     "metadata": {},
     "output_type": "display_data"
    },
    {
     "name": "stdout",
     "output_type": "stream",
     "text": [
      "{'eval_loss': 0.27757394313812256, 'eval_model_preparation_time': 0.0017, 'eval_accuracy': 0.9098837209302325, 'eval_top5_accuracy': 0.997093023255814, 'eval_precision': 0.9115622682755833, 'eval_recall': 0.9098837209302325, 'eval_f1_score': 0.9053639101550516, 'eval_auc_roc': 0.9951767393721817, 'eval_runtime': 5.1856, 'eval_samples_per_second': 597.034, 'eval_steps_per_second': 149.259, 'epoch': 9.0}\n",
      "{'loss': 0.4744, 'grad_norm': 9.601425170898438, 'learning_rate': 2.4003488468673e-06, 'epoch': 10.0}\n"
     ]
    },
    {
     "data": {
      "application/vnd.jupyter.widget-view+json": {
       "model_id": "043c5acbdcd54fa4ac3ddc29d304e92d",
       "version_major": 2,
       "version_minor": 0
      },
      "text/plain": [
       "  0%|          | 0/774 [00:00<?, ?it/s]"
      ]
     },
     "metadata": {},
     "output_type": "display_data"
    },
    {
     "name": "stdout",
     "output_type": "stream",
     "text": [
      "{'eval_loss': 0.5089805722236633, 'eval_model_preparation_time': 0.0017, 'eval_accuracy': 0.83656330749354, 'eval_top5_accuracy': 0.9922480620155039, 'eval_precision': 0.86286809867001, 'eval_recall': 0.83656330749354, 'eval_f1_score': 0.8256285173252405, 'eval_auc_roc': 0.9944109225727715, 'eval_runtime': 5.1929, 'eval_samples_per_second': 596.193, 'eval_steps_per_second': 149.048, 'epoch': 10.0}\n",
      "{'loss': 0.419, 'grad_norm': 7.559395790100098, 'learning_rate': 2.3403804092029127e-06, 'epoch': 11.0}\n"
     ]
    },
    {
     "data": {
      "application/vnd.jupyter.widget-view+json": {
       "model_id": "23a3106165eb45afaf850451a95a5543",
       "version_major": 2,
       "version_minor": 0
      },
      "text/plain": [
       "  0%|          | 0/774 [00:00<?, ?it/s]"
      ]
     },
     "metadata": {},
     "output_type": "display_data"
    },
    {
     "name": "stdout",
     "output_type": "stream",
     "text": [
      "{'eval_loss': 0.48213526606559753, 'eval_model_preparation_time': 0.0017, 'eval_accuracy': 0.8501291989664083, 'eval_top5_accuracy': 0.9951550387596899, 'eval_precision': 0.8824456892824195, 'eval_recall': 0.8501291989664083, 'eval_f1_score': 0.8361500691476499, 'eval_auc_roc': 0.9941355821182627, 'eval_runtime': 5.2793, 'eval_samples_per_second': 586.436, 'eval_steps_per_second': 146.609, 'epoch': 11.0}\n",
      "{'loss': 0.393, 'grad_norm': 4.845006465911865, 'learning_rate': 2.2804119715385255e-06, 'epoch': 12.0}\n"
     ]
    },
    {
     "data": {
      "application/vnd.jupyter.widget-view+json": {
       "model_id": "5fa80f6a4dad4b7c8d31c9d7ccf1c2b9",
       "version_major": 2,
       "version_minor": 0
      },
      "text/plain": [
       "  0%|          | 0/774 [00:00<?, ?it/s]"
      ]
     },
     "metadata": {},
     "output_type": "display_data"
    },
    {
     "name": "stdout",
     "output_type": "stream",
     "text": [
      "{'eval_loss': 0.5291460752487183, 'eval_model_preparation_time': 0.0017, 'eval_accuracy': 0.8262273901808785, 'eval_top5_accuracy': 0.9861111111111112, 'eval_precision': 0.8572718215730996, 'eval_recall': 0.8262273901808785, 'eval_f1_score': 0.8161475955569093, 'eval_auc_roc': 0.9931530167214654, 'eval_runtime': 5.258, 'eval_samples_per_second': 588.821, 'eval_steps_per_second': 147.205, 'epoch': 12.0}\n",
      "{'train_runtime': 899.6026, 'train_samples_per_second': 802.91, 'train_steps_per_second': 200.755, 'train_loss': 0.9084703931952808, 'epoch': 12.0}\n"
     ]
    },
    {
     "data": {
      "text/plain": [
       "TrainOutput(global_step=43344, training_loss=0.9084703931952808, metrics={'train_runtime': 899.6026, 'train_samples_per_second': 802.91, 'train_steps_per_second': 200.755, 'total_flos': 8.234502424079892e+17, 'train_loss': 0.9084703931952808, 'epoch': 12.0})"
      ]
     },
     "execution_count": 37,
     "metadata": {},
     "output_type": "execute_result"
    }
   ],
   "source": [
    "trainer.train()"
   ]
  },
  {
   "cell_type": "markdown",
   "metadata": {},
   "source": [
    "### Post-training evaluation on the val set"
   ]
  },
  {
   "cell_type": "code",
   "execution_count": 38,
   "metadata": {},
   "outputs": [
    {
     "data": {
      "application/vnd.jupyter.widget-view+json": {
       "model_id": "c61a738df5ca4a3b92d3f8098b76bcaa",
       "version_major": 2,
       "version_minor": 0
      },
      "text/plain": [
       "  0%|          | 0/774 [00:00<?, ?it/s]"
      ]
     },
     "metadata": {},
     "output_type": "display_data"
    },
    {
     "data": {
      "text/plain": [
       "{'eval_loss': 0.27757394313812256,\n",
       " 'eval_model_preparation_time': 0.0017,\n",
       " 'eval_accuracy': 0.9098837209302325,\n",
       " 'eval_top5_accuracy': 0.997093023255814,\n",
       " 'eval_precision': 0.9115622682755833,\n",
       " 'eval_recall': 0.9098837209302325,\n",
       " 'eval_f1_score': 0.9053639101550516,\n",
       " 'eval_auc_roc': 0.9951767393721817,\n",
       " 'eval_runtime': 5.6441,\n",
       " 'eval_samples_per_second': 548.539,\n",
       " 'eval_steps_per_second': 137.135,\n",
       " 'epoch': 12.0}"
      ]
     },
     "execution_count": 38,
     "metadata": {},
     "output_type": "execute_result"
    }
   ],
   "source": [
    "trainer.evaluate()"
   ]
  },
  {
   "cell_type": "markdown",
   "metadata": {},
   "source": [
    "## Evaluation"
   ]
  },
  {
   "cell_type": "code",
   "execution_count": 39,
   "metadata": {},
   "outputs": [
    {
     "data": {
      "application/vnd.jupyter.widget-view+json": {
       "model_id": "faed9b7bfc174762ab6cd12798a4fa26",
       "version_major": 2,
       "version_minor": 0
      },
      "text/plain": [
       "  0%|          | 0/774 [00:00<?, ?it/s]"
      ]
     },
     "metadata": {},
     "output_type": "display_data"
    },
    {
     "name": "stdout",
     "output_type": "stream",
     "text": [
      "{'test_loss': 0.28801867365837097, 'test_model_preparation_time': 0.0017, 'test_accuracy': 0.9031007751937985, 'test_top5_accuracy': 0.9977390180878553, 'test_precision': 0.904882549956054, 'test_recall': 0.9031007751937985, 'test_f1_score': 0.8993185742227042, 'test_auc_roc': 0.9947723176053136, 'test_runtime': 6.3731, 'test_samples_per_second': 485.792, 'test_steps_per_second': 121.448}\n"
     ]
    }
   ],
   "source": [
    "# Use the trained 'trainer' to make predictions on the 'test_data'.\n",
    "outputs = trainer.predict(test_data)\n",
    "\n",
    "# Print the metrics obtained from the prediction outputs.\n",
    "print(outputs.metrics)"
   ]
  },
  {
   "cell_type": "code",
   "execution_count": 40,
   "metadata": {},
   "outputs": [
    {
     "name": "stdout",
     "output_type": "stream",
     "text": [
      "Accuracy: 0.9031\n",
      "F1 Score (Macro): 0.8301\n",
      "Top-5 Accuracy: 0.9977\n",
      "Precision (Macro): 0.8353\n",
      "Recall (Macro): 0.8361\n",
      "F1 Score (Macro): 0.8301\n",
      "Precision (Weighted): 0.9049\n",
      "Recall (Weighted): 0.9031\n",
      "F1 Score (Weighted): 0.8993\n"
     ]
    },
    {
     "data": {
      "image/png": "[encoded data removed]",
      "text/plain": [
       "<Figure size 1200x1000 with 2 Axes>"
      ]
     },
     "metadata": {},
     "output_type": "display_data"
    },
    {
     "name": "stdout",
     "output_type": "stream",
     "text": [
      "\n",
      "Classification report:\n",
      "\n",
      "                                             precision    recall  f1-score   support\n",
      "\n",
      "              Pepper__bell___Bacterial_spot     0.8314    0.9597    0.8910       149\n",
      "                     Pepper__bell___healthy     0.9567    1.0000    0.9779       221\n",
      "                      Potato___Early_blight     0.9735    0.9800    0.9767       150\n",
      "                       Potato___Late_blight     0.7889    0.9467    0.8606       150\n",
      "                           Potato___healthy     0.0000    0.0000    0.0000        23\n",
      "                      Tomato_Bacterial_spot     1.0000    0.7524    0.8587       319\n",
      "                        Tomato_Early_blight     0.7205    0.7733    0.7460       150\n",
      "                         Tomato_Late_blight     0.9874    0.8223    0.8973       287\n",
      "                           Tomato_Leaf_Mold     0.7326    0.9580    0.8303       143\n",
      "                  Tomato_Septoria_leaf_spot     0.9091    0.9023    0.9057       266\n",
      "Tomato_Spider_mites_Two_spotted_spider_mite     0.8996    0.9603    0.9290       252\n",
      "                        Tomato__Target_Spot     0.8698    0.8905    0.8800       210\n",
      "      Tomato__Tomato_YellowLeaf__Curl_Virus     0.9305    1.0000    0.9640       482\n",
      "                Tomato__Tomato_mosaic_virus     0.9474    0.6429    0.7660        56\n",
      "                             Tomato_healthy     0.9827    0.9538    0.9680       238\n",
      "\n",
      "                                   accuracy                         0.9031      3096\n",
      "                                  macro avg     0.8353    0.8361    0.8301      3096\n",
      "                               weighted avg     0.9049    0.9031    0.8993      3096\n",
      "\n"
     ]
    }
   ],
   "source": [
    "# Extract the true labels from the model outputs\n",
    "y_true = outputs.label_ids\n",
    "\n",
    "# Predict the labels by selecting the class with the highest probability\n",
    "y_pred = outputs.predictions.argmax(1)\n",
    "\n",
    "# Define a function to plot a confusion matrix\n",
    "def plot_confusion_matrix(cm, classes, title='Confusion Matrix', cmap=plt.cm.Blues, figsize=(10, 8)):\n",
    "    \"\"\"\n",
    "    This function plots a confusion matrix.\n",
    "\n",
    "    Parameters:\n",
    "        cm (array-like): Confusion matrix as returned by sklearn.metrics.confusion_matrix.\n",
    "        classes (list): List of class names, e.g., ['Class 0', 'Class 1'].\n",
    "        title (str): Title for the plot.\n",
    "        cmap (matplotlib colormap): Colormap for the plot.\n",
    "    \"\"\"\n",
    "    # Create a figure with a specified size\n",
    "    plt.figure(figsize=figsize)\n",
    "    \n",
    "    # Display the confusion matrix as an image with a colormap\n",
    "    plt.imshow(cm, interpolation='nearest', cmap=cmap)\n",
    "    plt.title(title)\n",
    "    plt.colorbar()\n",
    "\n",
    "    # Define tick marks and labels for the classes on the axes\n",
    "    tick_marks = np.arange(len(classes))\n",
    "    plt.xticks(tick_marks, classes, rotation=90)\n",
    "    plt.yticks(tick_marks, classes)\n",
    "\n",
    "    fmt = '.0f'\n",
    "    # Add text annotations to the plot indicating the values in the cells\n",
    "    thresh = cm.max() / 2.0\n",
    "    for i, j in itertools.product(range(cm.shape[0]), range(cm.shape[1])):\n",
    "        plt.text(j, i, format(cm[i, j], fmt), horizontalalignment=\"center\", color=\"white\" if cm[i, j] > thresh else \"black\")\n",
    "\n",
    "    # Label the axes\n",
    "    plt.ylabel('True label')\n",
    "    plt.xlabel('Predicted label')\n",
    "\n",
    "    # Ensure the plot layout is tight\n",
    "    plt.tight_layout()\n",
    "    # Display the plot\n",
    "    plt.show()\n",
    "\n",
    "accuracy = accuracy_score(y_true, y_pred)\n",
    "f1 = f1_score(y_true, y_pred, average='macro')\n",
    "\n",
    "# Calculate Top-5 accuracy\n",
    "y_pred_tensor = torch.Tensor(outputs.predictions)\n",
    "y_true_tensor = torch.Tensor(outputs.label_ids)\n",
    "top_5_accuracy = (y_pred_tensor.topk(5, dim=1).indices == y_true_tensor.unsqueeze(1)).any(dim=1).float().mean().item()\n",
    "\n",
    "# Calculate Precision, Recall, and F1 Score (macro average)\n",
    "precision, recall, f1_macro, _ = precision_recall_fscore_support(y_true, y_pred, average='macro', zero_division=0)\n",
    "\n",
    "# Calculate Precision, Recall, and F1 Score (weighted average)\n",
    "precision_weighted, recall_weighted, f1_weighted, _ = precision_recall_fscore_support(y_true, y_pred, average='weighted', zero_division=0)\n",
    "\n",
    "# Print the calculated metrics\n",
    "print(f\"Accuracy: {accuracy:.4f}\")\n",
    "print(f\"F1 Score (Macro): {f1:.4f}\")\n",
    "print(f\"Top-5 Accuracy: {top_5_accuracy:.4f}\")\n",
    "print(f\"Precision (Macro): {precision:.4f}\")\n",
    "print(f\"Recall (Macro): {recall:.4f}\")\n",
    "print(f\"F1 Score (Macro): {f1_macro:.4f}\")\n",
    "print(f\"Precision (Weighted): {precision_weighted:.4f}\")\n",
    "print(f\"Recall (Weighted): {recall_weighted:.4f}\")\n",
    "print(f\"F1 Score (Weighted): {f1_weighted:.4f}\")\n",
    "\n",
    "# Get the confusion matrix if there are a small number of labels\n",
    "if len(labels_list) <= 250:\n",
    "    # Compute the confusion matrix\n",
    "    cm = confusion_matrix(y_true, y_pred)\n",
    "\n",
    "    # Plot the confusion matrix using the defined function\n",
    "    plot_confusion_matrix(cm, labels_list, figsize=(12, 10))\n",
    "    \n",
    "# Finally, display classification report\n",
    "# Comment out if this produces errors\n",
    "print()\n",
    "print(\"Classification report:\")\n",
    "print()\n",
    "print(classification_report(y_true, y_pred, target_names=labels_list, digits=4))"
   ]
  },
  {
   "cell_type": "markdown",
   "metadata": {},
   "source": [
    "## Train data logs"
   ]
  },
  {
   "cell_type": "markdown",
   "metadata": {},
   "source": [
    "### Instructions\n",
    "Download your output folder, specifically the logs folder, and share with Naveed."
   ]
  },
  {
   "cell_type": "code",
   "execution_count": 41,
   "metadata": {},
   "outputs": [],
   "source": [
    "\n",
    "# # Plot learning rate\n",
    "# plt.figure()\n",
    "# plt.plot(range(len(lr_callback.lrs)), lr_callback.lrs)\n",
    "# plt.xlabel(\"Steps\")\n",
    "# plt.ylabel(\"Learning Rate\")\n",
    "# plt.title(\"Learning Rate Schedule\")\n",
    "# plt.show()\n",
    "\n",
    "# # Plot accuracy\n",
    "# plt.figure()\n",
    "# epochs = range(1, len(accuracy_callback.val_accuracies) + 1)\n",
    "# plt.plot(epochs, accuracy_callback.train_accuracies, label=\"Training Accuracy\")\n",
    "# plt.plot(epochs, accuracy_callback.val_accuracies, label=\"Validation Accuracy\")\n",
    "# plt.xlabel(\"Epochs\")\n",
    "# plt.ylabel(\"Accuracy\")\n",
    "# plt.legend()\n",
    "# plt.title(\"Training and Validation Accuracy\")\n",
    "# plt.show()\n",
    "\n",
    "# # Plot GPU usage\n",
    "# plt.figure()\n",
    "# plt.plot(range(len(gpu_callback.gpu_usage)), gpu_callback.gpu_usage)\n",
    "# plt.xlabel(\"Steps\")\n",
    "# plt.ylabel(\"GPU Memory Usage (MB)\")\n",
    "# plt.title(\"GPU Usage During Training\")\n",
    "# plt.show()"
   ]
  }
 ],
 "metadata": {
  "kaggle": {
   "accelerator": "nvidiaTeslaT4",
   "dataSources": [
    {
     "datasetId": 70909,
     "sourceId": 150545,
     "sourceType": "datasetVersion"
    }
   ],
   "dockerImageVersionId": 30823,
   "isGpuEnabled": true,
   "isInternetEnabled": true,
   "language": "python",
   "sourceType": "notebook"
  },
  "kernelspec": {
   "display_name": "kvit",
   "language": "python",
   "name": "python3"
  },
  "language_info": {
   "codemirror_mode": {
    "name": "ipython",
    "version": 3
   },
   "file_extension": ".py",
   "mimetype": "text/x-python",
   "name": "python",
   "nbconvert_exporter": "python",
   "pygments_lexer": "ipython3",
   "version": "3.9.21"
  }
 },
 "nbformat": 4,
 "nbformat_minor": 4
}
